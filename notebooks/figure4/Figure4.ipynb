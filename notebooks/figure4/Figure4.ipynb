{
 "cells": [
  {
   "cell_type": "code",
   "execution_count": 15,
   "id": "3360acc1-7171-43b7-8e65-7b1a52be52d6",
   "metadata": {},
   "outputs": [],
   "source": [
    "import matplotlib as mp\n",
    "font_size=  12\n",
    "mp.rcParams['axes.labelsize'] = font_size\n",
    "mp.rcParams['axes.titlesize'] = font_size\n",
    "mp.rcParams['legend.fontsize'] = font_size\n",
    "mp.rcParams['xtick.labelsize'] = font_size\n",
    "mp.rcParams['ytick.labelsize'] = font_size"
   ]
  },
  {
   "cell_type": "code",
   "execution_count": 16,
   "id": "934cbfe4-8ae3-4aca-91cb-e91b32fcb847",
   "metadata": {},
   "outputs": [],
   "source": [
    "import os\n",
    "import numpy as np\n",
    "import pandas as pd\n",
    "import pyranges as pr\n",
    "import scanpy as sc\n",
    "import scipy\n",
    "import seaborn as sns\n",
    "import pickle\n",
    "from itertools import chain\n",
    "from matplotlib import pyplot as plt\n",
    "\n",
    "from scooby.utils.transcriptome import Transcriptome"
   ]
  },
  {
   "cell_type": "code",
   "execution_count": 17,
   "id": "e795bae4-107d-4ba1-abe0-ae4865b05bf2",
   "metadata": {},
   "outputs": [],
   "source": [
    "data_path = '/s/project/QNA/scborzoi/submission_data/'"
   ]
  },
  {
   "cell_type": "markdown",
   "id": "e1101058-14e1-40f1-911f-68c4fa6dda6a",
   "metadata": {},
   "source": [
    "### Specify genome"
   ]
  },
  {
   "cell_type": "code",
   "execution_count": 18,
   "id": "65883b11-9fda-48da-b6d5-bfbf50f2c876",
   "metadata": {
    "tags": []
   },
   "outputs": [],
   "source": [
    "gtf_file = os.path.join(data_path, \"gencode.v32.annotation.sorted.gtf.gz\")\n",
    "fasta_file = os.path.join(data_path, \"scooby_training_data\", \"genome_human.fa\")\n",
    "bed_file = os.path.join(data_path, \"scooby_training_data\", \"sequences.bed\")"
   ]
  },
  {
   "cell_type": "code",
   "execution_count": 19,
   "id": "9fdb1feb-02dc-48e9-ac2c-c620a61ac1ac",
   "metadata": {},
   "outputs": [],
   "source": [
    "transcriptome = Transcriptome(gtf_file)"
   ]
  },
  {
   "cell_type": "code",
   "execution_count": 20,
   "id": "a55c2f65-6637-4c7e-b6d3-5a053a074e88",
   "metadata": {},
   "outputs": [],
   "source": [
    "gtf = pr.read_gtf(gtf_file, duplicate_attr = True)"
   ]
  },
  {
   "cell_type": "code",
   "execution_count": 21,
   "id": "c12008ee-7c75-4eac-b180-1c27a59f1477",
   "metadata": {
    "tags": []
   },
   "outputs": [],
   "source": [
    "cell_type_index = pd.read_parquet(os.path.join(data_path,  'scooby_training_data', 'celltype_fixed.pq'))\n",
    "cell_type_index['size'] = cell_type_index['cellindex'].apply(lambda x: len(x))"
   ]
  },
  {
   "cell_type": "code",
   "execution_count": 22,
   "id": "e6aea366-95ed-4b1f-bbda-09c0ed320915",
   "metadata": {
    "tags": []
   },
   "outputs": [],
   "source": [
    "cell_type_index['celltype_name'] = cell_type_index['celltype'].copy()\n",
    "cell_type_index['celltype'] = cell_type_index['celltype'].str.replace(' ', '_').replace(r\"G/M_prog\", \"G+M_prog\").replace(\"MK/E_prog\", \"MK+E_prog\")\n",
    "cell_type_index = cell_type_index.sort_values('celltype')"
   ]
  },
  {
   "cell_type": "code",
   "execution_count": 23,
   "id": "6472c38e-697a-40d0-8c1b-036ec8fd472e",
   "metadata": {
    "tags": []
   },
   "outputs": [],
   "source": [
    "cell_type_index = cell_type_index.reset_index(drop=True)"
   ]
  },
  {
   "cell_type": "code",
   "execution_count": 24,
   "id": "79ea4ff6-b761-487d-81b7-661881b8f765",
   "metadata": {
    "tags": []
   },
   "outputs": [],
   "source": [
    "context_length = 524288 \n",
    "clip_soft=5"
   ]
  },
  {
   "cell_type": "markdown",
   "id": "b8b1fd34-b3c2-46d8-ade1-0c3db29b4f17",
   "metadata": {},
   "source": [
    "### Read in adata"
   ]
  },
  {
   "cell_type": "code",
   "execution_count": 25,
   "id": "e971c0aa-da70-4ad3-b07b-ce72222d5438",
   "metadata": {},
   "outputs": [],
   "source": [
    "adata = sc.read(\n",
    "    os.path.join(data_path, 'bmmc_multiome_multivi_neurips21_curated_new_palantir_fixed_GEX.h5ad')\n",
    ")"
   ]
  },
  {
   "cell_type": "code",
   "execution_count": 26,
   "id": "18b92849-da95-4e31-adaf-ab58e638f676",
   "metadata": {},
   "outputs": [],
   "source": [
    "ct_colors = dict(zip(adata.obs.l2_cell_type.cat.categories, adata.uns['l2_cell_type_colors']))"
   ]
  },
  {
   "cell_type": "markdown",
   "id": "cba914d0-1f95-44e8-95e9-17d7c349b2bd",
   "metadata": {},
   "source": [
    "### Read in predicted SNPs"
   ]
  },
  {
   "cell_type": "code",
   "execution_count": 28,
   "id": "6dfd0df8-49dc-4b5f-889a-9c761e1ded55",
   "metadata": {},
   "outputs": [],
   "source": [
    "snp_preds = pd.read_pickle(os.path.join(data_path, \"eQTL_preds\", \"susie_snps_preds_fixed.pickle\")).iloc[:15900]"
   ]
  },
  {
   "cell_type": "code",
   "execution_count": 29,
   "id": "c846df0c-a8f6-4650-81de-684fd3e02197",
   "metadata": {},
   "outputs": [],
   "source": [
    "snp_preds_2 = pd.read_pickle(os.path.join(data_path, \"eQTL_preds\", \"susie_snps_preds_fixed_16k.pickle\"))"
   ]
  },
  {
   "cell_type": "code",
   "execution_count": 30,
   "id": "4858b49c-44f4-4776-8cd3-0d06874e382f",
   "metadata": {},
   "outputs": [],
   "source": [
    "snp_preds = pd.concat([snp_preds, snp_preds_2])"
   ]
  },
  {
   "cell_type": "code",
   "execution_count": 31,
   "id": "7f697bf5-7e65-4320-ac51-1ac6fd45eb29",
   "metadata": {},
   "outputs": [],
   "source": [
    "snp_preds = snp_preds.dropna()"
   ]
  },
  {
   "cell_type": "code",
   "execution_count": 32,
   "id": "a49de471-43dd-485b-bab7-8d8c38add49a",
   "metadata": {},
   "outputs": [],
   "source": [
    "snp_preds = snp_preds.rename({'gene_name' : 'Gene', 'variant_hg38' : 'snp_id'}, axis = 1)"
   ]
  },
  {
   "cell_type": "code",
   "execution_count": 33,
   "id": "f59c8a10-788b-442e-b378-18fd3ed70f38",
   "metadata": {},
   "outputs": [],
   "source": [
    "filter_ = snp_preds.groupby(['snp_id', 'Gene']).size().index[(snp_preds.groupby(['snp_id', 'Gene']).size() ==12).values]"
   ]
  },
  {
   "cell_type": "code",
   "execution_count": 34,
   "id": "ab3d782e-4ba6-4faf-a540-19e6998a9c5f",
   "metadata": {},
   "outputs": [],
   "source": [
    "snp_preds = snp_preds.set_index(['snp_id', 'Gene']).loc[filter_].reset_index()"
   ]
  },
  {
   "cell_type": "code",
   "execution_count": 35,
   "id": "888b43f4-0ffc-4fb6-a97b-15bcadc1df0a",
   "metadata": {},
   "outputs": [],
   "source": [
    "# signed difference\n",
    "def celltype_difference(df):\n",
    "    # pseudobulk\n",
    "    df['pred'] = df.apply((lambda x: np.array([np.log2(x['pred'][cellindex].sum() + 1) for cellindex in cell_type_index.cellindex])), axis=1)\n",
    "    ref = df.query(\"type == 'ref'\")['pred'].item()\n",
    "\n",
    "    #df.loc[:, 'difference'] = df['pred'].apply(lambda x: x - ref)\n",
    "    df.loc[:, 'difference'] = df['pred'].apply(lambda x: x - ref)\n",
    "    df = df.groupby('type').agg({'difference': 'mean',}) # mean over decoy\n",
    "\n",
    "    return df"
   ]
  },
  {
   "cell_type": "code",
   "execution_count": 36,
   "id": "63512b57-e278-4c40-8894-810e66e1a8ca",
   "metadata": {},
   "outputs": [],
   "source": [
    "def all_difference(df):\n",
    "    # pseudobulk\n",
    "    df['pred'] = df.apply(lambda x: np.array(np.log2(x['pred'].sum() + 1) ), axis=1)\n",
    "    df['pred_sum'] = df.apply(lambda x: np.array(x['pred'].sum() ), axis=1)\n",
    "    ref = df.query(\"type == 'ref'\")['pred'].item()\n",
    "\n",
    "    #df.loc[:, 'difference'] = df['pred'].apply(lambda x: x - ref)\n",
    "    df.loc[:, 'difference'] = df['pred'].apply(lambda x: x - ref)\n",
    "    df = df.groupby('type').agg({'difference': 'mean',}) # mean over decoy\n",
    "\n",
    "    return df"
   ]
  },
  {
   "cell_type": "code",
   "execution_count": 37,
   "id": "526deac6-eb1f-4de7-a89f-7992e9961ab5",
   "metadata": {},
   "outputs": [],
   "source": [
    "ct_differences = snp_preds.groupby(['snp_id', 'Gene']).apply(celltype_difference)"
   ]
  },
  {
   "cell_type": "code",
   "execution_count": 38,
   "id": "8d9aae22-7e8c-4088-8450-cf8e795b8b69",
   "metadata": {},
   "outputs": [],
   "source": [
    "ct_differences = ct_differences['difference'].apply(lambda x: pd.Series(x, index=cell_type_index.celltype_name)).reset_index()"
   ]
  },
  {
   "cell_type": "code",
   "execution_count": 39,
   "id": "372c4e48-4853-4cd1-bf49-f7262240119a",
   "metadata": {},
   "outputs": [],
   "source": [
    "all_differences = snp_preds.groupby(['snp_id', 'Gene']).apply(all_difference)"
   ]
  },
  {
   "cell_type": "code",
   "execution_count": 40,
   "id": "e75dc455-bffc-4934-9793-9b4b8cac732b",
   "metadata": {},
   "outputs": [],
   "source": [
    "all_differences = all_differences['difference'].apply(lambda x: pd.Series(x, index=['all'])).reset_index()"
   ]
  },
  {
   "cell_type": "markdown",
   "id": "48eaa401-efe2-47c0-a208-18c6d931d2a9",
   "metadata": {},
   "source": [
    "## Correlation with effect size"
   ]
  },
  {
   "cell_type": "code",
   "execution_count": 41,
   "id": "33f88f04-6298-4dfc-89b2-4d929c2f12c9",
   "metadata": {},
   "outputs": [],
   "source": [
    "ct_colors.update({'all': 'gray'})"
   ]
  },
  {
   "cell_type": "code",
   "execution_count": 42,
   "id": "f067cfb8-d841-4df9-935a-883f28b1e377",
   "metadata": {},
   "outputs": [],
   "source": [
    "%matplotlib inline"
   ]
  },
  {
   "cell_type": "code",
   "execution_count": 43,
   "id": "e2e17a38-8253-461f-aae5-05a041fc4b4e",
   "metadata": {},
   "outputs": [
    {
     "data": {
      "image/png": "[encoded data removed]",
      "text/plain": [
       "<Figure size 500x500 with 1 Axes>"
      ]
     },
     "metadata": {},
     "output_type": "display_data"
    }
   ],
   "source": [
    "corr={}\n",
    "auc = {}\n",
    "sns.set_style(\"whitegrid\")\n",
    "fig, ax = plt.subplots(figsize=(5,5))\n",
    "for ct in cell_type_index['celltype_name'].tolist() + ['all']:\n",
    "    if ct not in ['all']:\n",
    "        continue\n",
    "    if ct !='all':\n",
    "        sns_df = ct_differences.query(\"type != 'ref'\").set_index(['snp_id', 'Gene'])[[ct, 'type']].melt(id_vars='type', ignore_index=False).reset_index().pivot(columns='type', values='value', index=['celltype_name', 'snp_id', 'Gene'])\n",
    "    else:\n",
    "        sns_df = all_differences.query(\"type != 'ref'\").set_index(['snp_id', 'Gene'])[['all', 'type']].melt(id_vars='type', ignore_index=False).reset_index().pivot(columns='type', values='value', index=['variable', 'snp_id', 'Gene'])\n",
    "    sns_df = sns_df.join(snp_preds.set_index(['snp_id', 'Gene']).query(\"type=='eSNP'\").drop('pred', axis=1), on=['snp_id', 'Gene'])\n",
    "    # break\n",
    "\n",
    "    sns_df['eSNP'] = sns_df['eSNP'].clip(lower=-2.9)\n",
    "    sns.scatterplot(data=sns_df, y='eSNP', x='beta_posterior',  alpha=0.6, s = 10, ax=ax)\n",
    "    ax.set_xlabel('eQTL Beta')\n",
    "    ax.set_ylabel('Predicted SNP effect')\n",
    "    ax.set_ylim((-3,2))\n",
    "    corr.update({ct: scipy.stats.spearmanr(sns_df['eSNP'], sns_df['beta_posterior'])[0]})\n",
    "    quadrant_1 = sum(np.logical_and(sns_df['eSNP'] < 0, sns_df['beta_posterior'] < 0))/len(sns_df)\n",
    "    quadrant_2 = sum(np.logical_and(sns_df['eSNP'] > 0, sns_df['beta_posterior'] < 0))/len(sns_df)\n",
    "    quadrant_3 = sum(np.logical_and(sns_df['eSNP'] < 0, sns_df['beta_posterior'] > 0))/len(sns_df)\n",
    "    quadrant_4 = sum(np.logical_and(sns_df['eSNP'] > 0, sns_df['beta_posterior'] > 0))/len(sns_df)\n",
    "    fig.text(0.02, 0.07, f\"{(quadrant_1 * 100):.1f}%\", ha='left', va='bottom', fontsize=10, transform=ax.transAxes, color = '#4c72b0')\n",
    "    fig.text(0.02, 0.90, f\"{(quadrant_2 * 100):.1f}%\", ha='left', va='bottom', fontsize=10, transform=ax.transAxes, color = '#4c72b0')\n",
    "    fig.text(0.98, 0.07, f\"{(quadrant_3 * 100):.1f}%\", ha='right', va='bottom', fontsize=10, transform=ax.transAxes, color = '#4c72b0')\n",
    "    fig.text(0.98, 0.90, f\"{(quadrant_4 * 100):.1f}%\", ha='right', va='bottom', fontsize=10, transform=ax.transAxes, color = '#4c72b0')\n",
    "\n",
    "\n",
    "    quadrant_1 = sum(np.logical_and(sns_df['eSNP'] < -0.05, sns_df['beta_posterior'] < -0.05))/len(sns_df)\n",
    "    quadrant_2 = sum(np.logical_and(sns_df['eSNP'] > 0.05, sns_df['beta_posterior'] < -0.05))/len(sns_df)\n",
    "    quadrant_3 = sum(np.logical_and(sns_df['eSNP'] < -0.05, sns_df['beta_posterior'] > 0.05))/len(sns_df)\n",
    "    quadrant_4 = sum(np.logical_and(sns_df['eSNP'] > 0.05, sns_df['beta_posterior'] > 0.05))/len(sns_df)\n",
    "    fig.text(0.02, 0.02, f\"{(quadrant_1 * 100):.1f}%\", ha='left', va='bottom', fontsize=10, transform=ax.transAxes, color = 'r')\n",
    "    fig.text(0.02, 0.95, f\"{(quadrant_2 * 100):.1f}%\", ha='left', va='bottom', fontsize=10, transform=ax.transAxes, color = 'r')\n",
    "    fig.text(0.98, 0.02, f\"{(quadrant_3 * 100):.1f}%\", ha='right', va='bottom', fontsize=10, transform=ax.transAxes, color = 'r')\n",
    "    fig.text(0.98, 0.95, f\"{(quadrant_4 * 100):.1f}%\", ha='right', va='bottom', fontsize=10, transform=ax.transAxes, color = 'r')\n",
    "\n",
    "    # ax.axvline(0.05, linestyle = ':', color ='r')\n",
    "    # ax.axvline(-0.05, linestyle = ':', color ='r')\n",
    "    ax.axhline(0.05, linestyle = ':', color ='r')\n",
    "    ax.axhline(-0.05, linestyle = ':', color ='r')\n",
    "    red_corr = scipy.stats.spearmanr(sns_df[(sns_df['eSNP'] > 0.05) | (sns_df['eSNP'] < -0.05)]['eSNP'], sns_df[(sns_df['eSNP'] > 0.05) | (sns_df['eSNP'] < -0.05)]['beta_posterior'])[0]\n",
    "    fig.text(0.98, 0.25, f\"Spearman corr: {np.round(corr[ct],3)}\\nn = {len(sns_df)}\", ha='right', va='bottom', fontsize=10, transform=ax.transAxes, color = '#4c72b0')\n",
    "    fig.text(0.98, 0.15, f\"Spearman corr: {np.round(red_corr,3)}\\nn = {len(sns_df[(sns_df['eSNP'] > 0.05) | (sns_df['eSNP'] < -0.05)])}\", ha='right', va='bottom', fontsize=10, transform=ax.transAxes, color = 'r')\n",
    "    \n",
    "# fig.savefig('../figures/figures/Figure4/effect_size_correlation.png', dpi=300, bbox_inches ='tight')\n",
    "    "
   ]
  },
  {
   "cell_type": "code",
   "execution_count": 47,
   "id": "6e4b4437-9ae8-4a80-a693-d0da5676f114",
   "metadata": {},
   "outputs": [],
   "source": [
    "transcripts = gtf.df[(gtf.df.Feature == 'transcript') ]\n",
    "def select_transcript(df):\n",
    "    if df.tag.str.contains('MANE_Select').any():\n",
    "        return df[df.tag.str.contains('MANE_Select').fillna(False)]\n",
    "    elif not df.tag.str.contains('MANE_Select').any() and df.tag.str.contains('appris_principal_1').any():\n",
    "        return df[df.tag.str.contains('appris_principal_1').fillna(False)]\n",
    "    elif not df.tag.str.contains('MANE_Select').any() and not df.tag.str.contains('appris_principal_1').any() and df.tag.str.contains('basic').any():\n",
    "        return df[df.tag.str.contains('basic').fillna(False)]"
   ]
  },
  {
   "cell_type": "code",
   "execution_count": 48,
   "id": "b4d12365-53db-4adf-9406-3423815ec02c",
   "metadata": {},
   "outputs": [],
   "source": [
    "principal_transcripts = transcripts.groupby('gene_id').apply(select_transcript)\n",
    "principal_transcripts = principal_transcripts.drop_duplicates('gene_name')"
   ]
  },
  {
   "cell_type": "code",
   "execution_count": 49,
   "id": "930e00ea-0a2c-48f0-93a8-8229a5941150",
   "metadata": {},
   "outputs": [
    {
     "data": {
      "text/html": [
       "<div>\n",
       "<style scoped>\n",
       "    .dataframe tbody tr th:only-of-type {\n",
       "        vertical-align: middle;\n",
       "    }\n",
       "\n",
       "    .dataframe tbody tr th {\n",
       "        vertical-align: top;\n",
       "    }\n",
       "\n",
       "    .dataframe thead th {\n",
       "        text-align: right;\n",
       "    }\n",
       "</style>\n",
       "<table border=\"1\" class=\"dataframe\">\n",
       "  <thead>\n",
       "    <tr style=\"text-align: right;\">\n",
       "      <th></th>\n",
       "      <th></th>\n",
       "      <th>Chromosome</th>\n",
       "      <th>Source</th>\n",
       "      <th>Feature</th>\n",
       "      <th>Start</th>\n",
       "      <th>End</th>\n",
       "      <th>Score</th>\n",
       "      <th>Strand</th>\n",
       "      <th>Frame</th>\n",
       "      <th>gene_id</th>\n",
       "      <th>gene_type</th>\n",
       "      <th>...</th>\n",
       "      <th>transcript_name</th>\n",
       "      <th>transcript_support_level</th>\n",
       "      <th>tag</th>\n",
       "      <th>havana_transcript</th>\n",
       "      <th>exon_number</th>\n",
       "      <th>exon_id</th>\n",
       "      <th>ont</th>\n",
       "      <th>protein_id</th>\n",
       "      <th>ccdsid</th>\n",
       "      <th>gene_id_split</th>\n",
       "    </tr>\n",
       "    <tr>\n",
       "      <th>gene_id</th>\n",
       "      <th></th>\n",
       "      <th></th>\n",
       "      <th></th>\n",
       "      <th></th>\n",
       "      <th></th>\n",
       "      <th></th>\n",
       "      <th></th>\n",
       "      <th></th>\n",
       "      <th></th>\n",
       "      <th></th>\n",
       "      <th></th>\n",
       "      <th></th>\n",
       "      <th></th>\n",
       "      <th></th>\n",
       "      <th></th>\n",
       "      <th></th>\n",
       "      <th></th>\n",
       "      <th></th>\n",
       "      <th></th>\n",
       "      <th></th>\n",
       "      <th></th>\n",
       "      <th></th>\n",
       "    </tr>\n",
       "  </thead>\n",
       "  <tbody>\n",
       "    <tr>\n",
       "      <th>ENSG00000000003.15</th>\n",
       "      <th>2871237</th>\n",
       "      <td>chrX</td>\n",
       "      <td>HAVANA</td>\n",
       "      <td>transcript</td>\n",
       "      <td>100627107</td>\n",
       "      <td>100636806</td>\n",
       "      <td>.</td>\n",
       "      <td>-</td>\n",
       "      <td>.</td>\n",
       "      <td>ENSG00000000003.15</td>\n",
       "      <td>protein_coding</td>\n",
       "      <td>...</td>\n",
       "      <td>TSPAN6-201</td>\n",
       "      <td>1</td>\n",
       "      <td>basic,MANE_Select,appris_principal_1,CCDS</td>\n",
       "      <td>OTTHUMT00000057483.2</td>\n",
       "      <td>NaN</td>\n",
       "      <td>NaN</td>\n",
       "      <td>NaN</td>\n",
       "      <td>ENSP00000362111.4</td>\n",
       "      <td>CCDS14470.1</td>\n",
       "      <td>ENSG00000000003</td>\n",
       "    </tr>\n",
       "    <tr>\n",
       "      <th>ENSG00000000005.6</th>\n",
       "      <th>2823484</th>\n",
       "      <td>chrX</td>\n",
       "      <td>HAVANA</td>\n",
       "      <td>transcript</td>\n",
       "      <td>100584935</td>\n",
       "      <td>100599885</td>\n",
       "      <td>.</td>\n",
       "      <td>+</td>\n",
       "      <td>.</td>\n",
       "      <td>ENSG00000000005.6</td>\n",
       "      <td>protein_coding</td>\n",
       "      <td>...</td>\n",
       "      <td>TNMD-201</td>\n",
       "      <td>1</td>\n",
       "      <td>basic,MANE_Select,appris_principal_1,CCDS</td>\n",
       "      <td>OTTHUMT00000057481.2</td>\n",
       "      <td>NaN</td>\n",
       "      <td>NaN</td>\n",
       "      <td>NaN</td>\n",
       "      <td>ENSP00000362122.4</td>\n",
       "      <td>CCDS14469.1</td>\n",
       "      <td>ENSG00000000005</td>\n",
       "    </tr>\n",
       "    <tr>\n",
       "      <th>ENSG00000000419.12</th>\n",
       "      <th>2695724</th>\n",
       "      <td>chr20</td>\n",
       "      <td>HAVANA</td>\n",
       "      <td>transcript</td>\n",
       "      <td>50934866</td>\n",
       "      <td>50958550</td>\n",
       "      <td>.</td>\n",
       "      <td>-</td>\n",
       "      <td>.</td>\n",
       "      <td>ENSG00000000419.12</td>\n",
       "      <td>protein_coding</td>\n",
       "      <td>...</td>\n",
       "      <td>DPM1-203</td>\n",
       "      <td>1</td>\n",
       "      <td>basic,appris_principal_1,CCDS</td>\n",
       "      <td>OTTHUMT00000079716.1</td>\n",
       "      <td>NaN</td>\n",
       "      <td>NaN</td>\n",
       "      <td>NaN</td>\n",
       "      <td>ENSP00000360644.5</td>\n",
       "      <td>CCDS13434.1</td>\n",
       "      <td>ENSG00000000419</td>\n",
       "    </tr>\n",
       "    <tr>\n",
       "      <th>ENSG00000000457.14</th>\n",
       "      <th>236954</th>\n",
       "      <td>chr1</td>\n",
       "      <td>HAVANA</td>\n",
       "      <td>transcript</td>\n",
       "      <td>169849630</td>\n",
       "      <td>169893896</td>\n",
       "      <td>.</td>\n",
       "      <td>-</td>\n",
       "      <td>.</td>\n",
       "      <td>ENSG00000000457.14</td>\n",
       "      <td>protein_coding</td>\n",
       "      <td>...</td>\n",
       "      <td>SCYL3-202</td>\n",
       "      <td>1</td>\n",
       "      <td>basic,MANE_Select,appris_alternative_2,CCDS</td>\n",
       "      <td>OTTHUMT00000087548.5</td>\n",
       "      <td>NaN</td>\n",
       "      <td>NaN</td>\n",
       "      <td>NaN</td>\n",
       "      <td>ENSP00000356745.5</td>\n",
       "      <td>CCDS1286.1</td>\n",
       "      <td>ENSG00000000457</td>\n",
       "    </tr>\n",
       "    <tr>\n",
       "      <th>ENSG00000000460.17</th>\n",
       "      <th>101903</th>\n",
       "      <td>chr1</td>\n",
       "      <td>HAVANA</td>\n",
       "      <td>transcript</td>\n",
       "      <td>169795039</td>\n",
       "      <td>169854080</td>\n",
       "      <td>.</td>\n",
       "      <td>+</td>\n",
       "      <td>.</td>\n",
       "      <td>ENSG00000000460.17</td>\n",
       "      <td>protein_coding</td>\n",
       "      <td>...</td>\n",
       "      <td>C1orf112-202</td>\n",
       "      <td>1</td>\n",
       "      <td>alternative_5_UTR,basic,MANE_Select,appris_pri...</td>\n",
       "      <td>OTTHUMT00000087235.4</td>\n",
       "      <td>NaN</td>\n",
       "      <td>NaN</td>\n",
       "      <td>NaN</td>\n",
       "      <td>ENSP00000352276.4</td>\n",
       "      <td>CCDS1285.1</td>\n",
       "      <td>ENSG00000000460</td>\n",
       "    </tr>\n",
       "    <tr>\n",
       "      <th>...</th>\n",
       "      <th>...</th>\n",
       "      <td>...</td>\n",
       "      <td>...</td>\n",
       "      <td>...</td>\n",
       "      <td>...</td>\n",
       "      <td>...</td>\n",
       "      <td>...</td>\n",
       "      <td>...</td>\n",
       "      <td>...</td>\n",
       "      <td>...</td>\n",
       "      <td>...</td>\n",
       "      <td>...</td>\n",
       "      <td>...</td>\n",
       "      <td>...</td>\n",
       "      <td>...</td>\n",
       "      <td>...</td>\n",
       "      <td>...</td>\n",
       "      <td>...</td>\n",
       "      <td>...</td>\n",
       "      <td>...</td>\n",
       "      <td>...</td>\n",
       "      <td>...</td>\n",
       "    </tr>\n",
       "    <tr>\n",
       "      <th>ENSG00000288459.1</th>\n",
       "      <th>1942596</th>\n",
       "      <td>chr14</td>\n",
       "      <td>HAVANA</td>\n",
       "      <td>transcript</td>\n",
       "      <td>104293677</td>\n",
       "      <td>104294921</td>\n",
       "      <td>.</td>\n",
       "      <td>+</td>\n",
       "      <td>.</td>\n",
       "      <td>ENSG00000288459.1</td>\n",
       "      <td>lncRNA</td>\n",
       "      <td>...</td>\n",
       "      <td>AL512357.2-201</td>\n",
       "      <td>NaN</td>\n",
       "      <td>basic</td>\n",
       "      <td>OTTHUMT00000529240.1</td>\n",
       "      <td>NaN</td>\n",
       "      <td>NaN</td>\n",
       "      <td>NaN</td>\n",
       "      <td>NaN</td>\n",
       "      <td>NaN</td>\n",
       "      <td>ENSG00000288459</td>\n",
       "    </tr>\n",
       "    <tr>\n",
       "      <th>ENSG00000288460.1</th>\n",
       "      <th>229288</th>\n",
       "      <td>chr1</td>\n",
       "      <td>HAVANA</td>\n",
       "      <td>transcript</td>\n",
       "      <td>158127286</td>\n",
       "      <td>158128301</td>\n",
       "      <td>.</td>\n",
       "      <td>-</td>\n",
       "      <td>.</td>\n",
       "      <td>ENSG00000288460.1</td>\n",
       "      <td>protein_coding</td>\n",
       "      <td>...</td>\n",
       "      <td>AL138899.3-201</td>\n",
       "      <td>NaN</td>\n",
       "      <td>CAGE_supported_TSS,RNA_Seq_supported_only,basi...</td>\n",
       "      <td>OTTHUMT00000504892.1</td>\n",
       "      <td>NaN</td>\n",
       "      <td>NaN</td>\n",
       "      <td>NaN</td>\n",
       "      <td>ENSP00000499955.1</td>\n",
       "      <td>NaN</td>\n",
       "      <td>ENSG00000288460</td>\n",
       "    </tr>\n",
       "    <tr>\n",
       "      <th>ENSG00000288473.1</th>\n",
       "      <th>933074</th>\n",
       "      <td>chr6</td>\n",
       "      <td>HAVANA</td>\n",
       "      <td>transcript</td>\n",
       "      <td>30908241</td>\n",
       "      <td>30926459</td>\n",
       "      <td>.</td>\n",
       "      <td>+</td>\n",
       "      <td>.</td>\n",
       "      <td>ENSG00000288473.1</td>\n",
       "      <td>lncRNA</td>\n",
       "      <td>...</td>\n",
       "      <td>AL669830.1-201</td>\n",
       "      <td>2</td>\n",
       "      <td>basic,readthrough_transcript</td>\n",
       "      <td>OTTHUMT00000076565.2</td>\n",
       "      <td>NaN</td>\n",
       "      <td>NaN</td>\n",
       "      <td>NaN</td>\n",
       "      <td>NaN</td>\n",
       "      <td>NaN</td>\n",
       "      <td>ENSG00000288473</td>\n",
       "    </tr>\n",
       "    <tr>\n",
       "      <th>ENSG00000288484.1</th>\n",
       "      <th>2425985</th>\n",
       "      <td>chr18</td>\n",
       "      <td>HAVANA</td>\n",
       "      <td>transcript</td>\n",
       "      <td>54578540</td>\n",
       "      <td>54578619</td>\n",
       "      <td>.</td>\n",
       "      <td>+</td>\n",
       "      <td>.</td>\n",
       "      <td>ENSG00000288484.1</td>\n",
       "      <td>unprocessed_pseudogene</td>\n",
       "      <td>...</td>\n",
       "      <td>AC091135.2-201</td>\n",
       "      <td>NaN</td>\n",
       "      <td>basic</td>\n",
       "      <td>OTTHUMT00000529238.1</td>\n",
       "      <td>NaN</td>\n",
       "      <td>NaN</td>\n",
       "      <td>PGO:0000005</td>\n",
       "      <td>NaN</td>\n",
       "      <td>NaN</td>\n",
       "      <td>ENSG00000288484</td>\n",
       "    </tr>\n",
       "    <tr>\n",
       "      <th>ENSG00000288520.1</th>\n",
       "      <th>1046790</th>\n",
       "      <td>chr6</td>\n",
       "      <td>HAVANA</td>\n",
       "      <td>transcript</td>\n",
       "      <td>154159827</td>\n",
       "      <td>154510114</td>\n",
       "      <td>.</td>\n",
       "      <td>-</td>\n",
       "      <td>.</td>\n",
       "      <td>ENSG00000288520.1</td>\n",
       "      <td>protein_coding</td>\n",
       "      <td>...</td>\n",
       "      <td>AL357075.5-201</td>\n",
       "      <td>NaN</td>\n",
       "      <td>basic,appris_principal_1,readthrough_transcript</td>\n",
       "      <td>OTTHUMT00000529671.1</td>\n",
       "      <td>NaN</td>\n",
       "      <td>NaN</td>\n",
       "      <td>NaN</td>\n",
       "      <td>ENSP00000499846.1</td>\n",
       "      <td>NaN</td>\n",
       "      <td>ENSG00000288520</td>\n",
       "    </tr>\n",
       "  </tbody>\n",
       "</table>\n",
       "<p>59368 rows × 26 columns</p>\n",
       "</div>"
      ],
      "text/plain": [
       "                           Chromosome  Source     Feature      Start  \\\n",
       "gene_id                                                                \n",
       "ENSG00000000003.15 2871237       chrX  HAVANA  transcript  100627107   \n",
       "ENSG00000000005.6  2823484       chrX  HAVANA  transcript  100584935   \n",
       "ENSG00000000419.12 2695724      chr20  HAVANA  transcript   50934866   \n",
       "ENSG00000000457.14 236954        chr1  HAVANA  transcript  169849630   \n",
       "ENSG00000000460.17 101903        chr1  HAVANA  transcript  169795039   \n",
       "...                               ...     ...         ...        ...   \n",
       "ENSG00000288459.1  1942596      chr14  HAVANA  transcript  104293677   \n",
       "ENSG00000288460.1  229288        chr1  HAVANA  transcript  158127286   \n",
       "ENSG00000288473.1  933074        chr6  HAVANA  transcript   30908241   \n",
       "ENSG00000288484.1  2425985      chr18  HAVANA  transcript   54578540   \n",
       "ENSG00000288520.1  1046790       chr6  HAVANA  transcript  154159827   \n",
       "\n",
       "                                  End Score Strand Frame             gene_id  \\\n",
       "gene_id                                                                        \n",
       "ENSG00000000003.15 2871237  100636806     .      -     .  ENSG00000000003.15   \n",
       "ENSG00000000005.6  2823484  100599885     .      +     .   ENSG00000000005.6   \n",
       "ENSG00000000419.12 2695724   50958550     .      -     .  ENSG00000000419.12   \n",
       "ENSG00000000457.14 236954   169893896     .      -     .  ENSG00000000457.14   \n",
       "ENSG00000000460.17 101903   169854080     .      +     .  ENSG00000000460.17   \n",
       "...                               ...   ...    ...   ...                 ...   \n",
       "ENSG00000288459.1  1942596  104294921     .      +     .   ENSG00000288459.1   \n",
       "ENSG00000288460.1  229288   158128301     .      -     .   ENSG00000288460.1   \n",
       "ENSG00000288473.1  933074    30926459     .      +     .   ENSG00000288473.1   \n",
       "ENSG00000288484.1  2425985   54578619     .      +     .   ENSG00000288484.1   \n",
       "ENSG00000288520.1  1046790  154510114     .      -     .   ENSG00000288520.1   \n",
       "\n",
       "                                         gene_type  ... transcript_name  \\\n",
       "gene_id                                             ...                   \n",
       "ENSG00000000003.15 2871237          protein_coding  ...      TSPAN6-201   \n",
       "ENSG00000000005.6  2823484          protein_coding  ...        TNMD-201   \n",
       "ENSG00000000419.12 2695724          protein_coding  ...        DPM1-203   \n",
       "ENSG00000000457.14 236954           protein_coding  ...       SCYL3-202   \n",
       "ENSG00000000460.17 101903           protein_coding  ...    C1orf112-202   \n",
       "...                                            ...  ...             ...   \n",
       "ENSG00000288459.1  1942596                  lncRNA  ...  AL512357.2-201   \n",
       "ENSG00000288460.1  229288           protein_coding  ...  AL138899.3-201   \n",
       "ENSG00000288473.1  933074                   lncRNA  ...  AL669830.1-201   \n",
       "ENSG00000288484.1  2425985  unprocessed_pseudogene  ...  AC091135.2-201   \n",
       "ENSG00000288520.1  1046790          protein_coding  ...  AL357075.5-201   \n",
       "\n",
       "                           transcript_support_level  \\\n",
       "gene_id                                               \n",
       "ENSG00000000003.15 2871237                        1   \n",
       "ENSG00000000005.6  2823484                        1   \n",
       "ENSG00000000419.12 2695724                        1   \n",
       "ENSG00000000457.14 236954                         1   \n",
       "ENSG00000000460.17 101903                         1   \n",
       "...                                             ...   \n",
       "ENSG00000288459.1  1942596                      NaN   \n",
       "ENSG00000288460.1  229288                       NaN   \n",
       "ENSG00000288473.1  933074                         2   \n",
       "ENSG00000288484.1  2425985                      NaN   \n",
       "ENSG00000288520.1  1046790                      NaN   \n",
       "\n",
       "                                                                          tag  \\\n",
       "gene_id                                                                         \n",
       "ENSG00000000003.15 2871237          basic,MANE_Select,appris_principal_1,CCDS   \n",
       "ENSG00000000005.6  2823484          basic,MANE_Select,appris_principal_1,CCDS   \n",
       "ENSG00000000419.12 2695724                      basic,appris_principal_1,CCDS   \n",
       "ENSG00000000457.14 236954         basic,MANE_Select,appris_alternative_2,CCDS   \n",
       "ENSG00000000460.17 101903   alternative_5_UTR,basic,MANE_Select,appris_pri...   \n",
       "...                                                                       ...   \n",
       "ENSG00000288459.1  1942596                                              basic   \n",
       "ENSG00000288460.1  229288   CAGE_supported_TSS,RNA_Seq_supported_only,basi...   \n",
       "ENSG00000288473.1  933074                        basic,readthrough_transcript   \n",
       "ENSG00000288484.1  2425985                                              basic   \n",
       "ENSG00000288520.1  1046790    basic,appris_principal_1,readthrough_transcript   \n",
       "\n",
       "                               havana_transcript exon_number exon_id  \\\n",
       "gene_id                                                                \n",
       "ENSG00000000003.15 2871237  OTTHUMT00000057483.2         NaN     NaN   \n",
       "ENSG00000000005.6  2823484  OTTHUMT00000057481.2         NaN     NaN   \n",
       "ENSG00000000419.12 2695724  OTTHUMT00000079716.1         NaN     NaN   \n",
       "ENSG00000000457.14 236954   OTTHUMT00000087548.5         NaN     NaN   \n",
       "ENSG00000000460.17 101903   OTTHUMT00000087235.4         NaN     NaN   \n",
       "...                                          ...         ...     ...   \n",
       "ENSG00000288459.1  1942596  OTTHUMT00000529240.1         NaN     NaN   \n",
       "ENSG00000288460.1  229288   OTTHUMT00000504892.1         NaN     NaN   \n",
       "ENSG00000288473.1  933074   OTTHUMT00000076565.2         NaN     NaN   \n",
       "ENSG00000288484.1  2425985  OTTHUMT00000529238.1         NaN     NaN   \n",
       "ENSG00000288520.1  1046790  OTTHUMT00000529671.1         NaN     NaN   \n",
       "\n",
       "                                    ont         protein_id       ccdsid  \\\n",
       "gene_id                                                                   \n",
       "ENSG00000000003.15 2871237          NaN  ENSP00000362111.4  CCDS14470.1   \n",
       "ENSG00000000005.6  2823484          NaN  ENSP00000362122.4  CCDS14469.1   \n",
       "ENSG00000000419.12 2695724          NaN  ENSP00000360644.5  CCDS13434.1   \n",
       "ENSG00000000457.14 236954           NaN  ENSP00000356745.5   CCDS1286.1   \n",
       "ENSG00000000460.17 101903           NaN  ENSP00000352276.4   CCDS1285.1   \n",
       "...                                 ...                ...          ...   \n",
       "ENSG00000288459.1  1942596          NaN                NaN          NaN   \n",
       "ENSG00000288460.1  229288           NaN  ENSP00000499955.1          NaN   \n",
       "ENSG00000288473.1  933074           NaN                NaN          NaN   \n",
       "ENSG00000288484.1  2425985  PGO:0000005                NaN          NaN   \n",
       "ENSG00000288520.1  1046790          NaN  ENSP00000499846.1          NaN   \n",
       "\n",
       "                              gene_id_split  \n",
       "gene_id                                      \n",
       "ENSG00000000003.15 2871237  ENSG00000000003  \n",
       "ENSG00000000005.6  2823484  ENSG00000000005  \n",
       "ENSG00000000419.12 2695724  ENSG00000000419  \n",
       "ENSG00000000457.14 236954   ENSG00000000457  \n",
       "ENSG00000000460.17 101903   ENSG00000000460  \n",
       "...                                     ...  \n",
       "ENSG00000288459.1  1942596  ENSG00000288459  \n",
       "ENSG00000288460.1  229288   ENSG00000288460  \n",
       "ENSG00000288473.1  933074   ENSG00000288473  \n",
       "ENSG00000288484.1  2425985  ENSG00000288484  \n",
       "ENSG00000288520.1  1046790  ENSG00000288520  \n",
       "\n",
       "[59368 rows x 26 columns]"
      ]
     },
     "execution_count": 49,
     "metadata": {},
     "output_type": "execute_result"
    }
   ],
   "source": [
    "principal_transcripts['gene_id_split'] = principal_transcripts['gene_id'].str.split('.').str[0]\n",
    "principal_transcripts"
   ]
  },
  {
   "cell_type": "code",
   "execution_count": 50,
   "id": "2d160302-aa4e-4385-9a35-f644c6585e18",
   "metadata": {
    "tags": []
   },
   "outputs": [],
   "source": [
    "def select_start_end(x):\n",
    "    if x['Strand'] == '+':\n",
    "        return np.abs(x['Start_x'] - x['Start_y'])\n",
    "    else:\n",
    "        return np.abs(x['End'] - x['Start_y'])\n",
    "sign_concordant = sns_df#[(np.sign(sns_df['beta_posterior'].values) == np.sign(sns_df['eSNP'].values))]\n",
    "merged_tss_dist = principal_transcripts.reset_index(drop = True).merge(sign_concordant, left_on = 'gene_id_split', right_on = 'gene_id_split' )\n",
    "merged_tss_dist['distance'] = merged_tss_dist.apply(lambda x : select_start_end(x), axis = 1)"
   ]
  },
  {
   "cell_type": "code",
   "execution_count": 51,
   "id": "3961aa9d-33bb-4149-8877-fa962338151f",
   "metadata": {},
   "outputs": [],
   "source": [
    "merged_tss_dist['distance_log'] = np.log10(merged_tss_dist['distance'])"
   ]
  },
  {
   "cell_type": "code",
   "execution_count": 52,
   "id": "c8b99157-d21f-4c7e-90fe-5ca02e330115",
   "metadata": {},
   "outputs": [],
   "source": [
    "edges = [0, 1000, 2000, 5000, 10000, 20000, 50000, 100000, 150000, 262144]"
   ]
  },
  {
   "cell_type": "code",
   "execution_count": 53,
   "id": "a5ffb85f-1f5a-47fa-8e10-4ac891fd4146",
   "metadata": {},
   "outputs": [],
   "source": [
    "new_edges = edges\n",
    "merged_tss_dist['distance_bin']  = pd.cut(merged_tss_dist['distance'], bins = new_edges,include_lowest=True, precision = 0)"
   ]
  },
  {
   "cell_type": "code",
   "execution_count": 54,
   "id": "15f01f36-1542-432d-9280-62d24748600a",
   "metadata": {},
   "outputs": [],
   "source": [
    "def get_in_vs_out(x):\n",
    "    all_len = len(x)\n",
    "    x = x[x['eSNP'].abs() > 0.05]\n",
    "    quadrant_1 = sum(np.logical_and(x['eSNP'] < 0, x['beta_posterior'] < 0))/all_len\n",
    "    quadrant_4 = sum(np.logical_and(x['eSNP'] > 0, x['beta_posterior'] > 0))/all_len\n",
    "    all_len = quadrant_1 + quadrant_4\n",
    "    return all_len\n",
    "distance_to_tss_df = merged_tss_dist.groupby('distance_bin').apply(lambda x : get_in_vs_out(x)).to_frame()"
   ]
  },
  {
   "cell_type": "code",
   "execution_count": 55,
   "id": "98da300b-d1fe-4ede-a1d6-3ccf203414ff",
   "metadata": {},
   "outputs": [],
   "source": [
    "distance_to_tss_df_subset  = merged_tss_dist[(merged_tss_dist['eSNP'] > 0.05) | (merged_tss_dist['eSNP'] < -0.05)].groupby('distance_bin').apply(lambda x : get_in_vs_out(x)).to_frame()\n",
    "distance_to_tss_df_subset['Set'] = 'Pred. abs. effect > 3.5%'"
   ]
  },
  {
   "cell_type": "code",
   "execution_count": 56,
   "id": "1cd2bbf3-f1d3-4149-8943-62edb9836fb7",
   "metadata": {},
   "outputs": [],
   "source": [
    "distance_to_tss_df = merged_tss_dist.groupby('distance_bin').apply(lambda x : get_in_vs_out(x)).to_frame()\n",
    "distance_to_tss_df['Set'] = 'No filtering'"
   ]
  },
  {
   "cell_type": "code",
   "execution_count": 57,
   "id": "8413a425-ebde-40d2-aff1-e3f9c004d597",
   "metadata": {},
   "outputs": [],
   "source": [
    "distance_to_tss_df = pd.concat([distance_to_tss_df,distance_to_tss_df_subset])"
   ]
  },
  {
   "cell_type": "code",
   "execution_count": 58,
   "id": "ea871972-c1a1-4431-87e1-b7a95f5d2b7e",
   "metadata": {},
   "outputs": [],
   "source": [
    "ns_all = merged_tss_dist.groupby(merged_tss_dist.distance_bin).count()['distance'].values\n",
    "ns_subset = merged_tss_dist[(merged_tss_dist['eSNP'] > 0.05) | (merged_tss_dist['eSNP'] < -0.05)].groupby('distance_bin').count()['distance'].values\n",
    "ns = list(chain.from_iterable(zip(ns_all, ns_subset)))"
   ]
  },
  {
   "cell_type": "code",
   "execution_count": 41,
   "id": "e9e60118-1dc2-4225-8fe0-f5910116bf20",
   "metadata": {},
   "outputs": [
    {
     "name": "stderr",
     "output_type": "stream",
     "text": [
      "/scratch/tmp/hingerl/ipykernel_3260593/2947915961.py:3: UserWarning: set_ticklabels() should only be used with a fixed number of ticks, i.e. after set_ticks() or using a FixedLocator.\n",
      "  ax.set_xticklabels(ax.get_xticklabels(), rotation = 45, ha=\"center\")\n",
      "/scratch/tmp/hingerl/ipykernel_3260593/2947915961.py:15: UserWarning: set_ticklabels() should only be used with a fixed number of ticks, i.e. after set_ticks() or using a FixedLocator.\n",
      "  ax.set_xticklabels(new_labels)\n"
     ]
    },
    {
     "data": {
      "image/png": "[encoded data removed]",
      "text/plain": [
       "<Figure size 700x500 with 1 Axes>"
      ]
     },
     "metadata": {},
     "output_type": "display_data"
    }
   ],
   "source": [
    "fig, ax = plt.subplots(figsize=(7,5))\n",
    "sns.barplot(distance_to_tss_df, x = 'distance_bin', y = 0, hue = 'Set',  palette = ['b', 'r'], ax = ax)\n",
    "ax.set_xticklabels(ax.get_xticklabels(), rotation = 45, ha=\"center\")\n",
    "labels = [item.get_text() for item in ax.get_xticklabels()]\n",
    "new_labels = []\n",
    "for i,l in enumerate(labels):\n",
    "    stripped = l.strip('(').strip(')').strip('[').strip(']').split(',')\n",
    "    new_labels.append(\" - \".join([str(int(s)//1000) for s in stripped]) + f\" kb\")\n",
    "for i,(index, row) in enumerate(distance_to_tss_df.sort_index().iterrows()):\n",
    "    if (i %2 == 0):\n",
    "        ax.text(ax.get_xticks()[i//2]-0.18, row[0]+ 0.02, f\"n={ns[i]}\", color='black', ha=\"center\", rotation = 90, fontsize = 8)\n",
    "    else:\n",
    "        ax.text(ax.get_xticks()[i//2]+0.22, row[0]+ 0.02, f\"n={ns[i]}\", color='black', ha=\"center\", rotation = 90, fontsize = 8)\n",
    "new_labels[0] = f\"0 - 1 kb\"\n",
    "ax.set_xticklabels(new_labels)\n",
    "ax.legend(bbox_to_anchor=(.7, 1.2))\n",
    "ax.axhline(0.26, linestyle = '--', color = '#4c72b0')\n",
    "ax.set_ylim(0,1.1)\n",
    "ax.set_xlabel(\"Distance to TSS\")\n",
    "ax.set_ylabel(\" Proportion of concordant eQTL predictions\")\n",
    "sns.despine()\n",
    "# fig.savefig(\"../figures/figures/Figure4/distance_to_TSS_perf.png\", dpi = 300, bbox_inches ='tight')"
   ]
  }
 ],
 "metadata": {
  "kernelspec": {
   "display_name": "Python [conda env:anaconda-scooby_reproducibility]",
   "language": "python",
   "name": "conda-env-anaconda-scooby_reproducibility-py"
  },
  "language_info": {
   "codemirror_mode": {
    "name": "ipython",
    "version": 3
   },
   "file_extension": ".py",
   "mimetype": "text/x-python",
   "name": "python",
   "nbconvert_exporter": "python",
   "pygments_lexer": "ipython3",
   "version": "3.9.19"
  }
 },
 "nbformat": 4,
 "nbformat_minor": 5
}
