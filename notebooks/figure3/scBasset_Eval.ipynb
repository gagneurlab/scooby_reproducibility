{
 "cells": [
  {
   "cell_type": "code",
   "execution_count": 1,
   "id": "6b382eb9-65ff-4705-a8e7-b710032a3b9d",
   "metadata": {},
   "outputs": [
    {
     "name": "stderr",
     "output_type": "stream",
     "text": [
      "/opt/modules/i12g/anaconda/envs/scooby_reproducibility/lib/python3.9/site-packages/docrep/decorators.py:43: SyntaxWarning: 'param_size_factor_key_expr' is not a valid key!\n",
      "  doc = func(self, args[0].__doc__, *args[1:], **kwargs)\n",
      "/opt/modules/i12g/anaconda/envs/scooby_reproducibility/lib/python3.9/site-packages/docrep/decorators.py:43: SyntaxWarning: 'param_size_factor_key_acc' is not a valid key!\n",
      "  doc = func(self, args[0].__doc__, *args[1:], **kwargs)\n"
     ]
    }
   ],
   "source": [
    "import tempfile\n",
    "\n",
    "import matplotlib.pyplot as plt\n",
    "import muon\n",
    "import numpy as np\n",
    "import scanpy as sc\n",
    "import scvi\n",
    "import seaborn as sns\n",
    "import torch\n",
    "import os \n",
    "import pandas as pd"
   ]
  },
  {
   "cell_type": "code",
   "execution_count": 2,
   "id": "e6df9e4a-07a8-4852-bffa-68ae6dcf16e7",
   "metadata": {},
   "outputs": [
    {
     "name": "stderr",
     "output_type": "stream",
     "text": [
      "[rank: 0] Seed set to 0\n"
     ]
    },
    {
     "name": "stdout",
     "output_type": "stream",
     "text": [
      "Last run with scvi-tools version: 1.1.3\n"
     ]
    }
   ],
   "source": [
    "scvi.settings.seed = 0\n",
    "print(\"Last run with scvi-tools version:\", scvi.__version__)"
   ]
  },
  {
   "cell_type": "code",
   "execution_count": 3,
   "id": "2d3c2202-bb68-449b-b8d8-405ecddfbe6a",
   "metadata": {},
   "outputs": [],
   "source": [
    "sc.set_figure_params(figsize=(6, 6), frameon=False)\n",
    "sns.set_theme()\n",
    "torch.set_float32_matmul_precision(\"high\")\n",
    "save_dir = tempfile.TemporaryDirectory()\n",
    "\n",
    "%config InlineBackend.print_figure_kwargs={\"facecolor\": \"w\"}\n",
    "%config InlineBackend.figure_format=\"retina\""
   ]
  },
  {
   "cell_type": "code",
   "execution_count": 4,
   "id": "324949ee-b989-4e8d-9b69-5af81d9fda09",
   "metadata": {},
   "outputs": [],
   "source": [
    "data_path = '/s/project/QNA/scborzoi/submission_data/'\n",
    "adata = sc.read(os.path.join(data_path, 'bmmc_multiome_multivi_neurips21_curated_new_palantir_fixed.h5ad'))"
   ]
  },
  {
   "cell_type": "code",
   "execution_count": 5,
   "id": "be14276e-7a32-474e-ac21-b2074fd351d1",
   "metadata": {},
   "outputs": [],
   "source": [
    "adata = adata[:,adata.var.feature_types == 'ATAC']"
   ]
  },
  {
   "cell_type": "code",
   "execution_count": 6,
   "id": "8bc56af4-848b-4b28-a03b-9a63dc7f5411",
   "metadata": {},
   "outputs": [
    {
     "name": "stderr",
     "output_type": "stream",
     "text": [
      "/scratch/tmp/martensl/ipykernel_3754165/1044962440.py:1: ImplicitModificationWarning: Trying to modify attribute `.var` of view, initializing view as actual.\n",
      "  adata.var['gene_ids'] = adata.var.index.values\n"
     ]
    }
   ],
   "source": [
    "adata.var['gene_ids'] = adata.var.index.values"
   ]
  },
  {
   "cell_type": "code",
   "execution_count": 7,
   "id": "a1a7abda-28ad-4e4a-86e8-1c41717e14d2",
   "metadata": {},
   "outputs": [],
   "source": [
    "split_interval = adata.var[\"gene_ids\"].str.split(\"-\", expand=True)\n",
    "adata.var[\"chr\"] = split_interval[0]\n",
    "adata.var[\"start\"] = split_interval[1].astype(int)\n",
    "adata.var[\"end\"] = split_interval[2].astype(int)"
   ]
  },
  {
   "cell_type": "code",
   "execution_count": 8,
   "id": "abd72f2b-d07b-4a62-a4a1-4bda8c44266a",
   "metadata": {},
   "outputs": [],
   "source": [
    "mask = adata.var[\"chr\"].str.startswith(\"chr\")\n",
    "adata = adata[:, mask].copy()"
   ]
  },
  {
   "cell_type": "code",
   "execution_count": 9,
   "id": "d2c83392-1ce6-4cf4-941c-0eeb728717f7",
   "metadata": {},
   "outputs": [
    {
     "name": "stderr",
     "output_type": "stream",
     "text": [
      "16:57:58 | INFO | Downloading assembly summaries from GENCODE\n",
      "16:58:08 | INFO | Downloading assembly summaries from UCSC\n",
      "16:58:14 | INFO | Downloading genome from GENCODE. Target URL: https://hgdownload.soe.ucsc.edu/goldenPath/hg38/bigZips/hg38.fa.gz...\n"
     ]
    },
    {
     "data": {
      "application/vnd.jupyter.widget-view+json": {
       "model_id": "bc3530d09d044fcbb2b71664ca5f213d",
       "version_major": 2,
       "version_minor": 0
      },
      "text/plain": [
       "Download:   0%|          | 0.00/938M [00:00<?, ?B/s]"
      ]
     },
     "metadata": {},
     "output_type": "display_data"
    },
    {
     "name": "stderr",
     "output_type": "stream",
     "text": [
      "16:59:11 | INFO | Genome download successful, starting post processing...\n",
      "16:59:26 | INFO | name: hg38\n",
      "16:59:26 | INFO | local name: GRCh38\n",
      "16:59:26 | INFO | fasta: /data/ceph/hdd/project/node_09/semi_supervised_multispecies/Downstream/single_cell/code/scooby_reproducibility/notebooks/figure3/data/GRCh38/GRCh38.fa\n"
     ]
    },
    {
     "data": {
      "application/vnd.jupyter.widget-view+json": {
       "model_id": "9bab1807346c4107aa04bf877365dd17",
       "version_major": 2,
       "version_minor": 0
      },
      "text/plain": [
       "Filtering Fasta: 0.00 lines [00:00, ? lines/s]"
      ]
     },
     "metadata": {},
     "output_type": "display_data"
    },
    {
     "name": "stdout",
     "output_type": "stream",
     "text": [
      "Working...: 100%|██████████| 24/24 [00:05<00:00,  4.49it/s]\n"
     ]
    },
    {
     "data": {
      "text/plain": [
       "AnnData object with n_obs × n_vars = 63683 × 116468\n",
       "    obs: 'GEX_pct_counts_mt', 'GEX_n_counts', 'GEX_n_genes', 'GEX_size_factors', 'GEX_phase', 'GEX_pseudotime_order', 'ATAC_nCount_peaks', 'ATAC_atac_fragments', 'ATAC_reads_in_peaks_frac', 'ATAC_pseudotime_order', 'DonorID', 'VendorLot', 'DonorAge', 'DonorBMI', 'DonorBloodType', 'DonorRace', 'Ethnicity', 'DonorGender', 'QCMeds', 'DonorSmoker', 'modality', 'site', 'donor', 'batch', 'l1_cell_type', 'l2_cell_type', 'neurips21_cell_type', 'frag_file_bcs', 'palantir_pseudotime', 'palantir_entropy', 'doublet_score', 'leiden', 'is_doublet', 'dpt_pseudotime'\n",
       "    var: 'gene_ids', 'feature_types', 'hvg_multiVI', 'chr', 'start', 'end'\n",
       "    uns: 'ATAC_gene_activity_var_names', 'DM_EigenValues', '_scvi', 'dataset_id', 'diffmap_evals', 'genome', 'iroot', 'is_doublet_colors', 'l2_cell_type_colors', 'leiden', 'leiden_colors', 'neighbors', 'neighbors_poisson', 'organism', 'palantir_waypoints', 'umap'\n",
       "    obsm: 'ATAC_gene_activity', 'DM_EigenVectors', 'DM_EigenVectors_multiscaled', 'MultiVI_latent', 'X_diffmap', 'X_poisson_multivi', 'X_umap', 'X_umap_old', 'palantir_fate_probabilities'\n",
       "    varm: 'dna_sequence', 'dna_code'\n",
       "    layers: 'counts'\n",
       "    obsp: 'DM_Kernel', 'DM_Similarity', 'connectivities', 'distances', 'neighbors_poisson_connectivities', 'neighbors_poisson_distances'"
      ]
     },
     "execution_count": 9,
     "metadata": {},
     "output_type": "execute_result"
    }
   ],
   "source": [
    "scvi.data.add_dna_sequence(\n",
    "    adata,\n",
    "    genome_name=\"GRCh38\",\n",
    "    genome_dir=\"data\",\n",
    "    chr_var_key=\"chr\",\n",
    "    start_var_key=\"start\",\n",
    "    end_var_key=\"end\",\n",
    ")\n",
    "adata"
   ]
  },
  {
   "cell_type": "code",
   "execution_count": 10,
   "id": "5258950a-d8f3-4890-811d-24be619b29cb",
   "metadata": {},
   "outputs": [
    {
     "data": {
      "text/html": [
       "<div>\n",
       "<style scoped>\n",
       "    .dataframe tbody tr th:only-of-type {\n",
       "        vertical-align: middle;\n",
       "    }\n",
       "\n",
       "    .dataframe tbody tr th {\n",
       "        vertical-align: top;\n",
       "    }\n",
       "\n",
       "    .dataframe thead th {\n",
       "        text-align: right;\n",
       "    }\n",
       "</style>\n",
       "<table border=\"1\" class=\"dataframe\">\n",
       "  <thead>\n",
       "    <tr style=\"text-align: right;\">\n",
       "      <th></th>\n",
       "      <th>0</th>\n",
       "      <th>1</th>\n",
       "      <th>2</th>\n",
       "      <th>3</th>\n",
       "      <th>4</th>\n",
       "      <th>5</th>\n",
       "      <th>6</th>\n",
       "      <th>7</th>\n",
       "      <th>8</th>\n",
       "      <th>9</th>\n",
       "      <th>...</th>\n",
       "      <th>1334</th>\n",
       "      <th>1335</th>\n",
       "      <th>1336</th>\n",
       "      <th>1337</th>\n",
       "      <th>1338</th>\n",
       "      <th>1339</th>\n",
       "      <th>1340</th>\n",
       "      <th>1341</th>\n",
       "      <th>1342</th>\n",
       "      <th>1343</th>\n",
       "    </tr>\n",
       "  </thead>\n",
       "  <tbody>\n",
       "    <tr>\n",
       "      <th>chr1-9776-10668</th>\n",
       "      <td>N</td>\n",
       "      <td>N</td>\n",
       "      <td>N</td>\n",
       "      <td>N</td>\n",
       "      <td>N</td>\n",
       "      <td>N</td>\n",
       "      <td>N</td>\n",
       "      <td>N</td>\n",
       "      <td>N</td>\n",
       "      <td>N</td>\n",
       "      <td>...</td>\n",
       "      <td>C</td>\n",
       "      <td>C</td>\n",
       "      <td>G</td>\n",
       "      <td>C</td>\n",
       "      <td>G</td>\n",
       "      <td>T</td>\n",
       "      <td>C</td>\n",
       "      <td>C</td>\n",
       "      <td>A</td>\n",
       "      <td>G</td>\n",
       "    </tr>\n",
       "    <tr>\n",
       "      <th>chr1-180726-181005</th>\n",
       "      <td>C</td>\n",
       "      <td>T</td>\n",
       "      <td>T</td>\n",
       "      <td>A</td>\n",
       "      <td>C</td>\n",
       "      <td>C</td>\n",
       "      <td>C</td>\n",
       "      <td>T</td>\n",
       "      <td>T</td>\n",
       "      <td>A</td>\n",
       "      <td>...</td>\n",
       "      <td>G</td>\n",
       "      <td>G</td>\n",
       "      <td>G</td>\n",
       "      <td>G</td>\n",
       "      <td>T</td>\n",
       "      <td>T</td>\n",
       "      <td>G</td>\n",
       "      <td>G</td>\n",
       "      <td>G</td>\n",
       "      <td>G</td>\n",
       "    </tr>\n",
       "    <tr>\n",
       "      <th>chr1-181117-181803</th>\n",
       "      <td>T</td>\n",
       "      <td>A</td>\n",
       "      <td>A</td>\n",
       "      <td>C</td>\n",
       "      <td>C</td>\n",
       "      <td>C</td>\n",
       "      <td>T</td>\n",
       "      <td>A</td>\n",
       "      <td>A</td>\n",
       "      <td>C</td>\n",
       "      <td>...</td>\n",
       "      <td>A</td>\n",
       "      <td>C</td>\n",
       "      <td>C</td>\n",
       "      <td>A</td>\n",
       "      <td>G</td>\n",
       "      <td>C</td>\n",
       "      <td>A</td>\n",
       "      <td>A</td>\n",
       "      <td>T</td>\n",
       "      <td>G</td>\n",
       "    </tr>\n",
       "    <tr>\n",
       "      <th>chr1-191133-192055</th>\n",
       "      <td>G</td>\n",
       "      <td>C</td>\n",
       "      <td>A</td>\n",
       "      <td>G</td>\n",
       "      <td>A</td>\n",
       "      <td>G</td>\n",
       "      <td>T</td>\n",
       "      <td>C</td>\n",
       "      <td>C</td>\n",
       "      <td>A</td>\n",
       "      <td>...</td>\n",
       "      <td>G</td>\n",
       "      <td>C</td>\n",
       "      <td>A</td>\n",
       "      <td>G</td>\n",
       "      <td>C</td>\n",
       "      <td>G</td>\n",
       "      <td>C</td>\n",
       "      <td>T</td>\n",
       "      <td>G</td>\n",
       "      <td>T</td>\n",
       "    </tr>\n",
       "    <tr>\n",
       "      <th>chr1-267562-268456</th>\n",
       "      <td>C</td>\n",
       "      <td>A</td>\n",
       "      <td>A</td>\n",
       "      <td>T</td>\n",
       "      <td>T</td>\n",
       "      <td>C</td>\n",
       "      <td>C</td>\n",
       "      <td>G</td>\n",
       "      <td>G</td>\n",
       "      <td>G</td>\n",
       "      <td>...</td>\n",
       "      <td>G</td>\n",
       "      <td>T</td>\n",
       "      <td>T</td>\n",
       "      <td>G</td>\n",
       "      <td>T</td>\n",
       "      <td>G</td>\n",
       "      <td>T</td>\n",
       "      <td>T</td>\n",
       "      <td>C</td>\n",
       "      <td>T</td>\n",
       "    </tr>\n",
       "    <tr>\n",
       "      <th>...</th>\n",
       "      <td>...</td>\n",
       "      <td>...</td>\n",
       "      <td>...</td>\n",
       "      <td>...</td>\n",
       "      <td>...</td>\n",
       "      <td>...</td>\n",
       "      <td>...</td>\n",
       "      <td>...</td>\n",
       "      <td>...</td>\n",
       "      <td>...</td>\n",
       "      <td>...</td>\n",
       "      <td>...</td>\n",
       "      <td>...</td>\n",
       "      <td>...</td>\n",
       "      <td>...</td>\n",
       "      <td>...</td>\n",
       "      <td>...</td>\n",
       "      <td>...</td>\n",
       "      <td>...</td>\n",
       "      <td>...</td>\n",
       "      <td>...</td>\n",
       "    </tr>\n",
       "    <tr>\n",
       "      <th>chrX-156001265-156002117</th>\n",
       "      <td>C</td>\n",
       "      <td>A</td>\n",
       "      <td>G</td>\n",
       "      <td>A</td>\n",
       "      <td>G</td>\n",
       "      <td>A</td>\n",
       "      <td>A</td>\n",
       "      <td>C</td>\n",
       "      <td>T</td>\n",
       "      <td>T</td>\n",
       "      <td>...</td>\n",
       "      <td>A</td>\n",
       "      <td>A</td>\n",
       "      <td>A</td>\n",
       "      <td>A</td>\n",
       "      <td>A</td>\n",
       "      <td>A</td>\n",
       "      <td>T</td>\n",
       "      <td>T</td>\n",
       "      <td>T</td>\n",
       "      <td>G</td>\n",
       "    </tr>\n",
       "    <tr>\n",
       "      <th>chrX-156029992-156030883</th>\n",
       "      <td>G</td>\n",
       "      <td>A</td>\n",
       "      <td>T</td>\n",
       "      <td>T</td>\n",
       "      <td>C</td>\n",
       "      <td>T</td>\n",
       "      <td>C</td>\n",
       "      <td>C</td>\n",
       "      <td>C</td>\n",
       "      <td>A</td>\n",
       "      <td>...</td>\n",
       "      <td>N</td>\n",
       "      <td>N</td>\n",
       "      <td>N</td>\n",
       "      <td>N</td>\n",
       "      <td>N</td>\n",
       "      <td>N</td>\n",
       "      <td>N</td>\n",
       "      <td>N</td>\n",
       "      <td>N</td>\n",
       "      <td>N</td>\n",
       "    </tr>\n",
       "    <tr>\n",
       "      <th>chrY-11295162-11295942</th>\n",
       "      <td>T</td>\n",
       "      <td>T</td>\n",
       "      <td>C</td>\n",
       "      <td>C</td>\n",
       "      <td>A</td>\n",
       "      <td>C</td>\n",
       "      <td>T</td>\n",
       "      <td>C</td>\n",
       "      <td>C</td>\n",
       "      <td>A</td>\n",
       "      <td>...</td>\n",
       "      <td>T</td>\n",
       "      <td>T</td>\n",
       "      <td>C</td>\n",
       "      <td>C</td>\n",
       "      <td>A</td>\n",
       "      <td>T</td>\n",
       "      <td>T</td>\n",
       "      <td>T</td>\n",
       "      <td>C</td>\n",
       "      <td>A</td>\n",
       "    </tr>\n",
       "    <tr>\n",
       "      <th>chrY-11333659-11334343</th>\n",
       "      <td>C</td>\n",
       "      <td>C</td>\n",
       "      <td>A</td>\n",
       "      <td>G</td>\n",
       "      <td>C</td>\n",
       "      <td>C</td>\n",
       "      <td>C</td>\n",
       "      <td>A</td>\n",
       "      <td>T</td>\n",
       "      <td>G</td>\n",
       "      <td>...</td>\n",
       "      <td>T</td>\n",
       "      <td>T</td>\n",
       "      <td>T</td>\n",
       "      <td>G</td>\n",
       "      <td>G</td>\n",
       "      <td>G</td>\n",
       "      <td>A</td>\n",
       "      <td>G</td>\n",
       "      <td>T</td>\n",
       "      <td>T</td>\n",
       "    </tr>\n",
       "    <tr>\n",
       "      <th>chrY-56836454-56837350</th>\n",
       "      <td>A</td>\n",
       "      <td>G</td>\n",
       "      <td>T</td>\n",
       "      <td>G</td>\n",
       "      <td>G</td>\n",
       "      <td>C</td>\n",
       "      <td>A</td>\n",
       "      <td>C</td>\n",
       "      <td>A</td>\n",
       "      <td>A</td>\n",
       "      <td>...</td>\n",
       "      <td>T</td>\n",
       "      <td>A</td>\n",
       "      <td>T</td>\n",
       "      <td>T</td>\n",
       "      <td>G</td>\n",
       "      <td>G</td>\n",
       "      <td>G</td>\n",
       "      <td>G</td>\n",
       "      <td>G</td>\n",
       "      <td>C</td>\n",
       "    </tr>\n",
       "  </tbody>\n",
       "</table>\n",
       "<p>116468 rows × 1344 columns</p>\n",
       "</div>"
      ],
      "text/plain": [
       "                         0    1    2    3    4    5    6    7    8    9     \\\n",
       "chr1-9776-10668             N    N    N    N    N    N    N    N    N    N   \n",
       "chr1-180726-181005          C    T    T    A    C    C    C    T    T    A   \n",
       "chr1-181117-181803          T    A    A    C    C    C    T    A    A    C   \n",
       "chr1-191133-192055          G    C    A    G    A    G    T    C    C    A   \n",
       "chr1-267562-268456          C    A    A    T    T    C    C    G    G    G   \n",
       "...                       ...  ...  ...  ...  ...  ...  ...  ...  ...  ...   \n",
       "chrX-156001265-156002117    C    A    G    A    G    A    A    C    T    T   \n",
       "chrX-156029992-156030883    G    A    T    T    C    T    C    C    C    A   \n",
       "chrY-11295162-11295942      T    T    C    C    A    C    T    C    C    A   \n",
       "chrY-11333659-11334343      C    C    A    G    C    C    C    A    T    G   \n",
       "chrY-56836454-56837350      A    G    T    G    G    C    A    C    A    A   \n",
       "\n",
       "                          ... 1334 1335 1336 1337 1338 1339 1340 1341 1342  \\\n",
       "chr1-9776-10668           ...    C    C    G    C    G    T    C    C    A   \n",
       "chr1-180726-181005        ...    G    G    G    G    T    T    G    G    G   \n",
       "chr1-181117-181803        ...    A    C    C    A    G    C    A    A    T   \n",
       "chr1-191133-192055        ...    G    C    A    G    C    G    C    T    G   \n",
       "chr1-267562-268456        ...    G    T    T    G    T    G    T    T    C   \n",
       "...                       ...  ...  ...  ...  ...  ...  ...  ...  ...  ...   \n",
       "chrX-156001265-156002117  ...    A    A    A    A    A    A    T    T    T   \n",
       "chrX-156029992-156030883  ...    N    N    N    N    N    N    N    N    N   \n",
       "chrY-11295162-11295942    ...    T    T    C    C    A    T    T    T    C   \n",
       "chrY-11333659-11334343    ...    T    T    T    G    G    G    A    G    T   \n",
       "chrY-56836454-56837350    ...    T    A    T    T    G    G    G    G    G   \n",
       "\n",
       "                         1343  \n",
       "chr1-9776-10668             G  \n",
       "chr1-180726-181005          G  \n",
       "chr1-181117-181803          G  \n",
       "chr1-191133-192055          T  \n",
       "chr1-267562-268456          T  \n",
       "...                       ...  \n",
       "chrX-156001265-156002117    G  \n",
       "chrX-156029992-156030883    N  \n",
       "chrY-11295162-11295942      A  \n",
       "chrY-11333659-11334343      T  \n",
       "chrY-56836454-56837350      C  \n",
       "\n",
       "[116468 rows x 1344 columns]"
      ]
     },
     "execution_count": 10,
     "metadata": {},
     "output_type": "execute_result"
    }
   ],
   "source": [
    "adata.varm[\"dna_sequence\"]"
   ]
  },
  {
   "cell_type": "code",
   "execution_count": 11,
   "id": "0cb34bde-9845-4531-9d60-a968212fa09b",
   "metadata": {},
   "outputs": [
    {
     "name": "stderr",
     "output_type": "stream",
     "text": [
      "An NVIDIA GPU may be present on this machine, but a CUDA-enabled jaxlib is not installed. Falling back to cpu.\n",
      "/opt/modules/i12g/anaconda/envs/scooby_reproducibility/lib/python3.9/site-packages/scvi/data/fields/_layer_field.py:116: UserWarning: Training will be faster when sparse matrix is formatted as CSR. It is safe to cast before model initialization.\n",
      "  _verify_and_correct_data_format(adata, self.attr_name, self.attr_key)\n"
     ]
    },
    {
     "name": "stdout",
     "output_type": "stream",
     "text": [
      "\u001b[34mINFO    \u001b[0m Using column names from columns of adata.obsm\u001b[1m[\u001b[0m\u001b[32m'dna_code'\u001b[0m\u001b[1m]\u001b[0m                                                 \n"
     ]
    }
   ],
   "source": [
    "bdata = adata.transpose()\n",
    "bdata.layers[\"binary\"] = (bdata.X.copy() > 0).astype(float)\n",
    "scvi.external.SCBASSET.setup_anndata(bdata, layer=\"binary\", dna_code_key=\"dna_code\")"
   ]
  },
  {
   "cell_type": "code",
   "execution_count": 12,
   "id": "e0504010-a4b3-46aa-9bec-80646f75da28",
   "metadata": {},
   "outputs": [],
   "source": [
    "bdata.layers['binary'] = bdata.layers['binary'].tocsr()"
   ]
  },
  {
   "cell_type": "code",
   "execution_count": 13,
   "id": "a8978743-5730-4830-8276-0518abf9d0ff",
   "metadata": {},
   "outputs": [
    {
     "data": {
      "text/plain": [
       "<116468x63683 sparse matrix of type '<class 'numpy.float64'>'\n",
       "\twith 214234651 stored elements in Compressed Sparse Row format>"
      ]
     },
     "execution_count": 13,
     "metadata": {},
     "output_type": "execute_result"
    }
   ],
   "source": [
    "bdata.layers['binary']"
   ]
  },
  {
   "cell_type": "code",
   "execution_count": 14,
   "id": "a32a4c72-376e-4971-bdde-9a06535b412a",
   "metadata": {},
   "outputs": [],
   "source": [
    "bdata.obsm['dna_sequence'].columns = bdata.obsm['dna_sequence'].columns.astype(str)"
   ]
  },
  {
   "cell_type": "markdown",
   "id": "34da41fe-8dd4-4cf4-b4b3-dcbc619df56e",
   "metadata": {},
   "source": [
    "### Train scBasset"
   ]
  },
  {
   "cell_type": "code",
   "execution_count": null,
   "id": "8baec3ed-6c98-4f8d-8842-e79744ac1400",
   "metadata": {},
   "outputs": [],
   "source": [
    "from lightning.pytorch.loggers import WandbLogger\n",
    "import wandb\n",
    "\n",
    "wandb_logger = WandbLogger(project=\"scBasset\", entity='lauradm')"
   ]
  },
  {
   "cell_type": "code",
   "execution_count": 19,
   "id": "db4a3ad8-6ef3-42c8-90fb-b54439fce522",
   "metadata": {},
   "outputs": [
    {
     "name": "stderr",
     "output_type": "stream",
     "text": [
      "/opt/modules/i12g/anaconda/envs/scvi-tools-1/lib/python3.12/site-packages/lightning/fabric/plugins/environments/slurm.py:204: The `srun` command is available on your system but is not used. HINT: If your intention is to run Lightning on SLURM, prepend your python command with `srun` like so: srun python /opt/modules/i12g/anaconda/envs/scvi-tools-1/lib/pyt ...\n",
      "Using 16bit Automatic Mixed Precision (AMP)\n",
      "GPU available: True (cuda), used: True\n",
      "TPU available: False, using: 0 TPU cores\n",
      "IPU available: False, using: 0 IPUs\n",
      "HPU available: False, using: 0 HPUs\n",
      "/opt/modules/i12g/anaconda/envs/scvi-tools-1/lib/python3.12/site-packages/lightning/fabric/plugins/environments/slurm.py:204: The `srun` command is available on your system but is not used. HINT: If your intention is to run Lightning on SLURM, prepend your python command with `srun` like so: srun python /opt/modules/i12g/anaconda/envs/scvi-tools-1/lib/pyt ...\n",
      "LOCAL_RANK: 0 - CUDA_VISIBLE_DEVICES: [0]\n",
      "/opt/modules/i12g/anaconda/envs/scvi-tools-1/lib/python3.12/site-packages/lightning/pytorch/trainer/connectors/data_connector.py:441: The 'train_dataloader' does not have many workers which may be a bottleneck. Consider increasing the value of the `num_workers` argument` to `num_workers=15` in the `DataLoader` to improve performance.\n",
      "/opt/modules/i12g/anaconda/envs/scvi-tools-1/lib/python3.12/site-packages/lightning/pytorch/trainer/connectors/data_connector.py:441: The 'val_dataloader' does not have many workers which may be a bottleneck. Consider increasing the value of the `num_workers` argument` to `num_workers=15` in the `DataLoader` to improve performance.\n"
     ]
    },
    {
     "name": "stdout",
     "output_type": "stream",
     "text": [
      "Epoch 10/1000:   1%|          | 9/1000 [04:14<7:36:07, 27.62s/it, v_num=1, train_loss_step=0.11, train_loss_epoch=0.108] "
     ]
    },
    {
     "name": "stderr",
     "output_type": "stream",
     "text": [
      "/opt/modules/i12g/anaconda/envs/scvi-tools-1/lib/python3.12/site-packages/lightning/pytorch/trainer/call.py:54: Detected KeyboardInterrupt, attempting graceful shutdown...\n"
     ]
    }
   ],
   "source": [
    "bas = scvi.external.SCBASSET(bdata)\n",
    "bas.train(precision='16-mixed', logger = logger)"
   ]
  },
  {
   "cell_type": "code",
   "execution_count": 20,
   "id": "e6175903-b035-4d37-83e3-08e304464599",
   "metadata": {},
   "outputs": [
    {
     "data": {
      "text/plain": [
       "<Axes: xlabel='epoch'>"
      ]
     },
     "execution_count": 20,
     "metadata": {},
     "output_type": "execute_result"
    },
    {
     "data": {
      "image/png": "[encoded data removed]",
      "text/plain": [
       "<Figure size 480x480 with 1 Axes>"
      ]
     },
     "metadata": {
      "image/png": {
       "height": 420,
       "width": 428
      }
     },
     "output_type": "display_data"
    }
   ],
   "source": [
    "fig, ax = plt.subplots()\n",
    "bas.history_[\"train_loss_epoch\"].plot(ax=ax)\n",
    "bas.history_[\"validation_loss\"].plot(ax=ax)"
   ]
  },
  {
   "cell_type": "code",
   "execution_count": null,
   "id": "e60ea2c2-6c94-4575-ac57-bf730430185c",
   "metadata": {},
   "outputs": [],
   "source": [
    "fig, ax = plt.subplots()\n",
    "bas.history_[\"auroc_train\"].plot(ax=ax)\n",
    "bas.history_[\"auroc_validation\"].plot(ax=ax)"
   ]
  },
  {
   "cell_type": "markdown",
   "id": "60ad3720-c7af-4e12-9caa-9e2d0711041a",
   "metadata": {},
   "source": [
    "### Eval scBasset"
   ]
  },
  {
   "cell_type": "code",
   "execution_count": 15,
   "id": "32ce8354-1018-4e37-8640-851722ff1f32",
   "metadata": {},
   "outputs": [
    {
     "name": "stdout",
     "output_type": "stream",
     "text": [
      "\u001b[34mINFO    \u001b[0m File \u001b[35m/s/project/QNA/scborzoi/submission_data/motif_effects/scBasset/model_attempt_overnight.pt/\u001b[0m\u001b[95mmodel.pt\u001b[0m   \n",
      "         already downloaded                                                                                        \n"
     ]
    },
    {
     "name": "stderr",
     "output_type": "stream",
     "text": [
      "/opt/modules/i12g/anaconda/envs/scooby_reproducibility/lib/python3.9/site-packages/scvi/model/base/_save_load.py:67: FutureWarning: You are using `torch.load` with `weights_only=False` (the current default value), which uses the default pickle module implicitly. It is possible to construct malicious pickle data which will execute arbitrary code during unpickling (See https://github.com/pytorch/pytorch/blob/main/SECURITY.md#untrusted-models for more details). In a future release, the default value for `weights_only` will be flipped to `True`. This limits the functions that could be executed during unpickling. Arbitrary objects will no longer be allowed to be loaded via this mode unless they are explicitly allowlisted by the user via `torch.serialization.add_safe_globals`. We recommend you start setting `weights_only=True` for any use case where you don't have full control of the loaded file. Please open an issue on GitHub for any issues related to this experimental feature.\n",
      "  model = torch.load(model_path, map_location=map_location)\n"
     ]
    }
   ],
   "source": [
    "bas = scvi.external.SCBASSET.load(os.path.join(data_path, 'motif_effects', 'scBasset', 'model_attempt_overnight.pt/'), adata = bdata)"
   ]
  },
  {
   "cell_type": "code",
   "execution_count": 16,
   "id": "417d6b07-35dd-47de-922e-0263859025d4",
   "metadata": {},
   "outputs": [],
   "source": [
    "tfs = pd.read_csv(os.path.join(data_path, 'motif_effects', \"multiome_run.csv\"), header = None)[0].tolist()"
   ]
  },
  {
   "cell_type": "code",
   "execution_count": 17,
   "id": "4c98483e-970e-4beb-88bf-e98c7e7f5337",
   "metadata": {
    "scrolled": true
   },
   "outputs": [
    {
     "name": "stdout",
     "output_type": "stream",
     "text": [
      "\u001b[34mINFO    \u001b[0m Downloading motif set to: data/motifs                                                                     \n",
      "\u001b[34mINFO    \u001b[0m Downloading file at data/motifs/human_motifs.tar.gz                                                       \n",
      "Downloading...: 100%|██████████| 306466/306466.0 [00:10<00:00, 30233.83it/s]\n",
      "\u001b[34mINFO    \u001b[0m Download and extraction complete.                                                                         \n",
      "multiome\n",
      "TRPS1\n",
      "TEAD2\n",
      "COE1\n",
      "MBNL2\n",
      "ZEB2\n"
     ]
    }
   ],
   "source": [
    "for tf in tfs:\n",
    "    try:\n",
    "        adata.obs[f\"bas_{tf}\"] = bas.get_tf_activity(\n",
    "            tf=tf,\n",
    "            motif_dir=\"data/motifs\",\n",
    "        )\n",
    "    except:\n",
    "        print (tf)"
   ]
  },
  {
   "cell_type": "code",
   "execution_count": 26,
   "id": "70f1f58d-90f0-458d-b99b-c90c29245c6b",
   "metadata": {},
   "outputs": [],
   "source": [
    "adata.varm = None"
   ]
  },
  {
   "cell_type": "code",
   "execution_count": 27,
   "id": "614c06df-57dc-4896-a190-1cdfc2429b01",
   "metadata": {},
   "outputs": [],
   "source": [
    "adata.obsm = None\n",
    "adata.write(os.path.join(data_path, 'motif_effects', 'scBasset', \"adata_w_tf_activity.h5ad\"))"
   ]
  }
 ],
 "metadata": {
  "kernelspec": {
   "display_name": "Python [conda env:anaconda-scooby_reproducibility]",
   "language": "python",
   "name": "conda-env-anaconda-scooby_reproducibility-py"
  },
  "language_info": {
   "codemirror_mode": {
    "name": "ipython",
    "version": 3
   },
   "file_extension": ".py",
   "mimetype": "text/x-python",
   "name": "python",
   "nbconvert_exporter": "python",
   "pygments_lexer": "ipython3",
   "version": "3.9.19"
  }
 },
 "nbformat": 4,
 "nbformat_minor": 5
}
