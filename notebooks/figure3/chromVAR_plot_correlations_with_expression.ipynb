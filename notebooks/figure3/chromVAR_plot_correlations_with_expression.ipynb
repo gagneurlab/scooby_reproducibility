{
 "cells": [
  {
   "cell_type": "code",
   "execution_count": 1,
   "id": "4fcb541c-33a1-4d5d-91b9-ffa8c390bd4c",
   "metadata": {},
   "outputs": [],
   "source": [
    "import scanpy as sc"
   ]
  },
  {
   "cell_type": "code",
   "execution_count": 2,
   "id": "bce1bfdf-c125-416d-8155-d73bed1ab9ab",
   "metadata": {},
   "outputs": [],
   "source": [
    "import glob\n",
    "import os\n",
    "import numpy as np\n",
    "\n",
    "import seaborn as sns\n",
    "\n",
    "import pandas as pd\n",
    "import scipy.stats\n",
    "import tqdm\n",
    "import matplotlib.pyplot as plt\n",
    "from adjustText import adjust_text"
   ]
  },
  {
   "cell_type": "code",
   "execution_count": 3,
   "id": "e24de5cb-eae5-4a95-91d1-89e93a74ea6b",
   "metadata": {},
   "outputs": [],
   "source": [
    "import gc"
   ]
  },
  {
   "cell_type": "markdown",
   "id": "e4213ea3-5316-48cc-bd89-204d7f4f4c6f",
   "metadata": {},
   "source": [
    "## Read adata"
   ]
  },
  {
   "cell_type": "code",
   "execution_count": 5,
   "id": "13f621bc-3f26-4097-9bf1-8d261fc39288",
   "metadata": {},
   "outputs": [],
   "source": [
    "data_path = 'tmp'\n",
    "motif_path = os.path.join(data_path, 'motif_deletion/')"
   ]
  },
  {
   "cell_type": "code",
   "execution_count": 7,
   "id": "1352af7c-e999-4ece-ba35-1e0b5235037f",
   "metadata": {},
   "outputs": [],
   "source": [
    "adata = sc.read(\n",
    "    os.path.join(data_path, 'bmmc_multiome_multivi_neurips21_curated_new_palantir_fixed_GEX.h5ad'))"
   ]
  },
  {
   "cell_type": "markdown",
   "id": "9fba9741-4bdf-4d20-8e24-495e924ee61d",
   "metadata": {},
   "source": [
    "## Read ref and alternative"
   ]
  },
  {
   "cell_type": "code",
   "execution_count": 10,
   "id": "2edec8fb-e727-4fbc-9fb4-d2121ba31cdd",
   "metadata": {},
   "outputs": [],
   "source": [
    "alts = pd.Series([x for x in glob.glob(f'{motif_path}*multiome_fixed.h5ad') if 'ref_multiome' not in x and \"atac\" not in x and 'rna' not in x])"
   ]
  },
  {
   "cell_type": "code",
   "execution_count": 13,
   "id": "441ed3d7-2fbe-4dfc-a114-2d5f082c00a5",
   "metadata": {},
   "outputs": [],
   "source": [
    "ad_ref = sc.read(os.path.join(motif_path, 'ref_multiome_fixed.h5ad'))"
   ]
  },
  {
   "cell_type": "code",
   "execution_count": 14,
   "id": "f232c5ed-c0b8-4472-9c54-1e6de26e61b4",
   "metadata": {},
   "outputs": [],
   "source": [
    "ad_ref = ad_ref[adata.obs_names]"
   ]
  },
  {
   "cell_type": "code",
   "execution_count": 17,
   "id": "4e912c21-1e40-41e9-a0d5-9a941f29e82f",
   "metadata": {},
   "outputs": [],
   "source": [
    "gene_set_to_run = ad_ref.var_names"
   ]
  },
  {
   "cell_type": "code",
   "execution_count": 19,
   "id": "c6693e76-ff71-42e4-a301-af926903688b",
   "metadata": {},
   "outputs": [],
   "source": [
    "median_sf=np.median(ad_ref.X.sum(axis=1))"
   ]
  },
  {
   "cell_type": "code",
   "execution_count": 20,
   "id": "319aa9cc-6971-46be-aafa-0a51b981f64a",
   "metadata": {},
   "outputs": [
    {
     "name": "stderr",
     "output_type": "stream",
     "text": [
      "/opt/modules/i12g/anaconda/envs/borzoi-pytorch/lib/python3.9/site-packages/scanpy/preprocessing/_normalization.py:206: UserWarning: Received a view of an AnnData. Making a copy.\n",
      "  view_to_actual(adata)\n"
     ]
    }
   ],
   "source": [
    "sc.pp.normalize_total(ad_ref, target_sum=median_sf, key_added='size_factor')"
   ]
  },
  {
   "cell_type": "code",
   "execution_count": 22,
   "id": "cb253a05-ccbe-4833-b5d4-eb79dbbf129f",
   "metadata": {
    "scrolled": true
   },
   "outputs": [
    {
     "name": "stderr",
     "output_type": "stream",
     "text": [
      "0it [00:00, ?it/s]"
     ]
    },
    {
     "name": "stdout",
     "output_type": "stream",
     "text": [
      "WARNING: Your filename has more than two extensions: ['.H12CORE', '.0', '.P', '.B_multiome_fixed', '.h5ad'].\n",
      "Only considering the two last: ['.B_multiome_fixed', '.h5ad'].\n",
      "WARNING: Your filename has more than two extensions: ['.H12CORE', '.0', '.P', '.B_multiome_fixed', '.h5ad'].\n",
      "Only considering the two last: ['.B_multiome_fixed', '.h5ad'].\n"
     ]
    },
    {
     "name": "stderr",
     "output_type": "stream",
     "text": [
      "84it [00:08, 10.39it/s]\n"
     ]
    }
   ],
   "source": [
    "diff_rna = {}\n",
    "diff_atac = {}\n",
    "norm_factor = ad_ref.obs['size_factor'].values[:, None]\n",
    "for i, alt in tqdm.tqdm(enumerate(alts)):\n",
    "    ad_alt = sc.read(alt)\n",
    "    motif_name = os.path.basename(alt).split('alt_')[1].split('_multiome_fixed.h5ad')[0]\n",
    "    ad_alt = ad_alt[adata.obs_names, list(gene_set_to_run)]\n",
    "\n",
    "    ad_alt.X = ad_alt.X/norm_factor * median_sf\n",
    "\n",
    "    motif_rna = (np.log2(ad_ref.X+1) - np.log2(ad_alt.X+1)).mean(axis=1).squeeze()\n",
    "    diff_rna.update({motif_name: motif_rna})\n",
    "    del ad_alt\n",
    "    gc.collect()"
   ]
  },
  {
   "cell_type": "code",
   "execution_count": 95,
   "id": "307c6c87-025b-4b38-8d9c-61d617bb926a",
   "metadata": {},
   "outputs": [],
   "source": [
    "diff_rna = pd.DataFrame(diff_rna, index=ad_ref.obs_names)\n",
    "diff_rna.columns = diff_rna.columns + '.' + diff_rna.columns"
   ]
  },
  {
   "cell_type": "code",
   "execution_count": 97,
   "id": "bea9b8ff-3d7c-44f1-a4f8-c75841484d04",
   "metadata": {},
   "outputs": [],
   "source": [
    "dev = sc.read(os.path.join(data_path, 'eval/chromvar/deviations.h5ad'))"
   ]
  },
  {
   "cell_type": "markdown",
   "id": "8bcb5318-b36a-4bdf-bfda-1e338a30e75c",
   "metadata": {},
   "source": [
    "## Plot overall correlations"
   ]
  },
  {
   "cell_type": "code",
   "execution_count": 98,
   "id": "9680973b-cc45-4103-af1a-f7eeb7518ef2",
   "metadata": {},
   "outputs": [],
   "source": [
    "dev = dev[diff_rna.index, diff_rna.columns]"
   ]
  },
  {
   "cell_type": "code",
   "execution_count": 103,
   "id": "dff09d08-0bcd-46c6-9b52-02a5d6c046a1",
   "metadata": {},
   "outputs": [],
   "source": [
    "new_names_tf = {\n",
    "    'TYY1': \"YY1\", \n",
    "    'STA5B':\"STAT5B\",\n",
    "     'KAISO':\"ZBTB33\", \n",
    "    'STA5A': \"STAT5A\", \n",
    "    'COE1':\"EBF1\"\n",
    "}"
   ]
  },
  {
   "cell_type": "code",
   "execution_count": 104,
   "id": "a0dfda60-98a1-4796-900f-7111f549df23",
   "metadata": {},
   "outputs": [],
   "source": [
    "tf = dev.var_names.str.split('.').str[0].to_list()"
   ]
  },
  {
   "cell_type": "code",
   "execution_count": 105,
   "id": "fe4282c7-a29d-4ab6-968f-c61ea448c511",
   "metadata": {},
   "outputs": [],
   "source": [
    "tf = pd.Series([tf_i if tf_i not in new_names_tf.keys() else new_names_tf[tf_i] for tf_i in tf])"
   ]
  },
  {
   "cell_type": "code",
   "execution_count": 106,
   "id": "c73df055-4879-4e96-bbbd-fc408e7f253a",
   "metadata": {},
   "outputs": [
    {
     "name": "stderr",
     "output_type": "stream",
     "text": [
      "/scratch/tmp/hingerl/ipykernel_1845498/3195176874.py:1: ImplicitModificationWarning: Trying to modify attribute `.var` of view, initializing view as actual.\n",
      "  dev.var['TF'] = tf.values\n"
     ]
    }
   ],
   "source": [
    "dev.var['TF'] = tf.values"
   ]
  },
  {
   "cell_type": "code",
   "execution_count": 110,
   "id": "c4c0341e-ede0-44a4-b4f4-b1f8d669c970",
   "metadata": {},
   "outputs": [],
   "source": [
    "diff_rna = diff_rna.loc[adata.obs_names]"
   ]
  },
  {
   "cell_type": "code",
   "execution_count": 113,
   "id": "629b4c2d-bed1-4d43-ba6d-4896443b9676",
   "metadata": {},
   "outputs": [],
   "source": [
    "expression_corr_norm = [scipy.stats.pearsonr(diff_rna[motif].values, adata[:, tf].X.A.squeeze())[0] for motif, tf in zip(dev.var_names, dev.var.TF)]"
   ]
  },
  {
   "cell_type": "code",
   "execution_count": 115,
   "id": "20ce68eb-ae4b-4c8f-bd82-85d0f3677371",
   "metadata": {},
   "outputs": [],
   "source": [
    "expression_chromvar_norm = [scipy.stats.pearsonr(dev[:, motif].X.squeeze(), adata[:, tf].X.A.squeeze())[0] for motif, tf in zip(dev.var_names, dev.var.TF)]"
   ]
  },
  {
   "cell_type": "code",
   "execution_count": 119,
   "id": "226bc92c-4833-4343-8a71-2a63ba91c36c",
   "metadata": {},
   "outputs": [
    {
     "name": "stdout",
     "output_type": "stream",
     "text": [
      "FOS\n",
      "FOSB\n",
      "FOSL2\n"
     ]
    },
    {
     "data": {
      "image/png": "[encoded data removed]",
      "text/plain": [
       "<Figure size 500x500 with 1 Axes>"
      ]
     },
     "metadata": {},
     "output_type": "display_data"
    }
   ],
   "source": [
    "fig, ax = plt.subplots(figsize=(5,5))\n",
    "custom_params = {\"axes.spines.right\": False, \"axes.spines.top\": False}\n",
    "sns.set_theme(style=\"ticks\", rc=custom_params)\n",
    "ax = sns.scatterplot(x=expression_chromvar_norm, y=expression_corr_norm, ax=ax)\n",
    "\n",
    "plt.axvline(0, linestyle ='--', color = 'lightgray')\n",
    "plt.axhline(0, linestyle ='--', color = 'lightgray')\n",
    "\n",
    "triangle = np.array([[0., 0.], [-1., 1.], [1, 1]])\n",
    "polygon = plt.Polygon(triangle, closed=True,alpha=0.25, facecolor='lightgray', edgecolor=None, zorder = -100)\n",
    "ax.add_patch(polygon)\n",
    "\n",
    "triangle = np.array([[0., 0.], [-1., -1.], [1, -1]])\n",
    "polygon = plt.Polygon(triangle, closed=True,alpha=0.25, facecolor='lightgray', edgecolor=None, zorder = -100)\n",
    "ax.add_patch(polygon)\n",
    "\n",
    "zipped = zip(expression_chromvar_norm, expression_corr_norm)\n",
    "adj_text = []\n",
    "for i, (x,y) in enumerate(zipped):\n",
    "    name= tf.iloc[i]\n",
    "    if (((x**2 + y**2) > 0.15) and name not in ['CEBPD',  'FOSL2', 'FOSB', 'RUNX2', 'MAFF', 'FOS', 'CREB5', 'KLF2', 'SOX5', 'JDP2', 'TFEC']) or name in ['ESR2', 'KLF6', 'E2F2', 'TAL1', 'MXI1', 'ETV6', 'GATA1', 'E2F7', 'KLF1', 'ZEB2'] : #or str(point['val']) in ['SOX13', 'FOSB', 'TEAD2',  'FLI1', 'FOXP1']:\n",
    "        if name == 'COE1':\n",
    "            name = 'EBF1'\n",
    "        adj_text.append(ax.text(x + 0.01, y+0.01 , \"\" + f\"{name}\" +\"\", size= 8))\n",
    "adjust_text(adj_text, expand=(2.2, 2.0), # expand text bounding boxes by 1.2 fold in x direction and 2 fold in y direction\n",
    "            arrowprops=dict(arrowstyle='-', color='k', lw = 0.5) # ensure the labeling is clear by adding arrows\n",
    "            );\n",
    "ax.text(-0.69,0.69, r'$P$ = 5.4 x $10^{-9}$', size = 10)\n",
    "#plt.legend([],[], frameon=False)\n",
    "plt.xlim(-0.75,0.75)\n",
    "plt.ylim(-0.75,0.75)\n",
    "plt.title('Correlation with TF expression')\n",
    "plt.xlabel(\"chromVAR\")\n",
    "plt.ylabel(\"scooby TF motif effect score\")\n",
    "sns.despine()\n",
    "plt.savefig('../figures/figures/Figure3/chromVAR_scDogRNA.png',  bbox_inches='tight', dpi = 300)"
   ]
  },
  {
   "cell_type": "markdown",
   "id": "b006cb95-b62b-42c6-b75e-41c214a79a0a",
   "metadata": {},
   "source": [
    "## scDog RNA only"
   ]
  },
  {
   "cell_type": "code",
   "execution_count": 120,
   "id": "5612aed7-e934-4d64-b605-b2bb12620bf6",
   "metadata": {},
   "outputs": [],
   "source": [
    "alts = pd.Series([x for x in glob.glob(f'{motif_path}*rnaonly_fixed.h5ad') if 'ref_rnaonly' not in x and \"atac\" not in x])"
   ]
  },
  {
   "cell_type": "code",
   "execution_count": 123,
   "id": "b5dab286-825a-45f2-a0a2-7534bb1cac8f",
   "metadata": {},
   "outputs": [],
   "source": [
    "ad_ref = sc.read(os.path.join(motif_path, 'ref_rnaonly_fixed.h5ad'))"
   ]
  },
  {
   "cell_type": "code",
   "execution_count": 124,
   "id": "577b709c-a775-4272-9e5c-82f58707e274",
   "metadata": {},
   "outputs": [],
   "source": [
    "ad_ref = ad_ref[adata.obs_names]"
   ]
  },
  {
   "cell_type": "code",
   "execution_count": 128,
   "id": "c14e14fc-48b2-41b8-a623-390ae8b7c1d6",
   "metadata": {},
   "outputs": [],
   "source": [
    "median_sf=np.median(ad_ref.X.sum(axis=1))"
   ]
  },
  {
   "cell_type": "code",
   "execution_count": 129,
   "id": "aec90a9a-c466-48b3-bbc3-0044731f071a",
   "metadata": {},
   "outputs": [
    {
     "name": "stderr",
     "output_type": "stream",
     "text": [
      "/opt/modules/i12g/anaconda/envs/borzoi-pytorch/lib/python3.9/site-packages/scanpy/preprocessing/_normalization.py:206: UserWarning: Received a view of an AnnData. Making a copy.\n",
      "  view_to_actual(adata)\n"
     ]
    }
   ],
   "source": [
    "sc.pp.normalize_total(ad_ref, target_sum=median_sf, key_added='size_factor')"
   ]
  },
  {
   "cell_type": "code",
   "execution_count": 130,
   "id": "6cfa2239-f89e-4b38-bd6d-b8f697c9e9fc",
   "metadata": {
    "scrolled": true
   },
   "outputs": [
    {
     "name": "stderr",
     "output_type": "stream",
     "text": [
      "0it [00:00, ?it/s]"
     ]
    },
    {
     "name": "stdout",
     "output_type": "stream",
     "text": [
      "WARNING: Your filename has more than two extensions: ['.H12CORE', '.2', '.SM', '.B_rnaonly_fixed', '.h5ad'].\n",
      "Only considering the two last: ['.B_rnaonly_fixed', '.h5ad'].\n",
      "WARNING: Your filename has more than two extensions: ['.H12CORE', '.2', '.SM', '.B_rnaonly_fixed', '.h5ad'].\n",
      "Only considering the two last: ['.B_rnaonly_fixed', '.h5ad'].\n"
     ]
    },
    {
     "name": "stderr",
     "output_type": "stream",
     "text": [
      "1it [00:08,  8.62s/it]"
     ]
    },
    {
     "name": "stdout",
     "output_type": "stream",
     "text": [
      "WARNING: Your filename has more than two extensions: ['.H12CORE', '.1', '.S', '.B_rnaonly_fixed', '.h5ad'].\n",
      "Only considering the two last: ['.B_rnaonly_fixed', '.h5ad'].\n",
      "WARNING: Your filename has more than two extensions: ['.H12CORE', '.1', '.S', '.B_rnaonly_fixed', '.h5ad'].\n",
      "Only considering the two last: ['.B_rnaonly_fixed', '.h5ad'].\n"
     ]
    },
    {
     "name": "stderr",
     "output_type": "stream",
     "text": [
      "2it [00:16,  8.20s/it]"
     ]
    },
    {
     "name": "stdout",
     "output_type": "stream",
     "text": [
      "WARNING: Your filename has more than two extensions: ['.H12CORE', '.0', '.PSM', '.A_rnaonly_fixed', '.h5ad'].\n",
      "Only considering the two last: ['.A_rnaonly_fixed', '.h5ad'].\n",
      "WARNING: Your filename has more than two extensions: ['.H12CORE', '.0', '.PSM', '.A_rnaonly_fixed', '.h5ad'].\n",
      "Only considering the two last: ['.A_rnaonly_fixed', '.h5ad'].\n"
     ]
    },
    {
     "name": "stderr",
     "output_type": "stream",
     "text": [
      "3it [00:24,  8.12s/it]"
     ]
    },
    {
     "name": "stdout",
     "output_type": "stream",
     "text": [
      "WARNING: Your filename has more than two extensions: ['.H12CORE', '.1', '.SM', '.B_rnaonly_fixed', '.h5ad'].\n",
      "Only considering the two last: ['.B_rnaonly_fixed', '.h5ad'].\n",
      "WARNING: Your filename has more than two extensions: ['.H12CORE', '.1', '.SM', '.B_rnaonly_fixed', '.h5ad'].\n",
      "Only considering the two last: ['.B_rnaonly_fixed', '.h5ad'].\n"
     ]
    },
    {
     "name": "stderr",
     "output_type": "stream",
     "text": [
      "4it [00:32,  7.99s/it]"
     ]
    },
    {
     "name": "stdout",
     "output_type": "stream",
     "text": [
      "WARNING: Your filename has more than two extensions: ['.H12CORE', '.0', '.PS', '.A_rnaonly_fixed', '.h5ad'].\n",
      "Only considering the two last: ['.A_rnaonly_fixed', '.h5ad'].\n",
      "WARNING: Your filename has more than two extensions: ['.H12CORE', '.0', '.PS', '.A_rnaonly_fixed', '.h5ad'].\n",
      "Only considering the two last: ['.A_rnaonly_fixed', '.h5ad'].\n"
     ]
    },
    {
     "name": "stderr",
     "output_type": "stream",
     "text": [
      "5it [00:40,  8.05s/it]"
     ]
    },
    {
     "name": "stdout",
     "output_type": "stream",
     "text": [
      "WARNING: Your filename has more than two extensions: ['.H12CORE', '.0', '.PS', '.A_rnaonly_fixed', '.h5ad'].\n",
      "Only considering the two last: ['.A_rnaonly_fixed', '.h5ad'].\n",
      "WARNING: Your filename has more than two extensions: ['.H12CORE', '.0', '.PS', '.A_rnaonly_fixed', '.h5ad'].\n",
      "Only considering the two last: ['.A_rnaonly_fixed', '.h5ad'].\n"
     ]
    },
    {
     "name": "stderr",
     "output_type": "stream",
     "text": [
      "6it [00:48,  7.94s/it]"
     ]
    },
    {
     "name": "stdout",
     "output_type": "stream",
     "text": [
      "WARNING: Your filename has more than two extensions: ['.H12CORE', '.0', '.P', '.B_rnaonly_fixed', '.h5ad'].\n",
      "Only considering the two last: ['.B_rnaonly_fixed', '.h5ad'].\n",
      "WARNING: Your filename has more than two extensions: ['.H12CORE', '.0', '.P', '.B_rnaonly_fixed', '.h5ad'].\n",
      "Only considering the two last: ['.B_rnaonly_fixed', '.h5ad'].\n"
     ]
    },
    {
     "name": "stderr",
     "output_type": "stream",
     "text": [
      "7it [00:56,  7.92s/it]"
     ]
    },
    {
     "name": "stdout",
     "output_type": "stream",
     "text": [
      "WARNING: Your filename has more than two extensions: ['.H12CORE', '.0', '.PSM', '.A_rnaonly_fixed', '.h5ad'].\n",
      "Only considering the two last: ['.A_rnaonly_fixed', '.h5ad'].\n",
      "WARNING: Your filename has more than two extensions: ['.H12CORE', '.0', '.PSM', '.A_rnaonly_fixed', '.h5ad'].\n",
      "Only considering the two last: ['.A_rnaonly_fixed', '.h5ad'].\n"
     ]
    },
    {
     "name": "stderr",
     "output_type": "stream",
     "text": [
      "8it [01:03,  7.90s/it]"
     ]
    },
    {
     "name": "stdout",
     "output_type": "stream",
     "text": [
      "WARNING: Your filename has more than two extensions: ['.H12CORE', '.0', '.P', '.B_rnaonly_fixed', '.h5ad'].\n",
      "Only considering the two last: ['.B_rnaonly_fixed', '.h5ad'].\n",
      "WARNING: Your filename has more than two extensions: ['.H12CORE', '.0', '.P', '.B_rnaonly_fixed', '.h5ad'].\n",
      "Only considering the two last: ['.B_rnaonly_fixed', '.h5ad'].\n"
     ]
    },
    {
     "name": "stderr",
     "output_type": "stream",
     "text": [
      "9it [01:12,  7.98s/it]"
     ]
    },
    {
     "name": "stdout",
     "output_type": "stream",
     "text": [
      "WARNING: Your filename has more than two extensions: ['.H12CORE', '.0', '.PSM', '.A_rnaonly_fixed', '.h5ad'].\n",
      "Only considering the two last: ['.A_rnaonly_fixed', '.h5ad'].\n",
      "WARNING: Your filename has more than two extensions: ['.H12CORE', '.0', '.PSM', '.A_rnaonly_fixed', '.h5ad'].\n",
      "Only considering the two last: ['.A_rnaonly_fixed', '.h5ad'].\n"
     ]
    },
    {
     "name": "stderr",
     "output_type": "stream",
     "text": [
      "10it [01:20,  8.06s/it]"
     ]
    },
    {
     "name": "stdout",
     "output_type": "stream",
     "text": [
      "WARNING: Your filename has more than two extensions: ['.H12CORE', '.0', '.PSM', '.A_rnaonly_fixed', '.h5ad'].\n",
      "Only considering the two last: ['.A_rnaonly_fixed', '.h5ad'].\n",
      "WARNING: Your filename has more than two extensions: ['.H12CORE', '.0', '.PSM', '.A_rnaonly_fixed', '.h5ad'].\n",
      "Only considering the two last: ['.A_rnaonly_fixed', '.h5ad'].\n"
     ]
    },
    {
     "name": "stderr",
     "output_type": "stream",
     "text": [
      "11it [01:28,  8.00s/it]"
     ]
    },
    {
     "name": "stdout",
     "output_type": "stream",
     "text": [
      "WARNING: Your filename has more than two extensions: ['.H12CORE', '.0', '.P', '.B_rnaonly_fixed', '.h5ad'].\n",
      "Only considering the two last: ['.B_rnaonly_fixed', '.h5ad'].\n",
      "WARNING: Your filename has more than two extensions: ['.H12CORE', '.0', '.P', '.B_rnaonly_fixed', '.h5ad'].\n",
      "Only considering the two last: ['.B_rnaonly_fixed', '.h5ad'].\n"
     ]
    },
    {
     "name": "stderr",
     "output_type": "stream",
     "text": [
      "12it [01:36,  7.98s/it]"
     ]
    },
    {
     "name": "stdout",
     "output_type": "stream",
     "text": [
      "WARNING: Your filename has more than two extensions: ['.H12CORE', '.1', '.P', '.B_rnaonly_fixed', '.h5ad'].\n",
      "Only considering the two last: ['.B_rnaonly_fixed', '.h5ad'].\n",
      "WARNING: Your filename has more than two extensions: ['.H12CORE', '.1', '.P', '.B_rnaonly_fixed', '.h5ad'].\n",
      "Only considering the two last: ['.B_rnaonly_fixed', '.h5ad'].\n"
     ]
    },
    {
     "name": "stderr",
     "output_type": "stream",
     "text": [
      "13it [01:44,  7.97s/it]"
     ]
    },
    {
     "name": "stdout",
     "output_type": "stream",
     "text": [
      "WARNING: Your filename has more than two extensions: ['.H12CORE', '.0', '.PM', '.A_rnaonly_fixed', '.h5ad'].\n",
      "Only considering the two last: ['.A_rnaonly_fixed', '.h5ad'].\n",
      "WARNING: Your filename has more than two extensions: ['.H12CORE', '.0', '.PM', '.A_rnaonly_fixed', '.h5ad'].\n",
      "Only considering the two last: ['.A_rnaonly_fixed', '.h5ad'].\n"
     ]
    },
    {
     "name": "stderr",
     "output_type": "stream",
     "text": [
      "14it [01:52,  8.07s/it]"
     ]
    },
    {
     "name": "stdout",
     "output_type": "stream",
     "text": [
      "WARNING: Your filename has more than two extensions: ['.H12CORE', '.0', '.PM', '.A_rnaonly_fixed', '.h5ad'].\n",
      "Only considering the two last: ['.A_rnaonly_fixed', '.h5ad'].\n",
      "WARNING: Your filename has more than two extensions: ['.H12CORE', '.0', '.PM', '.A_rnaonly_fixed', '.h5ad'].\n",
      "Only considering the two last: ['.A_rnaonly_fixed', '.h5ad'].\n"
     ]
    },
    {
     "name": "stderr",
     "output_type": "stream",
     "text": [
      "15it [02:00,  8.11s/it]"
     ]
    },
    {
     "name": "stdout",
     "output_type": "stream",
     "text": [
      "WARNING: Your filename has more than two extensions: ['.H12CORE', '.0', '.PSM', '.A_rnaonly_fixed', '.h5ad'].\n",
      "Only considering the two last: ['.A_rnaonly_fixed', '.h5ad'].\n",
      "WARNING: Your filename has more than two extensions: ['.H12CORE', '.0', '.PSM', '.A_rnaonly_fixed', '.h5ad'].\n",
      "Only considering the two last: ['.A_rnaonly_fixed', '.h5ad'].\n"
     ]
    },
    {
     "name": "stderr",
     "output_type": "stream",
     "text": [
      "16it [02:08,  8.00s/it]"
     ]
    },
    {
     "name": "stdout",
     "output_type": "stream",
     "text": [
      "WARNING: Your filename has more than two extensions: ['.H12CORE', '.0', '.P', '.B_rnaonly_fixed', '.h5ad'].\n",
      "Only considering the two last: ['.B_rnaonly_fixed', '.h5ad'].\n",
      "WARNING: Your filename has more than two extensions: ['.H12CORE', '.0', '.P', '.B_rnaonly_fixed', '.h5ad'].\n",
      "Only considering the two last: ['.B_rnaonly_fixed', '.h5ad'].\n"
     ]
    },
    {
     "name": "stderr",
     "output_type": "stream",
     "text": [
      "17it [02:16,  8.04s/it]"
     ]
    },
    {
     "name": "stdout",
     "output_type": "stream",
     "text": [
      "WARNING: Your filename has more than two extensions: ['.H12CORE', '.0', '.P', '.B_rnaonly_fixed', '.h5ad'].\n",
      "Only considering the two last: ['.B_rnaonly_fixed', '.h5ad'].\n",
      "WARNING: Your filename has more than two extensions: ['.H12CORE', '.0', '.P', '.B_rnaonly_fixed', '.h5ad'].\n",
      "Only considering the two last: ['.B_rnaonly_fixed', '.h5ad'].\n"
     ]
    },
    {
     "name": "stderr",
     "output_type": "stream",
     "text": [
      "18it [02:24,  8.00s/it]"
     ]
    },
    {
     "name": "stdout",
     "output_type": "stream",
     "text": [
      "WARNING: Your filename has more than two extensions: ['.H12CORE', '.0', '.P', '.B_rnaonly_fixed', '.h5ad'].\n",
      "Only considering the two last: ['.B_rnaonly_fixed', '.h5ad'].\n",
      "WARNING: Your filename has more than two extensions: ['.H12CORE', '.0', '.P', '.B_rnaonly_fixed', '.h5ad'].\n",
      "Only considering the two last: ['.B_rnaonly_fixed', '.h5ad'].\n"
     ]
    },
    {
     "name": "stderr",
     "output_type": "stream",
     "text": [
      "19it [02:32,  7.98s/it]"
     ]
    },
    {
     "name": "stdout",
     "output_type": "stream",
     "text": [
      "WARNING: Your filename has more than two extensions: ['.H12CORE', '.1', '.SM', '.B_rnaonly_fixed', '.h5ad'].\n",
      "Only considering the two last: ['.B_rnaonly_fixed', '.h5ad'].\n",
      "WARNING: Your filename has more than two extensions: ['.H12CORE', '.1', '.SM', '.B_rnaonly_fixed', '.h5ad'].\n",
      "Only considering the two last: ['.B_rnaonly_fixed', '.h5ad'].\n"
     ]
    },
    {
     "name": "stderr",
     "output_type": "stream",
     "text": [
      "20it [02:40,  7.93s/it]"
     ]
    },
    {
     "name": "stdout",
     "output_type": "stream",
     "text": [
      "WARNING: Your filename has more than two extensions: ['.H12CORE', '.0', '.PSM', '.A_rnaonly_fixed', '.h5ad'].\n",
      "Only considering the two last: ['.A_rnaonly_fixed', '.h5ad'].\n",
      "WARNING: Your filename has more than two extensions: ['.H12CORE', '.0', '.PSM', '.A_rnaonly_fixed', '.h5ad'].\n",
      "Only considering the two last: ['.A_rnaonly_fixed', '.h5ad'].\n"
     ]
    },
    {
     "name": "stderr",
     "output_type": "stream",
     "text": [
      "21it [02:48,  7.91s/it]"
     ]
    },
    {
     "name": "stdout",
     "output_type": "stream",
     "text": [
      "WARNING: Your filename has more than two extensions: ['.H12CORE', '.0', '.P', '.B_rnaonly_fixed', '.h5ad'].\n",
      "Only considering the two last: ['.B_rnaonly_fixed', '.h5ad'].\n",
      "WARNING: Your filename has more than two extensions: ['.H12CORE', '.0', '.P', '.B_rnaonly_fixed', '.h5ad'].\n",
      "Only considering the two last: ['.B_rnaonly_fixed', '.h5ad'].\n"
     ]
    },
    {
     "name": "stderr",
     "output_type": "stream",
     "text": [
      "22it [02:55,  7.89s/it]"
     ]
    },
    {
     "name": "stdout",
     "output_type": "stream",
     "text": [
      "WARNING: Your filename has more than two extensions: ['.H12CORE', '.1', '.P', '.B_rnaonly_fixed', '.h5ad'].\n",
      "Only considering the two last: ['.B_rnaonly_fixed', '.h5ad'].\n",
      "WARNING: Your filename has more than two extensions: ['.H12CORE', '.1', '.P', '.B_rnaonly_fixed', '.h5ad'].\n",
      "Only considering the two last: ['.B_rnaonly_fixed', '.h5ad'].\n"
     ]
    },
    {
     "name": "stderr",
     "output_type": "stream",
     "text": [
      "23it [03:03,  7.88s/it]"
     ]
    },
    {
     "name": "stdout",
     "output_type": "stream",
     "text": [
      "WARNING: Your filename has more than two extensions: ['.H12CORE', '.0', '.PSM', '.A_rnaonly_fixed', '.h5ad'].\n",
      "Only considering the two last: ['.A_rnaonly_fixed', '.h5ad'].\n",
      "WARNING: Your filename has more than two extensions: ['.H12CORE', '.0', '.PSM', '.A_rnaonly_fixed', '.h5ad'].\n",
      "Only considering the two last: ['.A_rnaonly_fixed', '.h5ad'].\n"
     ]
    },
    {
     "name": "stderr",
     "output_type": "stream",
     "text": [
      "24it [03:11,  7.83s/it]"
     ]
    },
    {
     "name": "stdout",
     "output_type": "stream",
     "text": [
      "WARNING: Your filename has more than two extensions: ['.H12CORE', '.1', '.SM', '.B_rnaonly_fixed', '.h5ad'].\n",
      "Only considering the two last: ['.B_rnaonly_fixed', '.h5ad'].\n",
      "WARNING: Your filename has more than two extensions: ['.H12CORE', '.1', '.SM', '.B_rnaonly_fixed', '.h5ad'].\n",
      "Only considering the two last: ['.B_rnaonly_fixed', '.h5ad'].\n"
     ]
    },
    {
     "name": "stderr",
     "output_type": "stream",
     "text": [
      "25it [03:19,  7.88s/it]"
     ]
    },
    {
     "name": "stdout",
     "output_type": "stream",
     "text": [
      "WARNING: Your filename has more than two extensions: ['.H12CORE', '.0', '.P', '.B_rnaonly_fixed', '.h5ad'].\n",
      "Only considering the two last: ['.B_rnaonly_fixed', '.h5ad'].\n",
      "WARNING: Your filename has more than two extensions: ['.H12CORE', '.0', '.P', '.B_rnaonly_fixed', '.h5ad'].\n",
      "Only considering the two last: ['.B_rnaonly_fixed', '.h5ad'].\n"
     ]
    },
    {
     "name": "stderr",
     "output_type": "stream",
     "text": [
      "26it [03:27,  7.84s/it]"
     ]
    },
    {
     "name": "stdout",
     "output_type": "stream",
     "text": [
      "WARNING: Your filename has more than two extensions: ['.H12CORE', '.1', '.S', '.B_rnaonly_fixed', '.h5ad'].\n",
      "Only considering the two last: ['.B_rnaonly_fixed', '.h5ad'].\n",
      "WARNING: Your filename has more than two extensions: ['.H12CORE', '.1', '.S', '.B_rnaonly_fixed', '.h5ad'].\n",
      "Only considering the two last: ['.B_rnaonly_fixed', '.h5ad'].\n"
     ]
    },
    {
     "name": "stderr",
     "output_type": "stream",
     "text": [
      "27it [03:34,  7.80s/it]"
     ]
    },
    {
     "name": "stdout",
     "output_type": "stream",
     "text": [
      "WARNING: Your filename has more than two extensions: ['.H12CORE', '.0', '.P', '.B_rnaonly_fixed', '.h5ad'].\n",
      "Only considering the two last: ['.B_rnaonly_fixed', '.h5ad'].\n",
      "WARNING: Your filename has more than two extensions: ['.H12CORE', '.0', '.P', '.B_rnaonly_fixed', '.h5ad'].\n",
      "Only considering the two last: ['.B_rnaonly_fixed', '.h5ad'].\n"
     ]
    },
    {
     "name": "stderr",
     "output_type": "stream",
     "text": [
      "28it [03:42,  7.86s/it]"
     ]
    },
    {
     "name": "stdout",
     "output_type": "stream",
     "text": [
      "WARNING: Your filename has more than two extensions: ['.H12CORE', '.0', '.S', '.C_rnaonly_fixed', '.h5ad'].\n",
      "Only considering the two last: ['.C_rnaonly_fixed', '.h5ad'].\n",
      "WARNING: Your filename has more than two extensions: ['.H12CORE', '.0', '.S', '.C_rnaonly_fixed', '.h5ad'].\n",
      "Only considering the two last: ['.C_rnaonly_fixed', '.h5ad'].\n"
     ]
    },
    {
     "name": "stderr",
     "output_type": "stream",
     "text": [
      "29it [03:51,  7.97s/it]"
     ]
    },
    {
     "name": "stdout",
     "output_type": "stream",
     "text": [
      "WARNING: Your filename has more than two extensions: ['.H12CORE', '.1', '.PSM', '.A_rnaonly_fixed', '.h5ad'].\n",
      "Only considering the two last: ['.A_rnaonly_fixed', '.h5ad'].\n",
      "WARNING: Your filename has more than two extensions: ['.H12CORE', '.1', '.PSM', '.A_rnaonly_fixed', '.h5ad'].\n",
      "Only considering the two last: ['.A_rnaonly_fixed', '.h5ad'].\n"
     ]
    },
    {
     "name": "stderr",
     "output_type": "stream",
     "text": [
      "30it [03:58,  7.95s/it]"
     ]
    },
    {
     "name": "stdout",
     "output_type": "stream",
     "text": [
      "WARNING: Your filename has more than two extensions: ['.H12CORE', '.2', '.SM', '.B_rnaonly_fixed', '.h5ad'].\n",
      "Only considering the two last: ['.B_rnaonly_fixed', '.h5ad'].\n",
      "WARNING: Your filename has more than two extensions: ['.H12CORE', '.2', '.SM', '.B_rnaonly_fixed', '.h5ad'].\n",
      "Only considering the two last: ['.B_rnaonly_fixed', '.h5ad'].\n"
     ]
    },
    {
     "name": "stderr",
     "output_type": "stream",
     "text": [
      "31it [04:06,  7.87s/it]"
     ]
    },
    {
     "name": "stdout",
     "output_type": "stream",
     "text": [
      "WARNING: Your filename has more than two extensions: ['.H12CORE', '.0', '.P', '.B_rnaonly_fixed', '.h5ad'].\n",
      "Only considering the two last: ['.B_rnaonly_fixed', '.h5ad'].\n",
      "WARNING: Your filename has more than two extensions: ['.H12CORE', '.0', '.P', '.B_rnaonly_fixed', '.h5ad'].\n",
      "Only considering the two last: ['.B_rnaonly_fixed', '.h5ad'].\n"
     ]
    },
    {
     "name": "stderr",
     "output_type": "stream",
     "text": [
      "32it [04:14,  7.90s/it]"
     ]
    },
    {
     "name": "stdout",
     "output_type": "stream",
     "text": [
      "WARNING: Your filename has more than two extensions: ['.H12CORE', '.0', '.P', '.B_rnaonly_fixed', '.h5ad'].\n",
      "Only considering the two last: ['.B_rnaonly_fixed', '.h5ad'].\n",
      "WARNING: Your filename has more than two extensions: ['.H12CORE', '.0', '.P', '.B_rnaonly_fixed', '.h5ad'].\n",
      "Only considering the two last: ['.B_rnaonly_fixed', '.h5ad'].\n"
     ]
    },
    {
     "name": "stderr",
     "output_type": "stream",
     "text": [
      "33it [04:22,  7.97s/it]"
     ]
    },
    {
     "name": "stdout",
     "output_type": "stream",
     "text": [
      "WARNING: Your filename has more than two extensions: ['.H12CORE', '.1', '.SM', '.B_rnaonly_fixed', '.h5ad'].\n",
      "Only considering the two last: ['.B_rnaonly_fixed', '.h5ad'].\n",
      "WARNING: Your filename has more than two extensions: ['.H12CORE', '.1', '.SM', '.B_rnaonly_fixed', '.h5ad'].\n",
      "Only considering the two last: ['.B_rnaonly_fixed', '.h5ad'].\n"
     ]
    },
    {
     "name": "stderr",
     "output_type": "stream",
     "text": [
      "34it [04:31,  8.07s/it]"
     ]
    },
    {
     "name": "stdout",
     "output_type": "stream",
     "text": [
      "WARNING: Your filename has more than two extensions: ['.H12CORE', '.0', '.P', '.B_rnaonly_fixed', '.h5ad'].\n",
      "Only considering the two last: ['.B_rnaonly_fixed', '.h5ad'].\n",
      "WARNING: Your filename has more than two extensions: ['.H12CORE', '.0', '.P', '.B_rnaonly_fixed', '.h5ad'].\n",
      "Only considering the two last: ['.B_rnaonly_fixed', '.h5ad'].\n"
     ]
    },
    {
     "name": "stderr",
     "output_type": "stream",
     "text": [
      "35it [04:38,  7.96s/it]"
     ]
    },
    {
     "name": "stdout",
     "output_type": "stream",
     "text": [
      "WARNING: Your filename has more than two extensions: ['.H12CORE', '.1', '.P', '.B_rnaonly_fixed', '.h5ad'].\n",
      "Only considering the two last: ['.B_rnaonly_fixed', '.h5ad'].\n",
      "WARNING: Your filename has more than two extensions: ['.H12CORE', '.1', '.P', '.B_rnaonly_fixed', '.h5ad'].\n",
      "Only considering the two last: ['.B_rnaonly_fixed', '.h5ad'].\n"
     ]
    },
    {
     "name": "stderr",
     "output_type": "stream",
     "text": [
      "36it [04:46,  7.97s/it]"
     ]
    },
    {
     "name": "stdout",
     "output_type": "stream",
     "text": [
      "WARNING: Your filename has more than two extensions: ['.H12CORE', '.1', '.SM', '.B_rnaonly_fixed', '.h5ad'].\n",
      "Only considering the two last: ['.B_rnaonly_fixed', '.h5ad'].\n",
      "WARNING: Your filename has more than two extensions: ['.H12CORE', '.1', '.SM', '.B_rnaonly_fixed', '.h5ad'].\n",
      "Only considering the two last: ['.B_rnaonly_fixed', '.h5ad'].\n"
     ]
    },
    {
     "name": "stderr",
     "output_type": "stream",
     "text": [
      "37it [04:54,  7.99s/it]"
     ]
    },
    {
     "name": "stdout",
     "output_type": "stream",
     "text": [
      "WARNING: Your filename has more than two extensions: ['.H12CORE', '.0', '.P', '.B_rnaonly_fixed', '.h5ad'].\n",
      "Only considering the two last: ['.B_rnaonly_fixed', '.h5ad'].\n",
      "WARNING: Your filename has more than two extensions: ['.H12CORE', '.0', '.P', '.B_rnaonly_fixed', '.h5ad'].\n",
      "Only considering the two last: ['.B_rnaonly_fixed', '.h5ad'].\n"
     ]
    },
    {
     "name": "stderr",
     "output_type": "stream",
     "text": [
      "38it [05:02,  7.90s/it]"
     ]
    },
    {
     "name": "stdout",
     "output_type": "stream",
     "text": [
      "WARNING: Your filename has more than two extensions: ['.H12CORE', '.0', '.P', '.B_rnaonly_fixed', '.h5ad'].\n",
      "Only considering the two last: ['.B_rnaonly_fixed', '.h5ad'].\n",
      "WARNING: Your filename has more than two extensions: ['.H12CORE', '.0', '.P', '.B_rnaonly_fixed', '.h5ad'].\n",
      "Only considering the two last: ['.B_rnaonly_fixed', '.h5ad'].\n"
     ]
    },
    {
     "name": "stderr",
     "output_type": "stream",
     "text": [
      "39it [05:10,  8.05s/it]"
     ]
    },
    {
     "name": "stdout",
     "output_type": "stream",
     "text": [
      "WARNING: Your filename has more than two extensions: ['.H12CORE', '.0', '.PSM', '.A_rnaonly_fixed', '.h5ad'].\n",
      "Only considering the two last: ['.A_rnaonly_fixed', '.h5ad'].\n",
      "WARNING: Your filename has more than two extensions: ['.H12CORE', '.0', '.PSM', '.A_rnaonly_fixed', '.h5ad'].\n",
      "Only considering the two last: ['.A_rnaonly_fixed', '.h5ad'].\n"
     ]
    },
    {
     "name": "stderr",
     "output_type": "stream",
     "text": [
      "40it [05:18,  7.96s/it]"
     ]
    },
    {
     "name": "stdout",
     "output_type": "stream",
     "text": [
      "WARNING: Your filename has more than two extensions: ['.H12CORE', '.0', '.PSM', '.A_rnaonly_fixed', '.h5ad'].\n",
      "Only considering the two last: ['.A_rnaonly_fixed', '.h5ad'].\n",
      "WARNING: Your filename has more than two extensions: ['.H12CORE', '.0', '.PSM', '.A_rnaonly_fixed', '.h5ad'].\n",
      "Only considering the two last: ['.A_rnaonly_fixed', '.h5ad'].\n"
     ]
    },
    {
     "name": "stderr",
     "output_type": "stream",
     "text": [
      "41it [05:27,  8.16s/it]"
     ]
    },
    {
     "name": "stdout",
     "output_type": "stream",
     "text": [
      "WARNING: Your filename has more than two extensions: ['.H12CORE', '.1', '.PS', '.A_rnaonly_fixed', '.h5ad'].\n",
      "Only considering the two last: ['.A_rnaonly_fixed', '.h5ad'].\n",
      "WARNING: Your filename has more than two extensions: ['.H12CORE', '.1', '.PS', '.A_rnaonly_fixed', '.h5ad'].\n",
      "Only considering the two last: ['.A_rnaonly_fixed', '.h5ad'].\n"
     ]
    },
    {
     "name": "stderr",
     "output_type": "stream",
     "text": [
      "42it [05:35,  8.15s/it]"
     ]
    },
    {
     "name": "stdout",
     "output_type": "stream",
     "text": [
      "WARNING: Your filename has more than two extensions: ['.H12CORE', '.0', '.PM', '.A_rnaonly_fixed', '.h5ad'].\n",
      "Only considering the two last: ['.A_rnaonly_fixed', '.h5ad'].\n",
      "WARNING: Your filename has more than two extensions: ['.H12CORE', '.0', '.PM', '.A_rnaonly_fixed', '.h5ad'].\n",
      "Only considering the two last: ['.A_rnaonly_fixed', '.h5ad'].\n"
     ]
    },
    {
     "name": "stderr",
     "output_type": "stream",
     "text": [
      "43it [05:43,  8.14s/it]"
     ]
    },
    {
     "name": "stdout",
     "output_type": "stream",
     "text": [
      "WARNING: Your filename has more than two extensions: ['.H12CORE', '.0', '.P', '.B_rnaonly_fixed', '.h5ad'].\n",
      "Only considering the two last: ['.B_rnaonly_fixed', '.h5ad'].\n",
      "WARNING: Your filename has more than two extensions: ['.H12CORE', '.0', '.P', '.B_rnaonly_fixed', '.h5ad'].\n",
      "Only considering the two last: ['.B_rnaonly_fixed', '.h5ad'].\n"
     ]
    },
    {
     "name": "stderr",
     "output_type": "stream",
     "text": [
      "44it [05:51,  8.03s/it]"
     ]
    },
    {
     "name": "stdout",
     "output_type": "stream",
     "text": [
      "WARNING: Your filename has more than two extensions: ['.H12CORE', '.0', '.P', '.B_rnaonly_fixed', '.h5ad'].\n",
      "Only considering the two last: ['.B_rnaonly_fixed', '.h5ad'].\n",
      "WARNING: Your filename has more than two extensions: ['.H12CORE', '.0', '.P', '.B_rnaonly_fixed', '.h5ad'].\n",
      "Only considering the two last: ['.B_rnaonly_fixed', '.h5ad'].\n"
     ]
    },
    {
     "name": "stderr",
     "output_type": "stream",
     "text": [
      "45it [05:59,  7.99s/it]"
     ]
    },
    {
     "name": "stdout",
     "output_type": "stream",
     "text": [
      "WARNING: Your filename has more than two extensions: ['.H12CORE', '.1', '.PSM', '.A_rnaonly_fixed', '.h5ad'].\n",
      "Only considering the two last: ['.A_rnaonly_fixed', '.h5ad'].\n",
      "WARNING: Your filename has more than two extensions: ['.H12CORE', '.1', '.PSM', '.A_rnaonly_fixed', '.h5ad'].\n",
      "Only considering the two last: ['.A_rnaonly_fixed', '.h5ad'].\n"
     ]
    },
    {
     "name": "stderr",
     "output_type": "stream",
     "text": [
      "46it [06:07,  7.98s/it]"
     ]
    },
    {
     "name": "stdout",
     "output_type": "stream",
     "text": [
      "WARNING: Your filename has more than two extensions: ['.H12CORE', '.0', '.S', '.B_rnaonly_fixed', '.h5ad'].\n",
      "Only considering the two last: ['.B_rnaonly_fixed', '.h5ad'].\n",
      "WARNING: Your filename has more than two extensions: ['.H12CORE', '.0', '.S', '.B_rnaonly_fixed', '.h5ad'].\n",
      "Only considering the two last: ['.B_rnaonly_fixed', '.h5ad'].\n"
     ]
    },
    {
     "name": "stderr",
     "output_type": "stream",
     "text": [
      "47it [06:15,  8.03s/it]"
     ]
    },
    {
     "name": "stdout",
     "output_type": "stream",
     "text": [
      "WARNING: Your filename has more than two extensions: ['.H12CORE', '.0', '.PSM', '.A_rnaonly_fixed', '.h5ad'].\n",
      "Only considering the two last: ['.A_rnaonly_fixed', '.h5ad'].\n",
      "WARNING: Your filename has more than two extensions: ['.H12CORE', '.0', '.PSM', '.A_rnaonly_fixed', '.h5ad'].\n",
      "Only considering the two last: ['.A_rnaonly_fixed', '.h5ad'].\n"
     ]
    },
    {
     "name": "stderr",
     "output_type": "stream",
     "text": [
      "48it [06:23,  7.95s/it]"
     ]
    },
    {
     "name": "stdout",
     "output_type": "stream",
     "text": [
      "WARNING: Your filename has more than two extensions: ['.H12CORE', '.1', '.P', '.B_rnaonly_fixed', '.h5ad'].\n",
      "Only considering the two last: ['.B_rnaonly_fixed', '.h5ad'].\n",
      "WARNING: Your filename has more than two extensions: ['.H12CORE', '.1', '.P', '.B_rnaonly_fixed', '.h5ad'].\n",
      "Only considering the two last: ['.B_rnaonly_fixed', '.h5ad'].\n"
     ]
    },
    {
     "name": "stderr",
     "output_type": "stream",
     "text": [
      "49it [06:30,  7.93s/it]"
     ]
    },
    {
     "name": "stdout",
     "output_type": "stream",
     "text": [
      "WARNING: Your filename has more than two extensions: ['.H12CORE', '.0', '.P', '.B_rnaonly_fixed', '.h5ad'].\n",
      "Only considering the two last: ['.B_rnaonly_fixed', '.h5ad'].\n",
      "WARNING: Your filename has more than two extensions: ['.H12CORE', '.0', '.P', '.B_rnaonly_fixed', '.h5ad'].\n",
      "Only considering the two last: ['.B_rnaonly_fixed', '.h5ad'].\n"
     ]
    },
    {
     "name": "stderr",
     "output_type": "stream",
     "text": [
      "50it [06:39,  8.00s/it]"
     ]
    },
    {
     "name": "stdout",
     "output_type": "stream",
     "text": [
      "WARNING: Your filename has more than two extensions: ['.H12CORE', '.1', '.SM', '.B_rnaonly_fixed', '.h5ad'].\n",
      "Only considering the two last: ['.B_rnaonly_fixed', '.h5ad'].\n",
      "WARNING: Your filename has more than two extensions: ['.H12CORE', '.1', '.SM', '.B_rnaonly_fixed', '.h5ad'].\n",
      "Only considering the two last: ['.B_rnaonly_fixed', '.h5ad'].\n"
     ]
    },
    {
     "name": "stderr",
     "output_type": "stream",
     "text": [
      "51it [06:47,  8.00s/it]"
     ]
    },
    {
     "name": "stdout",
     "output_type": "stream",
     "text": [
      "WARNING: Your filename has more than two extensions: ['.H12CORE', '.0', '.P', '.B_rnaonly_fixed', '.h5ad'].\n",
      "Only considering the two last: ['.B_rnaonly_fixed', '.h5ad'].\n",
      "WARNING: Your filename has more than two extensions: ['.H12CORE', '.0', '.P', '.B_rnaonly_fixed', '.h5ad'].\n",
      "Only considering the two last: ['.B_rnaonly_fixed', '.h5ad'].\n"
     ]
    },
    {
     "name": "stderr",
     "output_type": "stream",
     "text": [
      "52it [06:55,  7.98s/it]"
     ]
    },
    {
     "name": "stdout",
     "output_type": "stream",
     "text": [
      "WARNING: Your filename has more than two extensions: ['.H12CORE', '.0', '.PS', '.A_rnaonly_fixed', '.h5ad'].\n",
      "Only considering the two last: ['.A_rnaonly_fixed', '.h5ad'].\n",
      "WARNING: Your filename has more than two extensions: ['.H12CORE', '.0', '.PS', '.A_rnaonly_fixed', '.h5ad'].\n",
      "Only considering the two last: ['.A_rnaonly_fixed', '.h5ad'].\n"
     ]
    },
    {
     "name": "stderr",
     "output_type": "stream",
     "text": [
      "53it [07:02,  7.94s/it]"
     ]
    },
    {
     "name": "stdout",
     "output_type": "stream",
     "text": [
      "WARNING: Your filename has more than two extensions: ['.H12CORE', '.0', '.SM', '.B_rnaonly_fixed', '.h5ad'].\n",
      "Only considering the two last: ['.B_rnaonly_fixed', '.h5ad'].\n",
      "WARNING: Your filename has more than two extensions: ['.H12CORE', '.0', '.SM', '.B_rnaonly_fixed', '.h5ad'].\n",
      "Only considering the two last: ['.B_rnaonly_fixed', '.h5ad'].\n"
     ]
    },
    {
     "name": "stderr",
     "output_type": "stream",
     "text": [
      "54it [07:10,  7.95s/it]"
     ]
    },
    {
     "name": "stdout",
     "output_type": "stream",
     "text": [
      "WARNING: Your filename has more than two extensions: ['.H12CORE', '.0', '.P', '.B_rnaonly_fixed', '.h5ad'].\n",
      "Only considering the two last: ['.B_rnaonly_fixed', '.h5ad'].\n",
      "WARNING: Your filename has more than two extensions: ['.H12CORE', '.0', '.P', '.B_rnaonly_fixed', '.h5ad'].\n",
      "Only considering the two last: ['.B_rnaonly_fixed', '.h5ad'].\n"
     ]
    },
    {
     "name": "stderr",
     "output_type": "stream",
     "text": [
      "55it [07:18,  7.93s/it]"
     ]
    },
    {
     "name": "stdout",
     "output_type": "stream",
     "text": [
      "WARNING: Your filename has more than two extensions: ['.H12CORE', '.0', '.S', '.C_rnaonly_fixed', '.h5ad'].\n",
      "Only considering the two last: ['.C_rnaonly_fixed', '.h5ad'].\n",
      "WARNING: Your filename has more than two extensions: ['.H12CORE', '.0', '.S', '.C_rnaonly_fixed', '.h5ad'].\n",
      "Only considering the two last: ['.C_rnaonly_fixed', '.h5ad'].\n"
     ]
    },
    {
     "name": "stderr",
     "output_type": "stream",
     "text": [
      "56it [07:27,  8.06s/it]"
     ]
    },
    {
     "name": "stdout",
     "output_type": "stream",
     "text": [
      "WARNING: Your filename has more than two extensions: ['.H12CORE', '.0', '.P', '.B_rnaonly_fixed', '.h5ad'].\n",
      "Only considering the two last: ['.B_rnaonly_fixed', '.h5ad'].\n",
      "WARNING: Your filename has more than two extensions: ['.H12CORE', '.0', '.P', '.B_rnaonly_fixed', '.h5ad'].\n",
      "Only considering the two last: ['.B_rnaonly_fixed', '.h5ad'].\n"
     ]
    },
    {
     "name": "stderr",
     "output_type": "stream",
     "text": [
      "57it [07:34,  7.97s/it]"
     ]
    },
    {
     "name": "stdout",
     "output_type": "stream",
     "text": [
      "WARNING: Your filename has more than two extensions: ['.H12CORE', '.0', '.PS', '.A_rnaonly_fixed', '.h5ad'].\n",
      "Only considering the two last: ['.A_rnaonly_fixed', '.h5ad'].\n",
      "WARNING: Your filename has more than two extensions: ['.H12CORE', '.0', '.PS', '.A_rnaonly_fixed', '.h5ad'].\n",
      "Only considering the two last: ['.A_rnaonly_fixed', '.h5ad'].\n"
     ]
    },
    {
     "name": "stderr",
     "output_type": "stream",
     "text": [
      "58it [07:43,  8.10s/it]"
     ]
    },
    {
     "name": "stdout",
     "output_type": "stream",
     "text": [
      "WARNING: Your filename has more than two extensions: ['.H12CORE', '.1', '.SM', '.B_rnaonly_fixed', '.h5ad'].\n",
      "Only considering the two last: ['.B_rnaonly_fixed', '.h5ad'].\n",
      "WARNING: Your filename has more than two extensions: ['.H12CORE', '.1', '.SM', '.B_rnaonly_fixed', '.h5ad'].\n",
      "Only considering the two last: ['.B_rnaonly_fixed', '.h5ad'].\n"
     ]
    },
    {
     "name": "stderr",
     "output_type": "stream",
     "text": [
      "59it [07:51,  8.10s/it]"
     ]
    },
    {
     "name": "stdout",
     "output_type": "stream",
     "text": [
      "WARNING: Your filename has more than two extensions: ['.H12CORE', '.0', '.PSM', '.A_rnaonly_fixed', '.h5ad'].\n",
      "Only considering the two last: ['.A_rnaonly_fixed', '.h5ad'].\n",
      "WARNING: Your filename has more than two extensions: ['.H12CORE', '.0', '.PSM', '.A_rnaonly_fixed', '.h5ad'].\n",
      "Only considering the two last: ['.A_rnaonly_fixed', '.h5ad'].\n"
     ]
    },
    {
     "name": "stderr",
     "output_type": "stream",
     "text": [
      "60it [07:59,  8.04s/it]"
     ]
    },
    {
     "name": "stdout",
     "output_type": "stream",
     "text": [
      "WARNING: Your filename has more than two extensions: ['.H12CORE', '.0', '.PS', '.A_rnaonly_fixed', '.h5ad'].\n",
      "Only considering the two last: ['.A_rnaonly_fixed', '.h5ad'].\n",
      "WARNING: Your filename has more than two extensions: ['.H12CORE', '.0', '.PS', '.A_rnaonly_fixed', '.h5ad'].\n",
      "Only considering the two last: ['.A_rnaonly_fixed', '.h5ad'].\n"
     ]
    },
    {
     "name": "stderr",
     "output_type": "stream",
     "text": [
      "61it [08:07,  8.13s/it]"
     ]
    },
    {
     "name": "stdout",
     "output_type": "stream",
     "text": [
      "WARNING: Your filename has more than two extensions: ['.H12CORE', '.0', '.P', '.B_rnaonly_fixed', '.h5ad'].\n",
      "Only considering the two last: ['.B_rnaonly_fixed', '.h5ad'].\n",
      "WARNING: Your filename has more than two extensions: ['.H12CORE', '.0', '.P', '.B_rnaonly_fixed', '.h5ad'].\n",
      "Only considering the two last: ['.B_rnaonly_fixed', '.h5ad'].\n"
     ]
    },
    {
     "name": "stderr",
     "output_type": "stream",
     "text": [
      "62it [08:15,  8.06s/it]"
     ]
    },
    {
     "name": "stdout",
     "output_type": "stream",
     "text": [
      "WARNING: Your filename has more than two extensions: ['.H12CORE', '.1', '.P', '.B_rnaonly_fixed', '.h5ad'].\n",
      "Only considering the two last: ['.B_rnaonly_fixed', '.h5ad'].\n",
      "WARNING: Your filename has more than two extensions: ['.H12CORE', '.1', '.P', '.B_rnaonly_fixed', '.h5ad'].\n",
      "Only considering the two last: ['.B_rnaonly_fixed', '.h5ad'].\n"
     ]
    },
    {
     "name": "stderr",
     "output_type": "stream",
     "text": [
      "63it [08:23,  8.17s/it]"
     ]
    },
    {
     "name": "stdout",
     "output_type": "stream",
     "text": [
      "WARNING: Your filename has more than two extensions: ['.H12CORE', '.0', '.PSM', '.A_rnaonly_fixed', '.h5ad'].\n",
      "Only considering the two last: ['.A_rnaonly_fixed', '.h5ad'].\n",
      "WARNING: Your filename has more than two extensions: ['.H12CORE', '.0', '.PSM', '.A_rnaonly_fixed', '.h5ad'].\n",
      "Only considering the two last: ['.A_rnaonly_fixed', '.h5ad'].\n"
     ]
    },
    {
     "name": "stderr",
     "output_type": "stream",
     "text": [
      "64it [08:31,  8.07s/it]"
     ]
    },
    {
     "name": "stdout",
     "output_type": "stream",
     "text": [
      "WARNING: Your filename has more than two extensions: ['.H12CORE', '.0', '.P', '.B_rnaonly_fixed', '.h5ad'].\n",
      "Only considering the two last: ['.B_rnaonly_fixed', '.h5ad'].\n",
      "WARNING: Your filename has more than two extensions: ['.H12CORE', '.0', '.P', '.B_rnaonly_fixed', '.h5ad'].\n",
      "Only considering the two last: ['.B_rnaonly_fixed', '.h5ad'].\n"
     ]
    },
    {
     "name": "stderr",
     "output_type": "stream",
     "text": [
      "65it [08:39,  8.03s/it]"
     ]
    },
    {
     "name": "stdout",
     "output_type": "stream",
     "text": [
      "WARNING: Your filename has more than two extensions: ['.H12CORE', '.0', '.S', '.B_rnaonly_fixed', '.h5ad'].\n",
      "Only considering the two last: ['.B_rnaonly_fixed', '.h5ad'].\n",
      "WARNING: Your filename has more than two extensions: ['.H12CORE', '.0', '.S', '.B_rnaonly_fixed', '.h5ad'].\n",
      "Only considering the two last: ['.B_rnaonly_fixed', '.h5ad'].\n"
     ]
    },
    {
     "name": "stderr",
     "output_type": "stream",
     "text": [
      "66it [08:47,  8.05s/it]"
     ]
    },
    {
     "name": "stdout",
     "output_type": "stream",
     "text": [
      "WARNING: Your filename has more than two extensions: ['.H12CORE', '.0', '.P', '.B_rnaonly_fixed', '.h5ad'].\n",
      "Only considering the two last: ['.B_rnaonly_fixed', '.h5ad'].\n",
      "WARNING: Your filename has more than two extensions: ['.H12CORE', '.0', '.P', '.B_rnaonly_fixed', '.h5ad'].\n",
      "Only considering the two last: ['.B_rnaonly_fixed', '.h5ad'].\n"
     ]
    },
    {
     "name": "stderr",
     "output_type": "stream",
     "text": [
      "67it [08:55,  8.02s/it]"
     ]
    },
    {
     "name": "stdout",
     "output_type": "stream",
     "text": [
      "WARNING: Your filename has more than two extensions: ['.H12CORE', '.0', '.PS', '.A_rnaonly_fixed', '.h5ad'].\n",
      "Only considering the two last: ['.A_rnaonly_fixed', '.h5ad'].\n",
      "WARNING: Your filename has more than two extensions: ['.H12CORE', '.0', '.PS', '.A_rnaonly_fixed', '.h5ad'].\n",
      "Only considering the two last: ['.A_rnaonly_fixed', '.h5ad'].\n"
     ]
    },
    {
     "name": "stderr",
     "output_type": "stream",
     "text": [
      "68it [09:03,  8.02s/it]"
     ]
    },
    {
     "name": "stdout",
     "output_type": "stream",
     "text": [
      "WARNING: Your filename has more than two extensions: ['.H12CORE', '.0', '.P', '.C_rnaonly_fixed', '.h5ad'].\n",
      "Only considering the two last: ['.C_rnaonly_fixed', '.h5ad'].\n",
      "WARNING: Your filename has more than two extensions: ['.H12CORE', '.0', '.P', '.C_rnaonly_fixed', '.h5ad'].\n",
      "Only considering the two last: ['.C_rnaonly_fixed', '.h5ad'].\n"
     ]
    },
    {
     "name": "stderr",
     "output_type": "stream",
     "text": [
      "69it [09:11,  8.02s/it]"
     ]
    },
    {
     "name": "stdout",
     "output_type": "stream",
     "text": [
      "WARNING: Your filename has more than two extensions: ['.H12CORE', '.0', '.P', '.B_rnaonly_fixed', '.h5ad'].\n",
      "Only considering the two last: ['.B_rnaonly_fixed', '.h5ad'].\n",
      "WARNING: Your filename has more than two extensions: ['.H12CORE', '.0', '.P', '.B_rnaonly_fixed', '.h5ad'].\n",
      "Only considering the two last: ['.B_rnaonly_fixed', '.h5ad'].\n"
     ]
    },
    {
     "name": "stderr",
     "output_type": "stream",
     "text": [
      "70it [09:19,  8.02s/it]"
     ]
    },
    {
     "name": "stdout",
     "output_type": "stream",
     "text": [
      "WARNING: Your filename has more than two extensions: ['.H12CORE', '.0', '.P', '.B_rnaonly_fixed', '.h5ad'].\n",
      "Only considering the two last: ['.B_rnaonly_fixed', '.h5ad'].\n",
      "WARNING: Your filename has more than two extensions: ['.H12CORE', '.0', '.P', '.B_rnaonly_fixed', '.h5ad'].\n",
      "Only considering the two last: ['.B_rnaonly_fixed', '.h5ad'].\n"
     ]
    },
    {
     "name": "stderr",
     "output_type": "stream",
     "text": [
      "71it [09:27,  7.97s/it]"
     ]
    },
    {
     "name": "stdout",
     "output_type": "stream",
     "text": [
      "WARNING: Your filename has more than two extensions: ['.H12CORE', '.1', '.PS', '.A_rnaonly_fixed', '.h5ad'].\n",
      "Only considering the two last: ['.A_rnaonly_fixed', '.h5ad'].\n",
      "WARNING: Your filename has more than two extensions: ['.H12CORE', '.1', '.PS', '.A_rnaonly_fixed', '.h5ad'].\n",
      "Only considering the two last: ['.A_rnaonly_fixed', '.h5ad'].\n"
     ]
    },
    {
     "name": "stderr",
     "output_type": "stream",
     "text": [
      "72it [09:35,  8.03s/it]"
     ]
    },
    {
     "name": "stdout",
     "output_type": "stream",
     "text": [
      "WARNING: Your filename has more than two extensions: ['.H12CORE', '.0', '.P', '.B_rnaonly_fixed', '.h5ad'].\n",
      "Only considering the two last: ['.B_rnaonly_fixed', '.h5ad'].\n",
      "WARNING: Your filename has more than two extensions: ['.H12CORE', '.0', '.P', '.B_rnaonly_fixed', '.h5ad'].\n",
      "Only considering the two last: ['.B_rnaonly_fixed', '.h5ad'].\n"
     ]
    },
    {
     "name": "stderr",
     "output_type": "stream",
     "text": [
      "73it [09:43,  8.04s/it]"
     ]
    },
    {
     "name": "stdout",
     "output_type": "stream",
     "text": [
      "WARNING: Your filename has more than two extensions: ['.H12CORE', '.0', '.P', '.B_rnaonly_fixed', '.h5ad'].\n",
      "Only considering the two last: ['.B_rnaonly_fixed', '.h5ad'].\n",
      "WARNING: Your filename has more than two extensions: ['.H12CORE', '.0', '.P', '.B_rnaonly_fixed', '.h5ad'].\n",
      "Only considering the two last: ['.B_rnaonly_fixed', '.h5ad'].\n"
     ]
    },
    {
     "name": "stderr",
     "output_type": "stream",
     "text": [
      "74it [09:52,  8.09s/it]"
     ]
    },
    {
     "name": "stdout",
     "output_type": "stream",
     "text": [
      "WARNING: Your filename has more than two extensions: ['.H12CORE', '.1', '.S', '.B_rnaonly_fixed', '.h5ad'].\n",
      "Only considering the two last: ['.B_rnaonly_fixed', '.h5ad'].\n",
      "WARNING: Your filename has more than two extensions: ['.H12CORE', '.1', '.S', '.B_rnaonly_fixed', '.h5ad'].\n",
      "Only considering the two last: ['.B_rnaonly_fixed', '.h5ad'].\n"
     ]
    },
    {
     "name": "stderr",
     "output_type": "stream",
     "text": [
      "75it [09:59,  8.00s/it]"
     ]
    },
    {
     "name": "stdout",
     "output_type": "stream",
     "text": [
      "WARNING: Your filename has more than two extensions: ['.H12CORE', '.0', '.P', '.B_rnaonly_fixed', '.h5ad'].\n",
      "Only considering the two last: ['.B_rnaonly_fixed', '.h5ad'].\n",
      "WARNING: Your filename has more than two extensions: ['.H12CORE', '.0', '.P', '.B_rnaonly_fixed', '.h5ad'].\n",
      "Only considering the two last: ['.B_rnaonly_fixed', '.h5ad'].\n"
     ]
    },
    {
     "name": "stderr",
     "output_type": "stream",
     "text": [
      "76it [10:07,  7.92s/it]"
     ]
    },
    {
     "name": "stdout",
     "output_type": "stream",
     "text": [
      "WARNING: Your filename has more than two extensions: ['.H12CORE', '.1', '.PS', '.A_rnaonly_fixed', '.h5ad'].\n",
      "Only considering the two last: ['.A_rnaonly_fixed', '.h5ad'].\n",
      "WARNING: Your filename has more than two extensions: ['.H12CORE', '.1', '.PS', '.A_rnaonly_fixed', '.h5ad'].\n",
      "Only considering the two last: ['.A_rnaonly_fixed', '.h5ad'].\n"
     ]
    },
    {
     "name": "stderr",
     "output_type": "stream",
     "text": [
      "77it [10:15,  7.97s/it]"
     ]
    },
    {
     "name": "stdout",
     "output_type": "stream",
     "text": [
      "WARNING: Your filename has more than two extensions: ['.H12CORE', '.0', '.SM', '.B_rnaonly_fixed', '.h5ad'].\n",
      "Only considering the two last: ['.B_rnaonly_fixed', '.h5ad'].\n",
      "WARNING: Your filename has more than two extensions: ['.H12CORE', '.0', '.SM', '.B_rnaonly_fixed', '.h5ad'].\n",
      "Only considering the two last: ['.B_rnaonly_fixed', '.h5ad'].\n"
     ]
    },
    {
     "name": "stderr",
     "output_type": "stream",
     "text": [
      "78it [10:23,  7.92s/it]"
     ]
    },
    {
     "name": "stdout",
     "output_type": "stream",
     "text": [
      "WARNING: Your filename has more than two extensions: ['.H12CORE', '.0', '.PS', '.A_rnaonly_fixed', '.h5ad'].\n",
      "Only considering the two last: ['.A_rnaonly_fixed', '.h5ad'].\n",
      "WARNING: Your filename has more than two extensions: ['.H12CORE', '.0', '.PS', '.A_rnaonly_fixed', '.h5ad'].\n",
      "Only considering the two last: ['.A_rnaonly_fixed', '.h5ad'].\n"
     ]
    },
    {
     "name": "stderr",
     "output_type": "stream",
     "text": [
      "79it [10:32,  8.13s/it]"
     ]
    },
    {
     "name": "stdout",
     "output_type": "stream",
     "text": [
      "WARNING: Your filename has more than two extensions: ['.H12CORE', '.0', '.P', '.C_rnaonly_fixed', '.h5ad'].\n",
      "Only considering the two last: ['.C_rnaonly_fixed', '.h5ad'].\n",
      "WARNING: Your filename has more than two extensions: ['.H12CORE', '.0', '.P', '.C_rnaonly_fixed', '.h5ad'].\n",
      "Only considering the two last: ['.C_rnaonly_fixed', '.h5ad'].\n"
     ]
    },
    {
     "name": "stderr",
     "output_type": "stream",
     "text": [
      "80it [10:40,  8.08s/it]"
     ]
    },
    {
     "name": "stdout",
     "output_type": "stream",
     "text": [
      "WARNING: Your filename has more than two extensions: ['.H12CORE', '.0', '.P', '.B_rnaonly_fixed', '.h5ad'].\n",
      "Only considering the two last: ['.B_rnaonly_fixed', '.h5ad'].\n",
      "WARNING: Your filename has more than two extensions: ['.H12CORE', '.0', '.P', '.B_rnaonly_fixed', '.h5ad'].\n",
      "Only considering the two last: ['.B_rnaonly_fixed', '.h5ad'].\n"
     ]
    },
    {
     "name": "stderr",
     "output_type": "stream",
     "text": [
      "81it [10:47,  7.97s/it]"
     ]
    },
    {
     "name": "stdout",
     "output_type": "stream",
     "text": [
      "WARNING: Your filename has more than two extensions: ['.H12CORE', '.1', '.S', '.B_rnaonly_fixed', '.h5ad'].\n",
      "Only considering the two last: ['.B_rnaonly_fixed', '.h5ad'].\n",
      "WARNING: Your filename has more than two extensions: ['.H12CORE', '.1', '.S', '.B_rnaonly_fixed', '.h5ad'].\n",
      "Only considering the two last: ['.B_rnaonly_fixed', '.h5ad'].\n"
     ]
    },
    {
     "name": "stderr",
     "output_type": "stream",
     "text": [
      "82it [10:55,  7.98s/it]"
     ]
    },
    {
     "name": "stdout",
     "output_type": "stream",
     "text": [
      "WARNING: Your filename has more than two extensions: ['.H12CORE', '.1', '.SM', '.B_rnaonly_fixed', '.h5ad'].\n",
      "Only considering the two last: ['.B_rnaonly_fixed', '.h5ad'].\n",
      "WARNING: Your filename has more than two extensions: ['.H12CORE', '.1', '.SM', '.B_rnaonly_fixed', '.h5ad'].\n",
      "Only considering the two last: ['.B_rnaonly_fixed', '.h5ad'].\n"
     ]
    },
    {
     "name": "stderr",
     "output_type": "stream",
     "text": [
      "83it [11:04,  8.00s/it]\n"
     ]
    }
   ],
   "source": [
    "diff_rna = {}\n",
    "diff_atac = {}\n",
    "norm_factor = ad_ref.obs['size_factor'].values[:, None]\n",
    "for i, alt in tqdm.tqdm(enumerate(alts)):\n",
    "    ad_alt = sc.read(alt)\n",
    "    motif_name = os.path.basename(alt).split('alt_')[1].split('_rnaonly_fixed.h5ad')[0]\n",
    "    ad_alt = ad_alt[adata.obs_names, list(gene_set_to_run)]\n",
    "\n",
    "    ad_alt.X = ad_alt.X/norm_factor * median_sf\n",
    "\n",
    "    motif_rna = (np.log2(ad_ref.X+1) - np.log2(ad_alt.X+1)).mean(axis=1).squeeze()\n",
    "\n",
    "    diff_rna.update({motif_name: motif_rna})\n",
    "    del ad_alt\n",
    "    gc.collect()"
   ]
  },
  {
   "cell_type": "code",
   "execution_count": 131,
   "id": "12e22be7-08df-41a7-8492-6385643e01a9",
   "metadata": {},
   "outputs": [],
   "source": [
    "diff_rna = pd.DataFrame(diff_rna, index=ad_ref.obs_names)\n",
    "diff_rna.columns = diff_rna.columns + '.' + diff_rna.columns"
   ]
  },
  {
   "cell_type": "code",
   "execution_count": 148,
   "id": "6b9509ec-785d-490b-8a62-d6b3c80aad25",
   "metadata": {},
   "outputs": [],
   "source": [
    "diff_rna = diff_rna.loc[adata.obs_names]"
   ]
  },
  {
   "cell_type": "code",
   "execution_count": 149,
   "id": "81f3797c-1cba-4585-a1e2-62e61f5c010f",
   "metadata": {},
   "outputs": [],
   "source": [
    "assert (dev.var_names == diff_rna.columns).all()"
   ]
  },
  {
   "cell_type": "code",
   "execution_count": 151,
   "id": "d795cf12-d6ec-4b86-965e-f1aebbfb7734",
   "metadata": {},
   "outputs": [],
   "source": [
    "expression_corr_norm = [scipy.stats.pearsonr(diff_rna[motif].values, adata[:, tf].X.A.squeeze())[0] for motif, tf in zip(dev.var_names, dev.var.TF)]"
   ]
  },
  {
   "cell_type": "code",
   "execution_count": 153,
   "id": "8298006e-30e0-4551-af7d-1597294f9758",
   "metadata": {},
   "outputs": [],
   "source": [
    "expression_chromvar_norm = [scipy.stats.pearsonr(dev[:, motif].X.squeeze(), adata[:, tf].X.A.squeeze())[0] for motif, tf in zip(dev.var_names, dev.var.TF)]"
   ]
  },
  {
   "cell_type": "code",
   "execution_count": 81,
   "id": "fc2b3bd5-9d65-461c-96cf-c29501dd111c",
   "metadata": {},
   "outputs": [
    {
     "name": "stdout",
     "output_type": "stream",
     "text": [
      "FOS\n",
      "FOSB\n",
      "FOSL2\n"
     ]
    },
    {
     "data": {
      "image/png": "[encoded data removed]",
      "text/plain": [
       "<Figure size 500x500 with 1 Axes>"
      ]
     },
     "metadata": {},
     "output_type": "display_data"
    }
   ],
   "source": [
    "fig, ax = plt.subplots(figsize=(5,5))\n",
    "custom_params = {\"axes.spines.right\": False, \"axes.spines.top\": False}\n",
    "sns.set_theme(style=\"ticks\", rc=custom_params)\n",
    "ax = sns.scatterplot(x=expression_chromvar_norm, y=expression_corr_norm, ax=ax)\n",
    "\n",
    "plt.axvline(0, linestyle ='--', color = 'lightgray')\n",
    "plt.axhline(0, linestyle ='--', color = 'lightgray')\n",
    "\n",
    "triangle = np.array([[0., 0.], [-1., 1.], [1, 1]])\n",
    "polygon = plt.Polygon(triangle, closed=True,alpha=0.25, facecolor='lightgray', edgecolor=None, zorder = -100)\n",
    "ax.add_patch(polygon)\n",
    "\n",
    "triangle = np.array([[0., 0.], [-1., -1.], [1, -1]])\n",
    "polygon = plt.Polygon(triangle, closed=True,alpha=0.25, facecolor='lightgray', edgecolor=None, zorder = -100)\n",
    "ax.add_patch(polygon)\n",
    "\n",
    "zipped = zip(expression_chromvar_norm, expression_corr_norm)\n",
    "adj_text = []\n",
    "for i, (x,y) in enumerate(zipped):\n",
    "    name= tf.iloc[i]\n",
    "\n",
    "    if (((x**2 + y**2) > 0.15) and name not in ['CEBPD',  'FOSL2', 'FOSB', 'RUNX2', 'MAFF', 'FOS', 'CREB5', 'KLF2', 'SOX5', 'JDP2', 'TFEC']) or name in ['ESR2', 'KLF6', 'E2F2', 'TAL1', 'MXI1', 'ETV6', 'GATA1', 'E2F7', 'KLF1', 'ZEB2'] : #or str(point['val']) in ['SOX13', 'FOSB', 'TEAD2',  'FLI1', 'FOXP1']:\n",
    "        if name == 'COE1':\n",
    "            name = 'EBF1'\n",
    "        adj_text.append(ax.text(x + 0.01, y+0.01 , \"\" + f\"{name}\" +\"\", size= 8))\n",
    "adjust_text(adj_text, expand=(2.2, 1.9), # expand text bounding boxes by 1.2 fold in x direction and 2 fold in y direction\n",
    "            arrowprops=dict(arrowstyle='-', color='k', lw = 0.5) # ensure the labeling is clear by adding arrows\n",
    "            );\n",
    "\n",
    "ax.text(-0.69,0.69, r'$P$ = 2.0 x $10^{-7}$', size = 10)\n",
    "plt.xlim(-0.75,0.75)\n",
    "plt.ylim(-0.75,0.75)\n",
    "plt.title('Correlation with TF expression')\n",
    "plt.xlabel(\"chromVAR\")\n",
    "plt.ylabel(\"scooby-RNA only TF motif effect score\")\n",
    "sns.despine()\n",
    "plt.savefig('../figures/figures/Figure3/chromVAR_scDogRNA_RNAonly.png',  bbox_inches='tight', dpi = 300)"
   ]
  }
 ],
 "metadata": {
  "kernelspec": {
   "display_name": "Python [conda env:anaconda-borzoi-pytorch]",
   "language": "python",
   "name": "conda-env-anaconda-borzoi-pytorch-py"
  },
  "language_info": {
   "codemirror_mode": {
    "name": "ipython",
    "version": 3
   },
   "file_extension": ".py",
   "mimetype": "text/x-python",
   "name": "python",
   "nbconvert_exporter": "python",
   "pygments_lexer": "ipython3",
   "version": "3.9.18"
  }
 },
 "nbformat": 4,
 "nbformat_minor": 5
}
