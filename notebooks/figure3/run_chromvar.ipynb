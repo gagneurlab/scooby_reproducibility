{
 "cells": [
  {
   "cell_type": "code",
   "execution_count": 5,
   "id": "0966ad30-6648-4531-b050-69ef124b236c",
   "metadata": {},
   "outputs": [],
   "source": [
    "import scanpy as sc"
   ]
  },
  {
   "cell_type": "code",
   "execution_count": 6,
   "id": "9a1b9bbc-c089-4b37-890f-fc5bcd7f876c",
   "metadata": {},
   "outputs": [],
   "source": [
    "import Bio.motifs.jaspar\n",
    "import pychromvar as pc\n",
    "import os"
   ]
  },
  {
   "cell_type": "code",
   "execution_count": 7,
   "id": "ef9707e1-9ab2-436e-a19c-6c0792620400",
   "metadata": {},
   "outputs": [
    {
     "name": "stderr",
     "output_type": "stream",
     "text": [
      "/opt/modules/i12g/anaconda/envs/scooby_reproducibility/lib/python3.9/site-packages/docrep/decorators.py:43: SyntaxWarning: 'param_size_factor_key_expr' is not a valid key!\n",
      "  doc = func(self, args[0].__doc__, *args[1:], **kwargs)\n",
      "/opt/modules/i12g/anaconda/envs/scooby_reproducibility/lib/python3.9/site-packages/docrep/decorators.py:43: SyntaxWarning: 'param_size_factor_key_acc' is not a valid key!\n",
      "  doc = func(self, args[0].__doc__, *args[1:], **kwargs)\n"
     ]
    }
   ],
   "source": [
    "import scvi"
   ]
  },
  {
   "cell_type": "code",
   "execution_count": 8,
   "id": "dc5b102c-4e60-435d-ba0e-3264641420c1",
   "metadata": {},
   "outputs": [],
   "source": [
    "data_path = '/s/project/QNA/scborzoi/submission_data/'"
   ]
  },
  {
   "cell_type": "code",
   "execution_count": 10,
   "id": "945cf7e3-14f8-4ef6-8748-e5ae4091c53d",
   "metadata": {},
   "outputs": [],
   "source": [
    "with open(os.path.join(data_path, \"motif_effects\", \"chromvar\", \"H12CORE_jaspar_format.txt\"), 'r') as f:\n",
    "    motifs = Bio.motifs.jaspar.read(f, format='jaspar')"
   ]
  },
  {
   "cell_type": "code",
   "execution_count": 14,
   "id": "7241cf54-e16b-46d9-b792-8a72633ac83c",
   "metadata": {
    "tags": []
   },
   "outputs": [],
   "source": [
    "adata = sc.read(\n",
    "    os.path.join(data_path, 'bmmc_multiome_multivi_neurips21_curated_new_palantir_fixed.h5ad'))"
   ]
  },
  {
   "cell_type": "code",
   "execution_count": 15,
   "id": "85cab3f7-0315-4710-abc2-1709abc3e186",
   "metadata": {},
   "outputs": [],
   "source": [
    "adata = adata[:, adata.var.feature_types == 'ATAC'].copy()"
   ]
  },
  {
   "cell_type": "code",
   "execution_count": 16,
   "id": "0611fde3-43d6-4f63-8eb9-0c1296b3c5ca",
   "metadata": {},
   "outputs": [],
   "source": [
    "adata.X = adata.layers['counts'].copy()"
   ]
  },
  {
   "cell_type": "code",
   "execution_count": 17,
   "id": "5cc0a0ee-54df-41d3-a0a9-77540db19830",
   "metadata": {},
   "outputs": [
    {
     "data": {
      "text/plain": [
       "<63683x116490 sparse matrix of type '<class 'numpy.float32'>'\n",
       "\twith 214287522 stored elements in Compressed Sparse Row format>"
      ]
     },
     "execution_count": 17,
     "metadata": {},
     "output_type": "execute_result"
    }
   ],
   "source": [
    "adata.X"
   ]
  },
  {
   "cell_type": "code",
   "execution_count": 18,
   "id": "d4543e28-611d-4368-affd-6ad508135b6a",
   "metadata": {},
   "outputs": [
    {
     "name": "stdout",
     "output_type": "stream",
     "text": [
      "30446262\n",
      "159924112\n"
     ]
    }
   ],
   "source": [
    "print((adata.X == 1).sum())\n",
    "print((adata.X == 2).sum())"
   ]
  },
  {
   "cell_type": "code",
   "execution_count": 19,
   "id": "c27af5f7-6f75-4876-988d-282e326b76fb",
   "metadata": {},
   "outputs": [],
   "source": [
    "scvi.data.reads_to_fragments(adata)"
   ]
  },
  {
   "cell_type": "code",
   "execution_count": 20,
   "id": "0d7281fb-2c6e-4ea5-bc66-0278dd8f467e",
   "metadata": {},
   "outputs": [],
   "source": [
    "adata.X = adata.layers['fragments'].copy()"
   ]
  },
  {
   "cell_type": "code",
   "execution_count": 21,
   "id": "2ff10436-5eeb-4211-a07e-e2924eb4aa9c",
   "metadata": {},
   "outputs": [
    {
     "name": "stdout",
     "output_type": "stream",
     "text": [
      "190370374\n",
      "20785981\n"
     ]
    }
   ],
   "source": [
    "print((adata.X == 1).sum())\n",
    "print((adata.X == 2).sum())"
   ]
  },
  {
   "cell_type": "code",
   "execution_count": 22,
   "id": "60f88704-74b1-47e8-9f37-a77a6ebc5442",
   "metadata": {},
   "outputs": [],
   "source": [
    "adata = adata[adata.obs.l2_cell_type != 'Doublet']"
   ]
  },
  {
   "cell_type": "code",
   "execution_count": 23,
   "id": "b3a7398f-b0b7-4a24-8350-2c31b3f0502e",
   "metadata": {},
   "outputs": [
    {
     "name": "stderr",
     "output_type": "stream",
     "text": [
      "/opt/modules/i12g/anaconda/envs/scooby_reproducibility/lib/python3.9/site-packages/scanpy/preprocessing/_simple.py:283: ImplicitModificationWarning: Trying to modify attribute `.var` of view, initializing view as actual.\n",
      "  adata.var[\"n_cells\"] = number\n"
     ]
    }
   ],
   "source": [
    "sc.pp.filter_genes(adata, min_cells=int(adata.shape[0]*0.01))"
   ]
  },
  {
   "cell_type": "code",
   "execution_count": 27,
   "id": "250f2b6a-01b5-486d-9a15-bea435b5e0f8",
   "metadata": {},
   "outputs": [
    {
     "name": "stderr",
     "output_type": "stream",
     "text": [
      "100%|██████████| 61663/61663 [00:00<00:00, 94754.05it/s]\n"
     ]
    }
   ],
   "source": [
    "# identical contig names as used for alignment\n",
    "pc.add_peak_seq(adata, genome_file=os.path.join(data_path,  \"motif_effects\", \"chromvar\", 'genome.fa'), delimiter=\"-\")"
   ]
  },
  {
   "cell_type": "code",
   "execution_count": 28,
   "id": "8664a468-9884-4511-83fa-9b4c3f96c26c",
   "metadata": {},
   "outputs": [
    {
     "name": "stderr",
     "output_type": "stream",
     "text": [
      "100%|██████████| 61628/61628 [00:00<00:00, 125202.80it/s]\n"
     ]
    }
   ],
   "source": [
    "pc.add_gc_bias(adata)\n",
    "pc.get_bg_peaks(adata)"
   ]
  },
  {
   "cell_type": "code",
   "execution_count": 29,
   "id": "ddd8a2f8-2333-4997-a723-2ed53eeab02b",
   "metadata": {},
   "outputs": [
    {
     "name": "stderr",
     "output_type": "stream",
     "text": [
      "100%|██████████| 61628/61628 [07:46<00:00, 132.08it/s]\n"
     ]
    }
   ],
   "source": [
    "pc.match_motif(adata, motifs=motifs)"
   ]
  },
  {
   "cell_type": "code",
   "execution_count": 30,
   "id": "267ca0b0-d4ec-475f-a959-94a2cce3783c",
   "metadata": {},
   "outputs": [],
   "source": [
    "adata.write('adata_chromvar_tmp.h5ad')"
   ]
  },
  {
   "cell_type": "code",
   "execution_count": 3,
   "id": "26fe269b-fb65-456c-8a65-5c09f59b081b",
   "metadata": {},
   "outputs": [],
   "source": [
    "adata = sc.read('adata_chromvar_tmp.h5ad')"
   ]
  },
  {
   "cell_type": "code",
   "execution_count": 6,
   "id": "93d4d503-8257-45e9-aa9b-bfb07173209c",
   "metadata": {},
   "outputs": [
    {
     "name": "stderr",
     "output_type": "stream",
     "text": [
      "2024-07-11 13:22:37 INFO     computing expectation reads per cell and peak...\n",
      "2024-07-11 13:22:41 INFO     computing observed motif deviations...\n",
      "2024-07-11 13:23:00 INFO     computing background deviations...\n",
      "/opt/modules/i12g/anaconda/envs/scvi-tools-1/lib/python3.12/site-packages/anndata/_core/anndata.py:430: FutureWarning: The dtype argument is deprecated and will be removed in late 2024.\n",
      "  warnings.warn(\n"
     ]
    },
    {
     "data": {
      "text/plain": [
       "AnnData object with n_obs × n_vars = 63788 × 1443"
      ]
     },
     "execution_count": 6,
     "metadata": {},
     "output_type": "execute_result"
    }
   ],
   "source": [
    "dev = pc.compute_deviations(adata)\n",
    "dev"
   ]
  },
  {
   "cell_type": "code",
   "execution_count": 13,
   "id": "26af41c6-d5ff-4849-b9d3-11b68c25f3c3",
   "metadata": {},
   "outputs": [],
   "source": [
    "dev.write(os.path.join(data_path,  \"motif_effects\", \"chromvar\", 'deviations.h5ad'))"
   ]
  },
  {
   "cell_type": "code",
   "execution_count": 14,
   "id": "d476e99c-ea77-4e11-8f24-0362956c6171",
   "metadata": {},
   "outputs": [],
   "source": [
    "! rm adata_chromvar_tmp.h5ad"
   ]
  },
  {
   "cell_type": "code",
   "execution_count": null,
   "id": "ea1f62fd-a95f-4667-b365-c8aa4bfb421a",
   "metadata": {},
   "outputs": [],
   "source": []
  }
 ],
 "metadata": {
  "kernelspec": {
   "display_name": "Python [conda env:anaconda-scooby_reproducibility]",
   "language": "python",
   "name": "conda-env-anaconda-scooby_reproducibility-py"
  },
  "language_info": {
   "codemirror_mode": {
    "name": "ipython",
    "version": 3
   },
   "file_extension": ".py",
   "mimetype": "text/x-python",
   "name": "python",
   "nbconvert_exporter": "python",
   "pygments_lexer": "ipython3",
   "version": "3.9.19"
  }
 },
 "nbformat": 4,
 "nbformat_minor": 5
}
