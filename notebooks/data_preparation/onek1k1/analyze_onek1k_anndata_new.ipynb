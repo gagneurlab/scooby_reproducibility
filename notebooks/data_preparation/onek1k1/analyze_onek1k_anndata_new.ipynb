{
 "cells": [
  {
   "cell_type": "code",
   "execution_count": null,
   "id": "1812ae52-779e-4ff0-859d-4d1b254db58f",
   "metadata": {
    "tags": []
   },
   "outputs": [],
   "source": [
    "import scanpy as sc\n",
    "import os\n",
    "import scanpy as sc\n",
    "import pandas as pd\n",
    "import pyranges as pr\n",
    "\n",
    "import seaborn as sns\n",
    "import matplotlib.pyplot as plt\n",
    "import polars as pl"
   ]
  },
  {
   "cell_type": "code",
   "execution_count": null,
   "id": "c30e5a82-e46b-4e46-b208-7c434b9f5814",
   "metadata": {
    "tags": []
   },
   "outputs": [],
   "source": [
    "## scvi-tools-1"
   ]
  },
  {
   "cell_type": "markdown",
   "id": "a383928e-934a-4702-b462-c0bf4bd3bdab",
   "metadata": {},
   "source": [
    "## Read adata"
   ]
  },
  {
   "cell_type": "code",
   "execution_count": null,
   "id": "cc391b86-ba58-4d1b-9d45-6d0529a785a1",
   "metadata": {},
   "outputs": [],
   "source": [
    "data_path = '/data/ceph/hdd/project/node_08/QNA/scborzoi/submission_data'"
   ]
  },
  {
   "cell_type": "code",
   "execution_count": null,
   "id": "7241cf54-e16b-46d9-b792-8a72633ac83c",
   "metadata": {
    "tags": []
   },
   "outputs": [],
   "source": [
    "adata = sc.read(\n",
    "    os.path.join(data_path, 'OneK1K_cohort_gene_expression_matrix_14_celltypes.h5ad'), backed='r') # sanger matrix"
   ]
  },
  {
   "cell_type": "code",
   "execution_count": null,
   "id": "53f3247e-723f-4891-a2df-16cd7fe998d1",
   "metadata": {},
   "outputs": [],
   "source": [
    "adata.var['gene'] = adata.var.GeneSymbol.str.replace(' ', '')"
   ]
  },
  {
   "cell_type": "code",
   "execution_count": null,
   "id": "705c799d-8892-46af-94bf-bdb8d35cc783",
   "metadata": {
    "tags": []
   },
   "outputs": [],
   "source": [
    "adata = adata[~adata.obs.cell_label.isin(['Platelets', 'Erythrocytes'])]"
   ]
  },
  {
   "cell_type": "markdown",
   "id": "4724961b-25a9-4fc7-a2f1-f1240156bb38",
   "metadata": {},
   "source": [
    "## Compute highly variable genes"
   ]
  },
  {
   "cell_type": "code",
   "execution_count": 17,
   "id": "39a073af-7fdd-40a2-b4d2-5ab32b7d1dd3",
   "metadata": {
    "tags": []
   },
   "outputs": [],
   "source": [
    "adata = adata.to_memory()"
   ]
  },
  {
   "cell_type": "code",
   "execution_count": 18,
   "id": "26ea697c-310a-43da-b391-078af00a7b6a",
   "metadata": {
    "tags": []
   },
   "outputs": [],
   "source": [
    "adata.obs['sample'] = 'pool'+ adata.obs_names.str.split('-').str[1]\n",
    "adata.obs['barcode_sample'] = adata.obs_names.str.split('-').str[0] + '-1'"
   ]
  },
  {
   "cell_type": "code",
   "execution_count": 19,
   "id": "a8b980d3-74ab-47a2-920a-d1412a66c95b",
   "metadata": {
    "tags": []
   },
   "outputs": [],
   "source": [
    "sc.pp.highly_variable_genes(adata, flavor='seurat_v3', n_top_genes=3000, batch_key='sample')"
   ]
  },
  {
   "cell_type": "code",
   "execution_count": 23,
   "id": "432126af-8dd4-4337-9ad5-41696fd419ac",
   "metadata": {
    "tags": []
   },
   "outputs": [],
   "source": [
    "adata.write(os.path.join(data_path, 'onek1k_training_data', 'OneK1K_only_immune.h5ad'))"
   ]
  },
  {
   "cell_type": "markdown",
   "id": "0b9710c4-a5b9-4f91-9533-6d12aa4e4189",
   "metadata": {},
   "source": [
    "## Check which highly variable genes overlap with val/test genes"
   ]
  },
  {
   "cell_type": "code",
   "execution_count": 52,
   "id": "933212ca-eeb0-4a75-b2f9-065a88bb1763",
   "metadata": {
    "tags": []
   },
   "outputs": [],
   "source": [
    "import pyranges as pr\n",
    "import numpy as np"
   ]
  },
  {
   "cell_type": "code",
   "execution_count": 138,
   "id": "491e7437-6f50-46b4-873a-86b78d10aed4",
   "metadata": {},
   "outputs": [],
   "source": [
    "adata = sc.read(os.path.join(data_path, 'onek1k_training_data','OneK1K_only_immune.h5ad'))"
   ]
  },
  {
   "cell_type": "code",
   "execution_count": 139,
   "id": "73f64678-1324-4332-b009-37cb0f205591",
   "metadata": {},
   "outputs": [],
   "source": [
    "cellxgene = sc.read(os.path.join(data_path, 'onek1k_cellxgene.h5ad'), backed='r') # cellxgene matrix"
   ]
  },
  {
   "cell_type": "code",
   "execution_count": 140,
   "id": "caba1532-a953-4b0e-8ce9-fc5aa4875388",
   "metadata": {},
   "outputs": [],
   "source": [
    "missing_ontology_map = {\n",
    "    'CL:0000895': 'CL:0000624',\n",
    "    'CL:0000788': 'CL:0000236',\n",
    "    'CL:0000900': 'CL:0000625',\n",
    "    'CL:0000818': 'CL:0000236',\n",
    "    'CL:0000815': 'CL:0002677',\n",
    "    'CL:0001054': 'CL:0002057',\n",
    "    'CL:0001065': np.nan,\n",
    "    'CL:0000990': 'CL:0000451',\n",
    "    'CL:2000001': np.nan,\n",
    "    'CL:0000232': np.nan,\n",
    "}"
   ]
  },
  {
   "cell_type": "code",
   "execution_count": 141,
   "id": "8ff46af0-70fe-4c96-a411-179fa6be95c7",
   "metadata": {},
   "outputs": [],
   "source": [
    "adata.obs = adata.obs.join(cellxgene.obs['cell_type_ontology_term_id'])"
   ]
  },
  {
   "cell_type": "code",
   "execution_count": 142,
   "id": "8e9526ec-a72d-4d8d-8183-9f7b31fb98bd",
   "metadata": {},
   "outputs": [],
   "source": [
    "adata.obs['cell_type_ontology_term_id'] = adata.obs['cell_type_ontology_term_id'].apply(lambda x: missing_ontology_map[x] if x in missing_ontology_map.keys() else x)"
   ]
  },
  {
   "cell_type": "code",
   "execution_count": 143,
   "id": "7b0d3239-6f32-4ec5-b10c-959e545a2d3e",
   "metadata": {},
   "outputs": [],
   "source": [
    "friendly_names = pd.read_csv(os.path.join(data_path, 'onek1k_training_data', 'friendly_names.tsv'), sep='\\t')"
   ]
  },
  {
   "cell_type": "code",
   "execution_count": 144,
   "id": "9053028f-fb94-4789-b7fc-cf00bd6a153f",
   "metadata": {},
   "outputs": [],
   "source": [
    "friendly_names['tissue_ontology_id'] = friendly_names['tissue_ontology_id'].str.replace('_', ':')"
   ]
  },
  {
   "cell_type": "code",
   "execution_count": 145,
   "id": "e203edc0-d5c7-4089-a62d-13d5ce3bb4b7",
   "metadata": {},
   "outputs": [],
   "source": [
    "tissue_ontology_mapping = pd.read_csv(os.path.join(data_path, 'onek1k_training_data', 'tissue_ontology_mapping.tsv'), sep='\\t').query(\"study=='OneK1K'\")"
   ]
  },
  {
   "cell_type": "code",
   "execution_count": 146,
   "id": "4aa18de1-0e18-41e9-90b9-b407937de36e",
   "metadata": {},
   "outputs": [],
   "source": [
    "tissue_ontology_mapping['tissue_ontology_id'] = tissue_ontology_mapping['tissue_ontology_id'].str.replace('_', ':')"
   ]
  },
  {
   "cell_type": "code",
   "execution_count": 147,
   "id": "0d57bcd0-6be6-4d34-a3a3-4c046e35a722",
   "metadata": {},
   "outputs": [],
   "source": [
    "test = adata.obs.reset_index().merge(\n",
    "    friendly_names, \n",
    "    left_on='cell_type_ontology_term_id', \n",
    "    right_on='tissue_ontology_id', \n",
    "    how='left').merge(\n",
    "    tissue_ontology_mapping[['qtl_group', 'tissue_ontology_id']].drop_duplicates('tissue_ontology_id'), \n",
    "    left_on='cell_type_ontology_term_id', \n",
    "    right_on='tissue_ontology_id', \n",
    "    how='left').set_index('barcode').loc[adata.obs_names]"
   ]
  },
  {
   "cell_type": "code",
   "execution_count": 149,
   "id": "dccc5941-94b1-451e-8f7e-b41bdf867378",
   "metadata": {},
   "outputs": [],
   "source": [
    "adata.obs = test"
   ]
  },
  {
   "cell_type": "code",
   "execution_count": 153,
   "id": "17eceb7b-8ed2-4a4c-92ee-d776a0a1190b",
   "metadata": {},
   "outputs": [],
   "source": [
    "adata.write(os.path.join(data_path, 'onek1k_training_data','OneK1K_only_immune.h5ad'))"
   ]
  },
  {
   "cell_type": "markdown",
   "id": "1c2d1177-4548-4854-ad95-1c3b234432e7",
   "metadata": {},
   "source": [
    "## Write out genes"
   ]
  },
  {
   "cell_type": "code",
   "execution_count": 11,
   "id": "a48793a1-a2ab-48fb-b5ae-0117c48dabb9",
   "metadata": {
    "tags": []
   },
   "outputs": [],
   "source": [
    "hv_genes = adata.var.index[adata.var['highly_variable'] == 1]"
   ]
  },
  {
   "cell_type": "code",
   "execution_count": 39,
   "id": "2ad9a9b8-7833-4407-8b9b-be3dcfc08d1c",
   "metadata": {
    "tags": []
   },
   "outputs": [],
   "source": [
    "gtf_file = os.path.join(data_path, 'gencode.v32.annotation.sorted.gtf.gz') \n",
    "bed_file =  os.path.join(data_path, 'scooby_training_data', 'sequences.bed')\n",
    "fasta_file = os.path.join(data_path, 'scooby_training_data', 'genome_human.fa')"
   ]
  },
  {
   "cell_type": "code",
   "execution_count": 42,
   "id": "cb682ead-8516-409a-9c7f-49fb389d37bb",
   "metadata": {
    "tags": []
   },
   "outputs": [],
   "source": [
    "# gtf file\n",
    "gtf = pr.read_gtf(gtf_file)"
   ]
  },
  {
   "cell_type": "code",
   "execution_count": 43,
   "id": "d1edfb89-0c06-4b94-baa8-feca1ba98c5d",
   "metadata": {
    "tags": []
   },
   "outputs": [],
   "source": [
    "genes = gtf[gtf.Feature=='gene'].df"
   ]
  },
  {
   "cell_type": "code",
   "execution_count": 15,
   "id": "d8629c6d-a525-45a3-9b70-f4ae4cd4c7e6",
   "metadata": {
    "tags": []
   },
   "outputs": [],
   "source": [
    "# read sequences\n",
    "sequences = pr.read_bed(bed_file)"
   ]
  },
  {
   "cell_type": "code",
   "execution_count": 16,
   "id": "0b37666e-4e13-4fb8-b9b6-a417acfd486c",
   "metadata": {
    "tags": []
   },
   "outputs": [],
   "source": [
    "genes = pr.PyRanges(genes)"
   ]
  },
  {
   "cell_type": "code",
   "execution_count": 17,
   "id": "c5ecf5c9-7173-4c23-a96b-3b63a6c29bbc",
   "metadata": {
    "tags": []
   },
   "outputs": [],
   "source": [
    "# sequences that are not in test or train fold\n",
    "sequences_val = sequences[sequences.Name.isin(['fold4'])]\n",
    "sequences_test = sequences[sequences.Name.isin(['fold3'])]\n",
    "sequences_train = sequences[~sequences.Name.isin(['fold4', 'fold3'])]"
   ]
  },
  {
   "cell_type": "code",
   "execution_count": 27,
   "id": "a0a52324-be45-4602-98c5-a0cc2b80810c",
   "metadata": {
    "tags": []
   },
   "outputs": [],
   "source": [
    "val_genes = genes.overlap(sequences_val, invert=False)\n",
    "test_genes = genes.overlap(sequences_test, invert=False)\n",
    "train_genes = genes.overlap(sequences_train, invert=False)"
   ]
  },
  {
   "cell_type": "code",
   "execution_count": 28,
   "id": "cb9b0a14-c6cb-4a54-8273-4f2cce2ef359",
   "metadata": {
    "tags": []
   },
   "outputs": [
    {
     "name": "stdout",
     "output_type": "stream",
     "text": [
      "6671\n",
      "6276\n",
      "44988\n"
     ]
    }
   ],
   "source": [
    "print(len(val_genes))\n",
    "print(len(test_genes))\n",
    "print(len(train_genes))"
   ]
  },
  {
   "cell_type": "code",
   "execution_count": 29,
   "id": "27a0b523-05c1-495d-8086-d6cb1866ab0c",
   "metadata": {
    "tags": []
   },
   "outputs": [],
   "source": [
    "# make sure that they really do not overlap with train set\n",
    "val_genes = val_genes.overlap(sequences_train, invert=True)\n",
    "# make sure that they really do not overlap with train set and val set\n",
    "test_genes = test_genes.overlap(sequences_train, invert=True).overlap(sequences_val, invert=True)\n",
    "# make sure that they really do not overlap with val and test set\n",
    "train_genes = train_genes.overlap(sequences_test, invert=True).overlap(sequences_val, invert=True)"
   ]
  },
  {
   "cell_type": "code",
   "execution_count": 30,
   "id": "680a42ad-f400-4f4c-8f9f-fd034f902a38",
   "metadata": {
    "tags": []
   },
   "outputs": [
    {
     "name": "stdout",
     "output_type": "stream",
     "text": [
      "6663\n",
      "6261\n",
      "44969\n"
     ]
    }
   ],
   "source": [
    "print(len(val_genes))\n",
    "print(len(test_genes))\n",
    "print(len(train_genes))"
   ]
  },
  {
   "cell_type": "code",
   "execution_count": 31,
   "id": "dd254fbe-6c27-4ec3-a6bc-e9e800b7fb3d",
   "metadata": {
    "tags": []
   },
   "outputs": [],
   "source": [
    "# drop duplicated gene names (as Alex commanded)\n",
    "val_genes = val_genes.df.drop_duplicates(subset='gene_id')\n",
    "test_genes = test_genes.df.drop_duplicates(subset='gene_id')\n",
    "train_genes = train_genes.df.drop_duplicates(subset='gene_id')"
   ]
  },
  {
   "cell_type": "code",
   "execution_count": 32,
   "id": "4759f4b6-8276-4c19-b8f2-3d952a029158",
   "metadata": {
    "tags": []
   },
   "outputs": [],
   "source": [
    "# restrict to chromosomes\n",
    "val_genes = val_genes[val_genes.Chromosome.str.contains('chr')]\n",
    "test_genes = test_genes[test_genes.Chromosome.str.contains('chr')]\n",
    "train_genes = train_genes[train_genes.Chromosome.str.contains('chr')]"
   ]
  },
  {
   "cell_type": "code",
   "execution_count": 33,
   "id": "2660c161-a06a-4ea3-96cd-962a894011c8",
   "metadata": {
    "tags": []
   },
   "outputs": [
    {
     "name": "stdout",
     "output_type": "stream",
     "text": [
      "6663\n",
      "6261\n",
      "44969\n"
     ]
    }
   ],
   "source": [
    "print(len(val_genes))\n",
    "print(len(test_genes))\n",
    "print(len(train_genes))"
   ]
  },
  {
   "cell_type": "code",
   "execution_count": 38,
   "id": "47d61a03-a6d6-47ef-a6b7-2cc7cb9b6ca5",
   "metadata": {},
   "outputs": [],
   "source": [
    "val_genes['gene_id'] = val_genes['gene_id'].str.split('.').str[0]\n",
    "test_genes['gene_id'] = test_genes['gene_id'].str.split('.').str[0]\n",
    "train_genes['gene_id'] = train_genes['gene_id'].str.split('.').str[0]"
   ]
  },
  {
   "cell_type": "code",
   "execution_count": 39,
   "id": "f2709a82-7981-4f78-b9a4-d71cefa285dd",
   "metadata": {
    "tags": []
   },
   "outputs": [],
   "source": [
    "# include genes in adata\n",
    "val_genes = val_genes[val_genes.gene_id.isin(adata.var.index)]\n",
    "test_genes = test_genes[test_genes.gene_id.isin(adata.var.index)]\n",
    "train_genes = train_genes[train_genes.gene_id.isin(adata.var.index)]"
   ]
  },
  {
   "cell_type": "code",
   "execution_count": 40,
   "id": "5353b83b-d302-430b-993e-81c2a02d3234",
   "metadata": {
    "tags": []
   },
   "outputs": [
    {
     "name": "stdout",
     "output_type": "stream",
     "text": [
      "3539\n",
      "3129\n",
      "23783\n"
     ]
    }
   ],
   "source": [
    "print(len(val_genes))\n",
    "print(len(test_genes))\n",
    "print(len(train_genes))"
   ]
  },
  {
   "cell_type": "code",
   "execution_count": 41,
   "id": "0d5a387a-df6f-41e7-abd7-32149a5291c1",
   "metadata": {
    "tags": []
   },
   "outputs": [],
   "source": [
    "# include genes in highly variable adata genes\n",
    "val_genes_hv = val_genes[val_genes.gene_id.isin(hv_genes)]\n",
    "test_genes_hv = test_genes[test_genes.gene_id.isin(hv_genes)]\n",
    "train_genes_hv = train_genes[train_genes.gene_id.isin(hv_genes)]"
   ]
  },
  {
   "cell_type": "code",
   "execution_count": 42,
   "id": "9df5d3c1-b241-4e3d-9a59-282fe0c59a3e",
   "metadata": {
    "tags": []
   },
   "outputs": [
    {
     "name": "stdout",
     "output_type": "stream",
     "text": [
      "324\n",
      "273\n",
      "2272\n"
     ]
    }
   ],
   "source": [
    "print(len(val_genes_hv))\n",
    "print(len(test_genes_hv))\n",
    "print(len(train_genes_hv))"
   ]
  },
  {
   "cell_type": "code",
   "execution_count": 44,
   "id": "72a73bdc-e674-45f9-889f-5d5cd6004cd2",
   "metadata": {
    "tags": []
   },
   "outputs": [],
   "source": [
    "val_genes.to_csv(os.path.join(data_path, 'onek1k_training_data', 'val_genes.csv'))\n",
    "test_genes.to_csv(os.path.join(data_path, 'onek1k_training_data', 'test_genes.csv'))\n",
    "train_genes.to_csv(os.path.join(data_path, 'onek1k_training_data', 'train_genes.csv'))"
   ]
  },
  {
   "cell_type": "code",
   "execution_count": 45,
   "id": "052ce24f-37b0-4bd3-859b-8ed9638321a3",
   "metadata": {
    "tags": []
   },
   "outputs": [],
   "source": [
    "val_genes_hv.to_csv(os.path.join(data_path, 'onek1k_training_data', 'val_genes_hv.csv'))\n",
    "test_genes_hv.to_csv(os.path.join(data_path, 'onek1k_training_data', 'test_genes_hv.csv'))\n",
    "train_genes_hv.to_csv(os.path.join(data_path, 'onek1k_training_data', 'train_genes_hv.csv'))"
   ]
  },
  {
   "cell_type": "markdown",
   "id": "200062e6-1825-4943-8293-b6e9dfa5051d",
   "metadata": {},
   "source": [
    "### Write genes sequences"
   ]
  },
  {
   "cell_type": "code",
   "execution_count": 13,
   "id": "6555351e-a329-430e-9dca-ce05e9f02588",
   "metadata": {
    "tags": []
   },
   "outputs": [],
   "source": [
    "from scooby.utils.transcriptome import Transcriptome"
   ]
  },
  {
   "cell_type": "code",
   "execution_count": 14,
   "id": "62fe976b-54e2-4ad7-b72e-582e8ea2d7cd",
   "metadata": {
    "tags": []
   },
   "outputs": [],
   "source": [
    "val_genes = pd.read_csv(os.path.join(data_path, 'onek1k_training_data', 'val_genes.csv'), index_col=0)\n",
    "test_genes = pd.read_csv(os.path.join(data_path, 'onek1k_training_data', 'test_genes.csv'), index_col=0)\n",
    "train_genes = pd.read_csv(os.path.join(data_path, 'onek1k_training_data', 'train_genes.csv'), index_col=0)"
   ]
  },
  {
   "cell_type": "code",
   "execution_count": 15,
   "id": "72cf3b52-681c-4391-8e54-2ec493dab3d6",
   "metadata": {
    "tags": []
   },
   "outputs": [],
   "source": [
    "transcriptome = Transcriptome(gtf_file, use_geneid=True)"
   ]
  },
  {
   "cell_type": "code",
   "execution_count": 17,
   "id": "ded1b641-cd45-4c1a-8371-fde0b1ea40ae",
   "metadata": {
    "tags": []
   },
   "outputs": [],
   "source": [
    "context_length = 524288"
   ]
  },
  {
   "cell_type": "code",
   "execution_count": 18,
   "id": "f1bfed3d-8da7-4e5f-b085-fa1dd8e539a6",
   "metadata": {
    "tags": []
   },
   "outputs": [],
   "source": [
    "def get_gene_span(transcriptome, gene_name):\n",
    "    gene = transcriptome.genes[gene_name]\n",
    "    center_pos = gene.span()[0] + (gene.span()[1] - gene.span()[0])//2 #middle\n",
    "    start = center_pos - context_length // 2\n",
    "    chrom = gene.chrom\n",
    "    seq_out_start = start + (context_length-(6144*32))/2\n",
    "    seq_out_len = 6144*32\n",
    "    return     {'Chromosome': chrom, 'Start': int(seq_out_start), 'End': int(seq_out_start + seq_out_len), 'gene_name': gene_name, 'Strand': gene.strand}"
   ]
  },
  {
   "cell_type": "code",
   "execution_count": 21,
   "id": "c0ebe857-75cc-402c-b54a-4c1667fdddc9",
   "metadata": {
    "tags": []
   },
   "outputs": [
    {
     "name": "stdout",
     "output_type": "stream",
     "text": [
      "(3539, 5)\n"
     ]
    }
   ],
   "source": [
    "val_bed_df = pd.DataFrame([get_gene_span(transcriptome, gene_name) for gene_name in val_genes.gene_id])\n",
    "\n",
    "val_bed_df = pl.DataFrame(val_bed_df)\n",
    "\n",
    "print(val_bed_df.shape)\n",
    "val_bed_df.write_csv(os.path.join(data_path,'onek1k_training_data', 'val_gene_sequences.csv'), separator=\"\\t\", include_header=False)"
   ]
  },
  {
   "cell_type": "code",
   "execution_count": 22,
   "id": "d70ce87c-c863-419c-b7d6-07a9e07415f0",
   "metadata": {
    "tags": []
   },
   "outputs": [
    {
     "name": "stdout",
     "output_type": "stream",
     "text": [
      "(3129, 5)\n"
     ]
    }
   ],
   "source": [
    "test_bed_df = pd.DataFrame([get_gene_span(transcriptome, gene_name) for gene_name in test_genes.gene_id])\n",
    "test_bed_df = pl.DataFrame(test_bed_df)\n",
    "print(test_bed_df.shape)\n",
    "test_bed_df.write_csv(os.path.join(data_path,'onek1k_training_data', 'test_gene_sequences.csv'), separator=\"\\t\", include_header=False)"
   ]
  },
  {
   "cell_type": "code",
   "execution_count": 23,
   "id": "83d1c8ef-4dbd-4665-b660-b71a788e6ddd",
   "metadata": {
    "tags": []
   },
   "outputs": [
    {
     "name": "stdout",
     "output_type": "stream",
     "text": [
      "(23783, 5)\n"
     ]
    }
   ],
   "source": [
    "train_bed_df = pd.DataFrame([get_gene_span(transcriptome, gene_name) for gene_name in train_genes.gene_id])\n",
    "train_bed_df = pl.DataFrame(train_bed_df)\n",
    "print(train_bed_df.shape)\n",
    "train_bed_df.write_csv(os.path.join(data_path,'onek1k_training_data', 'train_gene_sequences.csv'), separator=\"\\t\", include_header=False)"
   ]
  },
  {
   "cell_type": "code",
   "execution_count": 24,
   "id": "a24113c7-1b29-4583-a9fc-8c9be32c7212",
   "metadata": {},
   "outputs": [],
   "source": [
    "all_bed_df = pl.concat([train_bed_df, val_bed_df, test_bed_df])"
   ]
  },
  {
   "cell_type": "code",
   "execution_count": 25,
   "id": "07795b4c-780e-4a4d-96e8-69a4796b2b60",
   "metadata": {},
   "outputs": [],
   "source": [
    "all_bed_df.write_csv(os.path.join(data_path,'onek1k_training_data', 'train_val_test_gene_sequences.csv'), separator=\"\\t\", include_header=False)"
   ]
  },
  {
   "cell_type": "markdown",
   "id": "79873ed5-64df-4117-94f9-ee5676b77276",
   "metadata": {},
   "source": [
    "### Write hv genes"
   ]
  },
  {
   "cell_type": "code",
   "execution_count": 26,
   "id": "47ef0559-76bd-4e21-9c6d-ff4b1be76d1c",
   "metadata": {
    "tags": []
   },
   "outputs": [],
   "source": [
    "val_genes_hv = pd.read_csv(os.path.join(data_path, 'onek1k_training_data', 'val_genes_hv.csv'), index_col=0)\n",
    "test_genes_hv = pd.read_csv(os.path.join(data_path, 'onek1k_training_data', 'test_genes_hv.csv'), index_col=0)\n",
    "train_genes_hv = pd.read_csv(os.path.join(data_path, 'onek1k_training_data', 'train_genes_hv.csv'), index_col=0)"
   ]
  },
  {
   "cell_type": "code",
   "execution_count": 27,
   "id": "c831881c-29c4-4ee5-a4cb-6fb8e7cbfe6e",
   "metadata": {
    "tags": []
   },
   "outputs": [],
   "source": [
    "val_bed_df_hv = pd.DataFrame([get_gene_span(transcriptome, gene_name) for gene_name in val_genes_hv.gene_id])"
   ]
  },
  {
   "cell_type": "code",
   "execution_count": 28,
   "id": "cc4c2fbe-9b30-4c11-a7e4-3546c7d22f30",
   "metadata": {
    "tags": []
   },
   "outputs": [],
   "source": [
    "val_bed_df_hv = pl.DataFrame(val_bed_df_hv)"
   ]
  },
  {
   "cell_type": "code",
   "execution_count": 29,
   "id": "069d25a0-5a81-4f51-adef-3db64af92250",
   "metadata": {
    "tags": []
   },
   "outputs": [
    {
     "name": "stdout",
     "output_type": "stream",
     "text": [
      "(324, 5)\n"
     ]
    }
   ],
   "source": [
    "print(val_bed_df_hv.shape)\n",
    "val_bed_df_hv.write_csv(os.path.join(data_path,'onek1k_training_data', 'val_gene_hv_sequences.csv'), separator=\"\\t\", include_header=False)"
   ]
  },
  {
   "cell_type": "code",
   "execution_count": 30,
   "id": "aaa656e6-21b7-4d36-bafb-c2db19ea4b9d",
   "metadata": {
    "tags": []
   },
   "outputs": [
    {
     "name": "stdout",
     "output_type": "stream",
     "text": [
      "(273, 5)\n"
     ]
    }
   ],
   "source": [
    "test_bed_df_hv = pd.DataFrame([get_gene_span(transcriptome, gene_name) for gene_name in test_genes_hv.gene_id])\n",
    "print(test_bed_df_hv.shape)"
   ]
  },
  {
   "cell_type": "code",
   "execution_count": 31,
   "id": "5cef3f9f-1e04-49c3-b569-c0f4bf8152d0",
   "metadata": {
    "tags": []
   },
   "outputs": [],
   "source": [
    "test_bed_df_hv = pl.DataFrame(test_bed_df_hv)"
   ]
  },
  {
   "cell_type": "code",
   "execution_count": 32,
   "id": "c054747a-4cb5-434b-bb55-3bb847644b84",
   "metadata": {
    "tags": []
   },
   "outputs": [],
   "source": [
    "test_bed_df_hv.write_csv(os.path.join(data_path,'onek1k_training_data', 'test_gene_hv_sequences.csv'), separator=\"\\t\", include_header=False)"
   ]
  },
  {
   "cell_type": "code",
   "execution_count": 33,
   "id": "b63ad373-8e6a-4e9b-9a25-851c62cc71a1",
   "metadata": {
    "tags": []
   },
   "outputs": [
    {
     "name": "stdout",
     "output_type": "stream",
     "text": [
      "(2272, 5)\n"
     ]
    }
   ],
   "source": [
    "train_bed_df_hv = pd.DataFrame([get_gene_span(transcriptome, gene_name) for gene_name in train_genes_hv.gene_id])\n",
    "print(train_bed_df_hv.shape)"
   ]
  },
  {
   "cell_type": "code",
   "execution_count": 34,
   "id": "300c1809-edec-4252-ba0c-cea3e98ca24f",
   "metadata": {
    "tags": []
   },
   "outputs": [],
   "source": [
    "train_bed_df_hv = pl.DataFrame(train_bed_df_hv)"
   ]
  },
  {
   "cell_type": "code",
   "execution_count": 35,
   "id": "bfc94ef8-21e3-4ad8-a32a-586b2c733f3b",
   "metadata": {
    "tags": []
   },
   "outputs": [],
   "source": [
    "train_bed_df_hv.write_csv(os.path.join(data_path,'onek1k_training_data', 'train_gene_hv_sequences.csv'), separator=\"\\t\", include_header=False)"
   ]
  },
  {
   "cell_type": "code",
   "execution_count": 36,
   "id": "461d0a03-02ed-41b1-9d28-ca9275c51b43",
   "metadata": {
    "tags": []
   },
   "outputs": [
    {
     "data": {
      "text/plain": [
       "(2272, 5)"
      ]
     },
     "execution_count": 36,
     "metadata": {},
     "output_type": "execute_result"
    }
   ],
   "source": [
    "train_bed_df_hv.shape"
   ]
  },
  {
   "cell_type": "code",
   "execution_count": 37,
   "id": "be7f288e-82a8-4061-9b6e-673bb627f805",
   "metadata": {},
   "outputs": [],
   "source": [
    "all_bed_df_hv = pl.concat([train_bed_df_hv, val_bed_df_hv, test_bed_df_hv])"
   ]
  },
  {
   "cell_type": "code",
   "execution_count": 38,
   "id": "1e07eab0-34d9-4f49-ac55-ba39d3ecd6d1",
   "metadata": {},
   "outputs": [],
   "source": [
    "all_bed_df_hv.write_csv(os.path.join(data_path,'onek1k_training_data', 'train_val_test_gene_hv_sequences.csv'), separator=\"\\t\", include_header=False)"
   ]
  },
  {
   "cell_type": "markdown",
   "id": "3d402885-120b-4fb1-a4c7-431dd60016ae",
   "metadata": {},
   "source": [
    "# Run scPoli on the filtered adata"
   ]
  },
  {
   "cell_type": "code",
   "execution_count": 8,
   "id": "9a908893-64dd-4bbe-aa1e-e05a0ac9fd61",
   "metadata": {
    "tags": []
   },
   "outputs": [],
   "source": [
    "from scarches.models.scpoli import scPoli\n",
    "import pandas as pd\n",
    "import anndata as ad\n",
    "import scanpy as sc\n",
    "import os\n",
    "import numpy as np"
   ]
  },
  {
   "cell_type": "code",
   "execution_count": 2,
   "id": "53686dd0-0ce3-4b26-9720-138180c9a051",
   "metadata": {
    "tags": []
   },
   "outputs": [],
   "source": [
    "from lightning.pytorch.loggers import WandbLogger\n",
    "import wandb"
   ]
  },
  {
   "cell_type": "code",
   "execution_count": 17,
   "id": "83e0a772-8abf-4dde-b698-82f073108a5f",
   "metadata": {
    "tags": []
   },
   "outputs": [],
   "source": [
    "adata = sc.read(os.path.join(data_path, 'onek1k_training_data', 'OneK1K_only_immune.h5ad'))"
   ]
  },
  {
   "cell_type": "code",
   "execution_count": 18,
   "id": "cbf335e0-3f6c-43a9-9a83-a8b08bede8ec",
   "metadata": {
    "tags": []
   },
   "outputs": [],
   "source": [
    "val_genes = pd.read_csv(os.path.join(data_path, 'onek1k_training_data', 'val_genes.csv'), index_col=0)\n",
    "test_genes = pd.read_csv(os.path.join(data_path, 'onek1k_training_data', 'test_genes.csv'), index_col=0)"
   ]
  },
  {
   "cell_type": "code",
   "execution_count": 19,
   "id": "1de3015f-f62a-49b1-be4c-83023a026d5e",
   "metadata": {
    "tags": []
   },
   "outputs": [],
   "source": [
    "adata_train = adata[:, (~adata.var_names.isin(val_genes.gene_id.to_list() + test_genes.gene_id.to_list()))]"
   ]
  },
  {
   "cell_type": "code",
   "execution_count": 20,
   "id": "003b676b-ff9d-4ade-8aaf-39fd8acd20c6",
   "metadata": {
    "tags": []
   },
   "outputs": [],
   "source": [
    "adata_train = adata_train[:, adata_train.var.highly_variable].copy()"
   ]
  },
  {
   "cell_type": "code",
   "execution_count": 21,
   "id": "3340ec36-d262-4750-9ac6-52548ea9df06",
   "metadata": {
    "tags": []
   },
   "outputs": [
    {
     "data": {
      "text/plain": [
       "View of AnnData object with n_obs × n_vars = 1267768 × 2403\n",
       "    obs: 'orig.ident', 'nCount_RNA', 'nFeature_RNA', 'pool', 'individual', 'percent.mt', 'latent', 'nCount_SCT', 'nFeature_SCT', 'cell_type', 'cell_label', 'sex', 'age', 'sample', 'barcode_sample'\n",
       "    var: 'GeneSymbol', 'features', 'highly_variable', 'highly_variable_rank', 'means', 'variances', 'variances_norm', 'highly_variable_nbatches'\n",
       "    uns: 'hvg'"
      ]
     },
     "execution_count": 21,
     "metadata": {},
     "output_type": "execute_result"
    }
   ],
   "source": [
    "adata_train "
   ]
  },
  {
   "cell_type": "code",
   "execution_count": 48,
   "id": "7fd7e09e-75a3-402a-8908-36d661eac953",
   "metadata": {
    "tags": []
   },
   "outputs": [],
   "source": [
    "wandb_logger = WandbLogger(project=\"onek1k\", entity='lauradm')"
   ]
  },
  {
   "cell_type": "code",
   "execution_count": 44,
   "id": "83bf3c39-a977-4d64-9555-2a4f07a26520",
   "metadata": {
    "tags": []
   },
   "outputs": [
    {
     "name": "stdout",
     "output_type": "stream",
     "text": [
      "Embedding dictionary:\n",
      " \tNum conditions: [75]\n",
      " \tEmbedding dim: [10]\n",
      "Encoder Architecture:\n",
      "\tInput Layer in, out and cond: 2403 50 10\n",
      "\tMean/Var Layer in/out: 50 10\n",
      "Decoder Architecture:\n",
      "\tFirst Layer in, out and cond:  10 50 10\n",
      "\tOutput Layer in/out:  50 2403 \n",
      "\n"
     ]
    }
   ],
   "source": [
    "scpoli_model = scPoli(\n",
    "    adata=adata_train,\n",
    "    condition_keys='sample',\n",
    "    cell_type_keys='cell_label',\n",
    "    recon_loss='nb',\n",
    ")"
   ]
  },
  {
   "cell_type": "code",
   "execution_count": 49,
   "id": "281743c7-41fa-4141-8736-0b5a91cd3485",
   "metadata": {},
   "outputs": [
    {
     "name": "stderr",
     "output_type": "stream",
     "text": [
      "INFO:scarches.trainers.scpoli.trainer:GPU available: True, GPU used: True\n"
     ]
    },
    {
     "name": "stdout",
     "output_type": "stream",
     "text": [
      "Initializing dataloaders\n",
      "Starting training\n",
      " |████████████████████| 100.0%  - val_loss:  220.08 - val_cvae_loss:  209.78 - val_prototype_loss:   10.30 - val_labeled_loss:    2.06\n"
     ]
    }
   ],
   "source": [
    "\n",
    "early_stopping_kwargs = {\n",
    "    \"early_stopping_metric\": \"val_prototype_loss\",\n",
    "    \"mode\": \"min\",\n",
    "    \"threshold\": 0,\n",
    "    \"patience\": 20,\n",
    "    \"reduce_lr\": True,\n",
    "    \"lr_patience\": 13,\n",
    "    \"lr_factor\": 0.1,\n",
    "}\n",
    "\n",
    "scpoli_model.train(\n",
    "    n_epochs=50,\n",
    "    pretraining_epochs=40,\n",
    "    early_stopping_kwargs=early_stopping_kwargs,\n",
    "    eta=5, logger=wandb_logger\n",
    ")"
   ]
  },
  {
   "cell_type": "code",
   "execution_count": 21,
   "id": "e33399a8-688e-47b6-8617-2bf053b7dc97",
   "metadata": {},
   "outputs": [
    {
     "data": {
      "text/plain": [
       "'/data/ceph/hdd/project/node_09/semi_supervised_multispecies/Downstream/single_cell/data/onek1k_bam_files'"
      ]
     },
     "execution_count": 21,
     "metadata": {},
     "output_type": "execute_result"
    }
   ],
   "source": [
    "data_path"
   ]
  },
  {
   "cell_type": "code",
   "execution_count": 50,
   "id": "e34394de-593f-42f7-9a20-790d0afaf3e2",
   "metadata": {},
   "outputs": [],
   "source": [
    "scpoli_model.save(f\"{data_path}/onek1k_training_data/scpoli_model_default.pkl\")"
   ]
  },
  {
   "cell_type": "code",
   "execution_count": 54,
   "id": "23a23a34-d74c-4643-9ac2-b3698e4017cf",
   "metadata": {},
   "outputs": [
    {
     "name": "stderr",
     "output_type": "stream",
     "text": [
      "/opt/modules/i12g/anaconda/envs/scooby_reproducibility/lib/python3.9/site-packages/scarches/models/base/_base.py:143: FutureWarning: You are using `torch.load` with `weights_only=False` (the current default value), which uses the default pickle module implicitly. It is possible to construct malicious pickle data which will execute arbitrary code during unpickling (See https://github.com/pytorch/pytorch/blob/main/SECURITY.md#untrusted-models for more details). In a future release, the default value for `weights_only` will be flipped to `True`. This limits the functions that could be executed during unpickling. Arbitrary objects will no longer be allowed to be loaded via this mode unless they are explicitly allowlisted by the user via `torch.serialization.add_safe_globals`. We recommend you start setting `weights_only=True` for any use case where you don't have full control of the loaded file. Please open an issue on GitHub for any issues related to this experimental feature.\n",
      "  model_state_dict = torch.load(model_path, map_location=map_location)\n"
     ]
    },
    {
     "name": "stdout",
     "output_type": "stream",
     "text": [
      "AnnData object with n_obs × n_vars = 1267768 × 2403\n",
      "    obs: 'orig.ident', 'nCount_RNA', 'nFeature_RNA', 'pool', 'individual', 'percent.mt', 'latent', 'nCount_SCT', 'nFeature_SCT', 'cell_type', 'cell_label', 'sex', 'age', 'sample', 'barcode_sample', 'conditions_combined'\n",
      "    var: 'GeneSymbol', 'features', 'highly_variable', 'highly_variable_rank', 'means', 'variances', 'variances_norm', 'highly_variable_nbatches'\n",
      "    uns: 'hvg'\n",
      "Embedding dictionary:\n",
      " \tNum conditions: [75]\n",
      " \tEmbedding dim: [5]\n",
      "Encoder Architecture:\n",
      "\tInput Layer in, out and cond: 2403 1024 5\n",
      "\tMean/Var Layer in/out: 1024 10\n",
      "Decoder Architecture:\n",
      "\tFirst Layer in, out and cond:  10 1024 5\n",
      "\tOutput Layer in/out:  1024 2403 \n",
      "\n"
     ]
    }
   ],
   "source": [
    "scpoli_model = scpoli_model.load(f\"{data_path}/onek1k_training_data/scpoli_model.pkl\", adata=adata_train)"
   ]
  },
  {
   "cell_type": "code",
   "execution_count": 55,
   "id": "697b7df6-adc9-4e94-afb7-42b2d3c63cbe",
   "metadata": {},
   "outputs": [],
   "source": [
    "X_emb = scpoli_model.get_latent(\n",
    "    adata_train,\n",
    "    mean=True\n",
    ")"
   ]
  },
  {
   "cell_type": "code",
   "execution_count": 31,
   "id": "7225ce72-8c9b-46a3-a44c-521df9f68c74",
   "metadata": {},
   "outputs": [],
   "source": [
    "adata_train.obsm['X_scpoli'] = X_emb"
   ]
  },
  {
   "cell_type": "code",
   "execution_count": 32,
   "id": "f9a4494d-c267-48f4-b1cc-e70646e2bb36",
   "metadata": {
    "tags": []
   },
   "outputs": [],
   "source": [
    "adata_train.obsm['X_umap'] = np.stack(X_umap['umap'])"
   ]
  },
  {
   "cell_type": "code",
   "execution_count": null,
   "id": "209e76fb-297a-47b8-875d-bbc8ad602b94",
   "metadata": {},
   "outputs": [],
   "source": [
    "# sc.pp.neighbors(adata_train, use_rep='X_scpoli')\n",
    "\n",
    "# sc.tl.umap(adata_train)\n",
    "\n",
    "# sc.pl.umap(adata_train, color='cell_label')"
   ]
  },
  {
   "cell_type": "markdown",
   "id": "dd1bc50d-3556-49c7-9edd-73dbf1edf46e",
   "metadata": {},
   "source": [
    "# Save embedding and neighborhood graph"
   ]
  },
  {
   "cell_type": "code",
   "execution_count": 74,
   "id": "e38ebf9d-bd2d-47c3-9151-f17d30aef906",
   "metadata": {},
   "outputs": [],
   "source": [
    "import pickle\n",
    "import scipy.sparse\n",
    "import pandas as pd\n",
    "import numpy as np"
   ]
  },
  {
   "cell_type": "code",
   "execution_count": 70,
   "id": "c2f695ea-ddf2-4f53-87db-aa85867cb132",
   "metadata": {},
   "outputs": [],
   "source": [
    "embedding = pd.DataFrame({'embedding':list(adata_train.obsm['X_scpoli']), 'obs_names': adata_train.obs_names})"
   ]
  },
  {
   "cell_type": "code",
   "execution_count": 71,
   "id": "847ae71e-7288-4df3-9b7a-59a301f9e7ba",
   "metadata": {},
   "outputs": [],
   "source": [
    "embedding.to_parquet(os.path.join(data_path, 'onek1k_training_data', 'embedding_no_val_genes.pq'))"
   ]
  },
  {
   "cell_type": "code",
   "execution_count": 73,
   "id": "e125d555-ddca-4784-b58d-59ad87f42a65",
   "metadata": {},
   "outputs": [],
   "source": [
    "umap = pd.DataFrame({'umap':list(adata_train.obsm['X_umap']), 'obs_names': adata_train.obs_names})"
   ]
  },
  {
   "cell_type": "markdown",
   "id": "0ca14e47-6522-4de1-a374-a48b3d5e90bc",
   "metadata": {},
   "source": [
    "## Write cell_type_index"
   ]
  },
  {
   "cell_type": "code",
   "execution_count": 169,
   "id": "947ae2f3-282e-48c0-bd53-562abf81585c",
   "metadata": {
    "tags": []
   },
   "outputs": [],
   "source": [
    "cellindex = [\n",
    "    {'celltype': cell_type, \n",
    "     'cellindex': list(np.where(adata.obs.tissue_label == cell_type)[0])} for cell_type in adata.obs.tissue_label.unique() if cell_type is not np.nan\n",
    "]"
   ]
  },
  {
   "cell_type": "code",
   "execution_count": 171,
   "id": "e3e65fcc-86ee-4473-b63d-364c2d742ce7",
   "metadata": {
    "tags": []
   },
   "outputs": [],
   "source": [
    "pd.DataFrame(cellindex).to_parquet(os.path.join(data_path, 'celltype_fixed.pq'))"
   ]
  },
  {
   "cell_type": "markdown",
   "id": "6ba47be1-2b0c-4bec-ae20-f881728d823a",
   "metadata": {},
   "source": [
    "## Write empty neighbors"
   ]
  },
  {
   "cell_type": "code",
   "execution_count": 8,
   "id": "e2246cea-e181-4a8b-b7fc-69aee83819be",
   "metadata": {},
   "outputs": [],
   "source": [
    "from scipy import sparse"
   ]
  },
  {
   "cell_type": "code",
   "execution_count": 9,
   "id": "3ed0a525-3ee2-48ff-ab7c-83983b40c060",
   "metadata": {},
   "outputs": [],
   "source": [
    "empty_csr = sparse.csr_matrix((adata.shape[0], adata.shape[0])) "
   ]
  },
  {
   "cell_type": "code",
   "execution_count": 10,
   "id": "817ddc42-a7f9-400a-9147-a576ddf10b71",
   "metadata": {},
   "outputs": [],
   "source": [
    "sparse.save_npz(os.path.join(data_path, f\"no_neighbors.npz\"), empty_csr)"
   ]
  },
  {
   "cell_type": "code",
   "execution_count": null,
   "id": "35ac1cfa-295d-4971-b436-a204e88492f3",
   "metadata": {},
   "outputs": [],
   "source": []
  },
  {
   "cell_type": "code",
   "execution_count": null,
   "id": "b241d6da-1483-41d7-af29-cb7f7ad47208",
   "metadata": {},
   "outputs": [],
   "source": []
  }
 ],
 "metadata": {
  "kernelspec": {
   "display_name": "Python [conda env:anaconda-scooby_reproducibility]",
   "language": "python",
   "name": "conda-env-anaconda-scooby_reproducibility-py"
  },
  "language_info": {
   "codemirror_mode": {
    "name": "ipython",
    "version": 3
   },
   "file_extension": ".py",
   "mimetype": "text/x-python",
   "name": "python",
   "nbconvert_exporter": "python",
   "pygments_lexer": "ipython3",
   "version": "3.9.19"
  }
 },
 "nbformat": 4,
 "nbformat_minor": 5
}
