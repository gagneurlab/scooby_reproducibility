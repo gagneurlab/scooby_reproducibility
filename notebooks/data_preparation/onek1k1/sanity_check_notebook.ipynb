{
 "cells": [
  {
   "cell_type": "code",
   "execution_count": 1,
   "id": "f4e91203-20e8-4110-9eb7-594c710a6ad6",
   "metadata": {
    "tags": []
   },
   "outputs": [],
   "source": [
    "import scanpy as sc\n",
    "import pandas as pd\n",
    "import os\n",
    "import h5py\n",
    "import anndata as ad\n",
    "from anndata.experimental import read_elem, sparse_dataset\n",
    "import scipy.sparse\n",
    "import numpy as np\n",
    "import mudata as md\n",
    "import snapatac2_scooby as sp\n",
    "\n",
    "from scooby.utils.utils import read_backed\n",
    "import h5py"
   ]
  },
  {
   "cell_type": "markdown",
   "id": "b5e23bf4-c4a1-4374-93bd-317df42b0c4b",
   "metadata": {},
   "source": [
    "## Test neurips"
   ]
  },
  {
   "cell_type": "markdown",
   "id": "63d358c5-fa58-4c6f-b2ea-4658650b4bd3",
   "metadata": {},
   "source": [
    "### Read in adata that is used to create the embedding"
   ]
  },
  {
   "cell_type": "code",
   "execution_count": 2,
   "id": "bf7808e6-765f-4534-a4d6-15d078d31951",
   "metadata": {
    "tags": []
   },
   "outputs": [],
   "source": [
    "cell_type_key = 'tissue_label'"
   ]
  },
  {
   "cell_type": "code",
   "execution_count": 3,
   "id": "d917cc6d-6b98-4ce9-a7ca-8a6d15deb0ff",
   "metadata": {
    "tags": []
   },
   "outputs": [],
   "source": [
    "data_path = '/data/ceph/hdd/project/node_08/QNA/scborzoi/submission_data'"
   ]
  },
  {
   "cell_type": "code",
   "execution_count": 4,
   "id": "203ececf-35de-47b3-ab9a-1574ceaa4395",
   "metadata": {
    "tags": []
   },
   "outputs": [],
   "source": [
    "adata = sc.read(\n",
    "    os.path.join(data_path, 'onek1k_training_data', 'OneK1K_only_immune.h5ad'), backed='r')"
   ]
  },
  {
   "cell_type": "markdown",
   "id": "a15438ae-8dde-45b6-a6fd-1d0cb206ad22",
   "metadata": {},
   "source": [
    "### Read in adatas that contain the profiles"
   ]
  },
  {
   "cell_type": "code",
   "execution_count": 5,
   "id": "28c3830f-eff1-42bd-8bed-0539a5f4533e",
   "metadata": {
    "tags": []
   },
   "outputs": [],
   "source": [
    "sample = 'merged'"
   ]
  },
  {
   "cell_type": "code",
   "execution_count": 6,
   "id": "9de995c1-39ff-4397-8d62-0b51e092d564",
   "metadata": {
    "tags": []
   },
   "outputs": [],
   "source": [
    "adata_plus = read_backed(h5py.File(os.path.join(data_path, 'onek1k_training_data', f'snapatac_{sample}_plus.h5ad')), \"fragment_single\") #sc.read(os.path.join(data_path, 'onek1k_training_data', f'snapatac_{sample}_plus.h5ad'))"
   ]
  },
  {
   "cell_type": "code",
   "execution_count": 7,
   "id": "9dcbe95c-7121-4396-bd3c-ec0c0684969b",
   "metadata": {
    "tags": []
   },
   "outputs": [],
   "source": [
    "adata_minus = read_backed(h5py.File(os.path.join(data_path, 'onek1k_training_data', f'snapatac_{sample}_minus.h5ad')), \"fragment_single\")"
   ]
  },
  {
   "cell_type": "markdown",
   "id": "4535b02e-611e-4a7a-9e9e-0821bc23069f",
   "metadata": {},
   "source": [
    "### Read in embedding"
   ]
  },
  {
   "cell_type": "code",
   "execution_count": 30,
   "id": "42696f04-8d93-4e0f-9a5d-1dec0d4cbcd5",
   "metadata": {
    "tags": []
   },
   "outputs": [],
   "source": [
    "embedding = pd.read_parquet(os.path.join(data_path, 'onek1k_training_data', 'embedding_no_val_genes_fixed.pq'))"
   ]
  },
  {
   "cell_type": "markdown",
   "id": "d297e326-7895-42fd-ba9e-3ed1cf852ebe",
   "metadata": {},
   "source": [
    "### Read in cell type to idx mapping"
   ]
  },
  {
   "cell_type": "code",
   "execution_count": 16,
   "id": "c806622d-3475-4888-8329-511ac268657f",
   "metadata": {
    "tags": []
   },
   "outputs": [],
   "source": [
    "celltypes = pd.read_parquet(os.path.join(data_path, 'onek1k_training_data', 'celltype_fixed.pq'))"
   ]
  },
  {
   "cell_type": "code",
   "execution_count": 20,
   "id": "3ec7af83-768b-40be-8d6e-7ad04adbd12a",
   "metadata": {},
   "outputs": [
    {
     "data": {
      "text/plain": [
       "'/data/ceph/hdd/project/node_08/QNA/scborzoi/submission_data/onek1k_training_data/celltype_fixed.pq'"
      ]
     },
     "execution_count": 20,
     "metadata": {},
     "output_type": "execute_result"
    }
   ],
   "source": [
    "os.path.join(data_path, 'onek1k_training_data', 'celltype_fixed.pq')"
   ]
  },
  {
   "cell_type": "markdown",
   "id": "cd0e842b-9ddc-4943-b451-6f5a380e9ad9",
   "metadata": {},
   "source": [
    "### Write cell_type_index"
   ]
  },
  {
   "cell_type": "code",
   "execution_count": 10,
   "id": "d11985e1-bc78-49c5-acbe-7c1de072593d",
   "metadata": {
    "tags": []
   },
   "outputs": [],
   "source": [
    "cellindex = [\n",
    "    {'celltype': cell_type, \n",
    "     'cellindex': list(np.where(adata_plus.obs.cell_label == cell_type)[0])} for cell_type in adata_plus.obs.cell_label.unique()\n",
    "]"
   ]
  },
  {
   "cell_type": "code",
   "execution_count": 18,
   "id": "f3544e1f-a288-45e8-adda-b29b0df6157c",
   "metadata": {},
   "outputs": [],
   "source": [
    "del cellindex"
   ]
  },
  {
   "cell_type": "markdown",
   "id": "62a682ae-6937-40fd-960c-89a4a2d68883",
   "metadata": {},
   "source": [
    "### Test that adata, and profile adata have the same order"
   ]
  },
  {
   "cell_type": "code",
   "execution_count": 21,
   "id": "545dc865-d1d8-4212-aa38-c3bd97a680fd",
   "metadata": {
    "tags": []
   },
   "outputs": [],
   "source": [
    "assert (adata.obs_names == adata_plus.obs_names).all()"
   ]
  },
  {
   "cell_type": "code",
   "execution_count": 22,
   "id": "b672d1c3-0796-4104-884e-90a2489f226c",
   "metadata": {
    "tags": []
   },
   "outputs": [],
   "source": [
    "assert (adata.obs_names == adata_minus.obs_names).all()"
   ]
  },
  {
   "cell_type": "markdown",
   "id": "e613379d-c55d-4857-b2d0-0d34f13a3594",
   "metadata": {},
   "source": [
    "### Test that embeddings have the correct order"
   ]
  },
  {
   "cell_type": "code",
   "execution_count": 23,
   "id": "0eb28186-0d2f-4520-8510-6800632a0879",
   "metadata": {
    "tags": []
   },
   "outputs": [],
   "source": [
    "assert (embedding.obs_names == adata_plus.obs_names).all()"
   ]
  },
  {
   "cell_type": "markdown",
   "id": "59267f08-b4eb-47b8-abb3-dd240adc5a74",
   "metadata": {},
   "source": [
    "## Test that celltypes index are correct"
   ]
  },
  {
   "cell_type": "code",
   "execution_count": 28,
   "id": "80d1f370-42bf-49c3-b292-5119026eca11",
   "metadata": {
    "scrolled": true,
    "tags": []
   },
   "outputs": [
    {
     "name": "stdout",
     "output_type": "stream",
     "text": [
      "CD4+ TCM cell\n",
      "NK cell\n",
      "CD4+ T cell\n",
      "CD8+ TEM cell\n",
      "B cell\n",
      "CD8+ TCM cell\n",
      "CD4+ TEM cell\n",
      "memory B cell\n",
      "CD8+ T cell\n",
      "CD56+ NK cell\n",
      "CD16+ monocyte\n",
      "MAIT cell\n",
      "Treg memory\n",
      "monocyte\n",
      "gdT cell\n",
      "CD4+ CTL cell\n",
      "dnT cell\n",
      "hematopoietic precursor cell\n",
      "platelet\n",
      "plasmablast\n",
      "dendritic cell\n",
      "plasmacytoid dendritic cell\n"
     ]
    }
   ],
   "source": [
    "for i, row in celltypes.iterrows():\n",
    "    print(row['celltype'])\n",
    "    assert adata.obs[cell_type_key].iloc[row['cellindex']].unique() == row['celltype']"
   ]
  },
  {
   "cell_type": "code",
   "execution_count": null,
   "id": "0c6239af-6c71-4fc5-84e6-61f6e8c3c2ce",
   "metadata": {},
   "outputs": [],
   "source": []
  }
 ],
 "metadata": {
  "kernelspec": {
   "display_name": "Python [conda env:anaconda-scooby_reproducibility]",
   "language": "python",
   "name": "conda-env-anaconda-scooby_reproducibility-py"
  },
  "language_info": {
   "codemirror_mode": {
    "name": "ipython",
    "version": 3
   },
   "file_extension": ".py",
   "mimetype": "text/x-python",
   "name": "python",
   "nbconvert_exporter": "python",
   "pygments_lexer": "ipython3",
   "version": "3.9.19"
  }
 },
 "nbformat": 4,
 "nbformat_minor": 5
}
