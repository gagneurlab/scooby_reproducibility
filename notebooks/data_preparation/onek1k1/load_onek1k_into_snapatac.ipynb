{
 "cells": [
  {
   "cell_type": "code",
   "execution_count": 3,
   "id": "0999688d-c701-408d-b3ca-7160992a275c",
   "metadata": {
    "scrolled": true,
    "tags": []
   },
   "outputs": [],
   "source": [
    "import time\n",
    "import pandas as pd\n",
    "import os\n",
    "import numpy as np\n",
    "import snapatac2_scooby as sp\n",
    "import scanpy as sc\n",
    "import anndata as ad\n",
    "import glob\n",
    "\n",
    "import scipy.sparse\n",
    "import tqdm"
   ]
  },
  {
   "cell_type": "markdown",
   "id": "a14a86b2-cbce-4aca-9ba6-26fcfd312403",
   "metadata": {},
   "source": [
    "Important:\n",
    "* SnapATAC automatically deletes reads that have the same start end and UMI (duplicates)\n",
    "* If you do not provide UMI identifier (umi_regex or umi_tag) it will delete all reads that have the same start/end (not ideal)\n",
    "* Our bam file reader ignores insertions or deletions in the read which can lead to small artifacts in the coverage"
   ]
  },
  {
   "cell_type": "markdown",
   "id": "31b81103-70ec-4e3d-b0af-60c9329bd316",
   "metadata": {},
   "source": [
    "## Read in RNA bam files"
   ]
  },
  {
   "cell_type": "code",
   "execution_count": 4,
   "id": "10ad2700-d83b-46c0-a3d4-def7a48995ec",
   "metadata": {
    "tags": []
   },
   "outputs": [],
   "source": [
    "data_path = '/data/ceph/hdd/project/node_08/QNA/scborzoi/submission_data'"
   ]
  },
  {
   "cell_type": "code",
   "execution_count": null,
   "id": "cd14cd0a-5ece-4c4d-8ffe-a5c30d2bbbcc",
   "metadata": {
    "scrolled": true,
    "tags": []
   },
   "outputs": [],
   "source": [
    "adata = sc.read(\n",
    "    os.path.join(data_path, 'onek1k_training_data', 'OneK1K_only_immune.h5ad'), backed='r')"
   ]
  },
  {
   "cell_type": "markdown",
   "id": "c8d88081-353e-4900-aa86-6b12dd044fc0",
   "metadata": {},
   "source": [
    "### Make Fragment file"
   ]
  },
  {
   "cell_type": "markdown",
   "id": "3622f7b7-389f-43ac-a0bc-4729aa2e39fc",
   "metadata": {},
   "source": [
    "See `process_snapatac.py`"
   ]
  },
  {
   "cell_type": "markdown",
   "id": "260e4d0d-9eed-46b2-abf6-ee7c40b198a0",
   "metadata": {},
   "source": [
    "## Combine both samples"
   ]
  },
  {
   "cell_type": "code",
   "execution_count": 4,
   "id": "8720a8d6-e56a-4a8a-ae7f-fff2d8d5eba4",
   "metadata": {
    "tags": []
   },
   "outputs": [],
   "source": [
    "import anndata \n",
    "import os\n",
    "import glob"
   ]
  },
  {
   "cell_type": "code",
   "execution_count": 5,
   "id": "631696a4-7c92-41b4-8054-70b6aee04b31",
   "metadata": {
    "tags": []
   },
   "outputs": [],
   "source": [
    "sample_files = glob.glob(os.path.join(data_path , 'snapatac/anndata/*pool*plus*'))"
   ]
  },
  {
   "cell_type": "code",
   "execution_count": 6,
   "id": "91c078b1-f82a-49f5-b094-3f2a5ce396dd",
   "metadata": {
    "tags": []
   },
   "outputs": [],
   "source": [
    "samples = [os.path.basename(sample_file).split('_')[1] for sample_file in sample_files]"
   ]
  },
  {
   "cell_type": "code",
   "execution_count": 8,
   "id": "6bc7beed-b73d-4e28-8030-99bb49da8be3",
   "metadata": {
    "tags": []
   },
   "outputs": [
    {
     "name": "stdout",
     "output_type": "stream",
     "text": [
      "minus\n"
     ]
    },
    {
     "name": "stderr",
     "output_type": "stream",
     "text": [
      "/opt/modules/i12g/anaconda/envs/scprinter_env/lib/python3.10/site-packages/anndata/_core/aligned_df.py:67: ImplicitModificationWarning: Transforming to str index.\n",
      "  warnings.warn(\"Transforming to str index.\", ImplicitModificationWarning)\n",
      "/opt/modules/i12g/anaconda/envs/scprinter_env/lib/python3.10/site-packages/anndata/__init__.py:55: FutureWarning: `anndata.read` is deprecated, use `anndata.read_h5ad` instead. `ad.read` will be removed in mid 2024.\n",
      "  warnings.warn(\n",
      "/opt/modules/i12g/anaconda/envs/scprinter_env/lib/python3.10/site-packages/anndata/_core/aligned_df.py:67: ImplicitModificationWarning: Transforming to str index.\n",
      "  warnings.warn(\"Transforming to str index.\", ImplicitModificationWarning)\n"
     ]
    }
   ],
   "source": [
    "for strand in [ 'minus']:\n",
    "    print(strand)\n",
    "    adatas = np.sort([\n",
    "        os.path.join(data_path, 'snapatac', 'anndata', f'snapatac_{sample}_{strand}.h5ad') \n",
    "     for sample in samples\n",
    "    ])\n",
    "\n",
    "    anndata.experimental.concat_on_disk(\n",
    "        in_files=adatas, \n",
    "        out_file=os.path.join(data_path, 'snapatac','anndata', f'snapatac_merged_{strand}.h5ad'),\n",
    "    )\n",
    "\n",
    "    # uns merge is not working, add that\n",
    "\n",
    "    adata_cov = sc.read_h5ad(os.path.join(data_path, 'snapatac', 'anndata', f'snapatac_merged_{strand}.h5ad'))\n",
    "\n",
    "    test = sc.read(adatas[0])\n",
    "\n",
    "    adata_cov.uns = test.uns.copy()\n",
    "\n",
    "    # join obs\n",
    "    adata_cov.obs = adata_cov.obs.join(adata.obs)\n",
    "    \n",
    "    #reorder\n",
    "    adata_cov = adata_cov[adata.obs_names]\n",
    "    adata_cov.write(os.path.join(data_path, 'snapatac', 'anndata', f'snapatac_merged_{strand}.h5ad'))"
   ]
  },
  {
   "cell_type": "code",
   "execution_count": null,
   "id": "a6f5d3a1-e02d-4689-b971-08098181908b",
   "metadata": {},
   "outputs": [],
   "source": []
  },
  {
   "cell_type": "code",
   "execution_count": 6,
   "id": "eb8ba3d9-5344-440e-8a60-faea2d1cbc8b",
   "metadata": {},
   "outputs": [
    {
     "data": {
      "text/plain": [
       "array(['CD4+ TCM cell', 'NK cell', 'CD4+ T cell', 'CD8+ TEM cell',\n",
       "       'B cell', 'CD8+ TCM cell', 'CD4+ TEM cell', 'memory B cell', 'nan',\n",
       "       'CD8+ T cell', 'CD56+ NK cell', 'CD16+ monocyte', 'MAIT cell',\n",
       "       'Treg memory', 'monocyte', 'gdT cell', 'CD4+ CTL cell', 'dnT cell',\n",
       "       'hematopoietic precursor cell', 'platelet', 'plasmablast',\n",
       "       'dendritic cell', 'plasmacytoid dendritic cell'], dtype=object)"
      ]
     },
     "execution_count": 6,
     "metadata": {},
     "output_type": "execute_result"
    }
   ],
   "source": [
    "adata.obs.tissue_label.astype(str).unique()"
   ]
  },
  {
   "cell_type": "markdown",
   "id": "9043dd19-423a-49a9-a0d8-92d3a7de9f89",
   "metadata": {},
   "source": [
    "## Write pseudobulks"
   ]
  },
  {
   "cell_type": "code",
   "execution_count": 7,
   "id": "1bb383bd-c1d0-4cde-850e-25c67fe1df12",
   "metadata": {
    "tags": []
   },
   "outputs": [
    {
     "name": "stderr",
     "output_type": "stream",
     "text": [
      "/opt/modules/i12g/anaconda/envs/scprinter_env/lib/python3.10/site-packages/anndata/__init__.py:55: FutureWarning: `anndata.read` is deprecated, use `anndata.read_h5ad` instead. `ad.read` will be removed in mid 2024.\n",
      "  warnings.warn(\n",
      "/opt/modules/i12g/anaconda/envs/scprinter_env/lib/python3.10/site-packages/anndata/_core/aligned_df.py:68: ImplicitModificationWarning: Transforming to str index.\n",
      "  warnings.warn(\"Transforming to str index.\", ImplicitModificationWarning)\n",
      "2024-12-18 13:55:11 - INFO - Exporting fragments...\n",
      "2024-12-18 15:39:36 - INFO - Creating coverage files...\n",
      "/opt/modules/i12g/anaconda/envs/scprinter_env/lib/python3.10/site-packages/anndata/__init__.py:55: FutureWarning: `anndata.read` is deprecated, use `anndata.read_h5ad` instead. `ad.read` will be removed in mid 2024.\n",
      "  warnings.warn(\n",
      "/opt/modules/i12g/anaconda/envs/scprinter_env/lib/python3.10/site-packages/anndata/_core/aligned_df.py:68: ImplicitModificationWarning: Transforming to str index.\n",
      "  warnings.warn(\"Transforming to str index.\", ImplicitModificationWarning)\n",
      "2024-12-18 16:34:29 - INFO - Exporting fragments...\n",
      "2024-12-18 17:38:56 - INFO - Creating coverage files...\n"
     ]
    }
   ],
   "source": [
    "for strand in ['plus', 'minus']:\n",
    "    adata_cov = sc.read(os.path.join(data_path, 'snapatac', 'anndata', f'snapatac_merged_{strand}.h5ad'))\n",
    "    adata_cov.obs = adata.obs\n",
    "    adata_cov.obs.tissue_label = adata_cov.obs.tissue_label.astype(str)\n",
    "    sp.ex.export_coverage(\n",
    "        adata_cov, \n",
    "        groupby='tissue_label', \n",
    "        bin_size=1, \n",
    "        out_dir=os.path.join(data_path, 'snapatac',\"pseudobulks\"), \n",
    "        normalization=None,\n",
    "        n_jobs=-1,\n",
    "        max_frag_length=None,\n",
    "        suffix='.bw',\n",
    "        prefix=f\"{strand}.\"\n",
    "    )"
   ]
  },
  {
   "cell_type": "code",
   "execution_count": 12,
   "id": "b3ccd122-d14b-4beb-a9a6-ad0c20567287",
   "metadata": {},
   "outputs": [
    {
     "data": {
      "text/plain": [
       "8"
      ]
     },
     "execution_count": 12,
     "metadata": {},
     "output_type": "execute_result"
    }
   ],
   "source": [
    "8"
   ]
  },
  {
   "cell_type": "code",
   "execution_count": 11,
   "id": "db7ed107-fc8d-4a11-874e-2e986629e3fc",
   "metadata": {},
   "outputs": [
    {
     "data": {
      "text/plain": [
       "3"
      ]
     },
     "execution_count": 11,
     "metadata": {},
     "output_type": "execute_result"
    }
   ],
   "source": [
    "3"
   ]
  },
  {
   "cell_type": "code",
   "execution_count": null,
   "id": "b4b5daca-363c-4402-8c31-e54e244dd9c7",
   "metadata": {},
   "outputs": [],
   "source": []
  }
 ],
 "metadata": {
  "kernelspec": {
   "display_name": "Python [conda env:anaconda-scooby_reproducibility]",
   "language": "python",
   "name": "conda-env-anaconda-scooby_reproducibility-py"
  },
  "language_info": {
   "codemirror_mode": {
    "name": "ipython",
    "version": 3
   },
   "file_extension": ".py",
   "mimetype": "text/x-python",
   "name": "python",
   "nbconvert_exporter": "python",
   "pygments_lexer": "ipython3",
   "version": "3.9.19"
  }
 },
 "nbformat": 4,
 "nbformat_minor": 5
}
