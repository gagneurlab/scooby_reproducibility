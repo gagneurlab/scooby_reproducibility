{
 "cells": [
  {
   "cell_type": "code",
   "execution_count": null,
   "id": "0999688d-c701-408d-b3ca-7160992a275c",
   "metadata": {
    "tags": []
   },
   "outputs": [],
   "source": [
    "import time\n",
    "import pandas as pd\n",
    "import os\n",
    "import numpy as np\n",
    "import snapatac2_scooby as sp\n",
    "import scanpy as sc\n",
    "import anndata as ad\n",
    "import glob\n",
    "\n",
    "import scipy.sparse\n",
    "import tqdm"
   ]
  },
  {
   "cell_type": "markdown",
   "id": "a14a86b2-cbce-4aca-9ba6-26fcfd312403",
   "metadata": {},
   "source": [
    "Important:\n",
    "* SnapATAC automatically deletes reads that have the same start end and UMI (duplicates)\n",
    "* If you do not provide UMI identifier (umi_regex or umi_tag) it will delete all reads that have the same start/end (not ideal)"
   ]
  },
  {
   "cell_type": "markdown",
   "id": "31b81103-70ec-4e3d-b0af-60c9329bd316",
   "metadata": {},
   "source": [
    "## Read in RNA bam files"
   ]
  },
  {
   "cell_type": "code",
   "execution_count": 2,
   "id": "65a4aa20-ed04-4c69-a020-cf128851aa94",
   "metadata": {
    "tags": []
   },
   "outputs": [],
   "source": [
    "data_path = 'tmp'"
   ]
  },
  {
   "cell_type": "code",
   "execution_count": 4,
   "id": "65624ae3-aa02-4cbe-9e26-acd59efbdb29",
   "metadata": {
    "tags": []
   },
   "outputs": [
    {
     "name": "stderr",
     "output_type": "stream",
     "text": [
      "/opt/modules/i12g/anaconda/envs/scprinter_env/lib/python3.10/site-packages/anndata/__init__.py:55: FutureWarning: `anndata.read` is deprecated, use `anndata.read_h5ad` instead. `ad.read` will be removed in mid 2024.\n",
      "  warnings.warn(\n"
     ]
    }
   ],
   "source": [
    "adata = sc.read(\n",
    "    os.path.join(data_path, 'bmmc_multiome_multivi_neurips21_curated.h5ad'), backed='r')"
   ]
  },
  {
   "cell_type": "code",
   "execution_count": 6,
   "id": "f34294b8-dd8e-47ac-b122-497c6af44e35",
   "metadata": {
    "tags": []
   },
   "outputs": [],
   "source": [
    "adata.obs['sample'] = adata.obs['old_neurips21_obs_names'].str.split('-').str[-1]\n",
    "adata.obs['barcode'] = adata.obs['old_neurips21_obs_names'].str.split('-').str[0] + '-1'"
   ]
  },
  {
   "cell_type": "markdown",
   "id": "c8d88081-353e-4900-aa86-6b12dd044fc0",
   "metadata": {},
   "source": [
    "### Make Fragment file"
   ]
  },
  {
   "cell_type": "code",
   "execution_count": 33,
   "id": "2bdd8170-5e0d-4f36-8840-6b3b78bc204e",
   "metadata": {
    "tags": []
   },
   "outputs": [],
   "source": [
    "sample_files = glob.glob(os.path.join(data_path , 'filtered_bam/*bam'))"
   ]
  },
  {
   "cell_type": "code",
   "execution_count": 40,
   "id": "25d6fbf5-625b-43cb-ac25-328c701a9be4",
   "metadata": {
    "scrolled": true,
    "tags": []
   },
   "outputs": [
    {
     "name": "stderr",
     "output_type": "stream",
     "text": [
      "  0%|          | 0/13 [00:00<?, ?it/s]/scratch/tmp/martensl/ipykernel_4028376/2272645163.py:8: FutureWarning: Series.__getitem__ treating keys as positions is deprecated. In a future version, integer keys will always be treated as labels (consistent with DataFrame behavior). To access a value by position, use `ser.iloc[pos]`\n",
      "  sample_number = adata.obs.query(\"sample == @sample\")['old_neurips21_obs_names'][0].split('-')[1]\n"
     ]
    },
    {
     "name": "stdout",
     "output_type": "stream",
     "text": [
      "/s/project/QNA/scborzoi/neurips_bone_marrow/filtered_bam/s2d4_tag.bam\n",
      "s2d4\n",
      "s2d4\n"
     ]
    },
    {
     "name": "stderr",
     "output_type": "stream",
     "text": [
      "  8%|▊         | 1/13 [00:25<05:05, 25.42s/it]"
     ]
    },
    {
     "name": "stdout",
     "output_type": "stream",
     "text": [
      "Skipping s2d4\n",
      "/s/project/QNA/scborzoi/neurips_bone_marrow/filtered_bam/s4d8_tag.bam\n",
      "s4d8\n",
      "14\n"
     ]
    },
    {
     "name": "stderr",
     "output_type": "stream",
     "text": [
      "/scratch/tmp/martensl/ipykernel_4028376/2272645163.py:8: FutureWarning: Series.__getitem__ treating keys as positions is deprecated. In a future version, integer keys will always be treated as labels (consistent with DataFrame behavior). To access a value by position, use `ser.iloc[pos]`\n",
      "  sample_number = adata.obs.query(\"sample == @sample\")['old_neurips21_obs_names'][0].split('-')[1]\n",
      " 15%|█▌        | 2/13 [00:37<03:16, 17.85s/it]"
     ]
    },
    {
     "name": "stdout",
     "output_type": "stream",
     "text": [
      "Skipping s4d8\n",
      "/s/project/QNA/scborzoi/neurips_bone_marrow/filtered_bam/s1d2_tag.bam\n",
      "s1d2\n",
      "2\n"
     ]
    },
    {
     "name": "stderr",
     "output_type": "stream",
     "text": [
      "/scratch/tmp/martensl/ipykernel_4028376/2272645163.py:8: FutureWarning: Series.__getitem__ treating keys as positions is deprecated. In a future version, integer keys will always be treated as labels (consistent with DataFrame behavior). To access a value by position, use `ser.iloc[pos]`\n",
      "  sample_number = adata.obs.query(\"sample == @sample\")['old_neurips21_obs_names'][0].split('-')[1]\n",
      " 23%|██▎       | 3/13 [00:50<02:32, 15.30s/it]"
     ]
    },
    {
     "name": "stdout",
     "output_type": "stream",
     "text": [
      "Skipping s1d2\n",
      "/s/project/QNA/scborzoi/neurips_bone_marrow/filtered_bam/s3d10_tag.bam\n",
      "s3d10\n",
      "14\n"
     ]
    },
    {
     "name": "stderr",
     "output_type": "stream",
     "text": [
      "/scratch/tmp/martensl/ipykernel_4028376/2272645163.py:8: FutureWarning: Series.__getitem__ treating keys as positions is deprecated. In a future version, integer keys will always be treated as labels (consistent with DataFrame behavior). To access a value by position, use `ser.iloc[pos]`\n",
      "  sample_number = adata.obs.query(\"sample == @sample\")['old_neurips21_obs_names'][0].split('-')[1]\n",
      " 31%|███       | 4/13 [01:06<02:20, 15.66s/it]"
     ]
    },
    {
     "name": "stdout",
     "output_type": "stream",
     "text": [
      "Skipping s3d10\n",
      "/s/project/QNA/scborzoi/neurips_bone_marrow/filtered_bam/s4d1_tag.bam\n",
      "s4d1\n",
      "13\n"
     ]
    },
    {
     "name": "stderr",
     "output_type": "stream",
     "text": [
      "/scratch/tmp/martensl/ipykernel_4028376/2272645163.py:8: FutureWarning: Series.__getitem__ treating keys as positions is deprecated. In a future version, integer keys will always be treated as labels (consistent with DataFrame behavior). To access a value by position, use `ser.iloc[pos]`\n",
      "  sample_number = adata.obs.query(\"sample == @sample\")['old_neurips21_obs_names'][0].split('-')[1]\n",
      " 38%|███▊      | 5/13 [01:20<02:00, 15.06s/it]"
     ]
    },
    {
     "name": "stdout",
     "output_type": "stream",
     "text": [
      "Skipping s4d1\n",
      "/s/project/QNA/scborzoi/neurips_bone_marrow/filtered_bam/s3d3_tag.bam\n",
      "s3d3\n",
      "10\n"
     ]
    },
    {
     "name": "stderr",
     "output_type": "stream",
     "text": [
      "/scratch/tmp/martensl/ipykernel_4028376/2272645163.py:8: FutureWarning: Series.__getitem__ treating keys as positions is deprecated. In a future version, integer keys will always be treated as labels (consistent with DataFrame behavior). To access a value by position, use `ser.iloc[pos]`\n",
      "  sample_number = adata.obs.query(\"sample == @sample\")['old_neurips21_obs_names'][0].split('-')[1]\n",
      " 46%|████▌     | 6/13 [01:37<01:50, 15.75s/it]"
     ]
    },
    {
     "name": "stdout",
     "output_type": "stream",
     "text": [
      "Skipping s3d3\n",
      "/s/project/QNA/scborzoi/neurips_bone_marrow/filtered_bam/s3d7_tag.bam\n",
      "s3d7\n",
      "12\n"
     ]
    },
    {
     "name": "stderr",
     "output_type": "stream",
     "text": [
      "/scratch/tmp/martensl/ipykernel_4028376/2272645163.py:8: FutureWarning: Series.__getitem__ treating keys as positions is deprecated. In a future version, integer keys will always be treated as labels (consistent with DataFrame behavior). To access a value by position, use `ser.iloc[pos]`\n",
      "  sample_number = adata.obs.query(\"sample == @sample\")['old_neurips21_obs_names'][0].split('-')[1]\n",
      " 54%|█████▍    | 7/13 [01:47<01:22, 13.82s/it]"
     ]
    },
    {
     "name": "stdout",
     "output_type": "stream",
     "text": [
      "Skipping s3d7\n",
      "/s/project/QNA/scborzoi/neurips_bone_marrow/filtered_bam/s4d9_tag.bam\n",
      "s4d9\n",
      "12\n"
     ]
    },
    {
     "name": "stderr",
     "output_type": "stream",
     "text": [
      "/scratch/tmp/martensl/ipykernel_4028376/2272645163.py:8: FutureWarning: Series.__getitem__ treating keys as positions is deprecated. In a future version, integer keys will always be treated as labels (consistent with DataFrame behavior). To access a value by position, use `ser.iloc[pos]`\n",
      "  sample_number = adata.obs.query(\"sample == @sample\")['old_neurips21_obs_names'][0].split('-')[1]\n",
      " 62%|██████▏   | 8/13 [01:53<00:57, 11.46s/it]"
     ]
    },
    {
     "name": "stdout",
     "output_type": "stream",
     "text": [
      "Skipping s4d9\n",
      "/s/project/QNA/scborzoi/neurips_bone_marrow/filtered_bam/s2d1_tag.bam\n",
      "s2d1\n",
      "4\n"
     ]
    },
    {
     "name": "stderr",
     "output_type": "stream",
     "text": [
      "/scratch/tmp/martensl/ipykernel_4028376/2272645163.py:8: FutureWarning: Series.__getitem__ treating keys as positions is deprecated. In a future version, integer keys will always be treated as labels (consistent with DataFrame behavior). To access a value by position, use `ser.iloc[pos]`\n",
      "  sample_number = adata.obs.query(\"sample == @sample\")['old_neurips21_obs_names'][0].split('-')[1]\n",
      " 69%|██████▉   | 9/13 [02:10<00:51, 12.95s/it]"
     ]
    },
    {
     "name": "stdout",
     "output_type": "stream",
     "text": [
      "Skipping s2d1\n",
      "/s/project/QNA/scborzoi/neurips_bone_marrow/filtered_bam/s1d3_tag.bam\n",
      "s1d3\n",
      "3\n"
     ]
    },
    {
     "name": "stderr",
     "output_type": "stream",
     "text": [
      "/scratch/tmp/martensl/ipykernel_4028376/2272645163.py:8: FutureWarning: Series.__getitem__ treating keys as positions is deprecated. In a future version, integer keys will always be treated as labels (consistent with DataFrame behavior). To access a value by position, use `ser.iloc[pos]`\n",
      "  sample_number = adata.obs.query(\"sample == @sample\")['old_neurips21_obs_names'][0].split('-')[1]\n",
      " 77%|███████▋  | 10/13 [02:20<00:36, 12.32s/it]"
     ]
    },
    {
     "name": "stdout",
     "output_type": "stream",
     "text": [
      "Skipping s1d3\n",
      "/s/project/QNA/scborzoi/neurips_bone_marrow/filtered_bam/s3d6_tag.bam\n",
      "s3d6\n",
      "8\n"
     ]
    },
    {
     "name": "stderr",
     "output_type": "stream",
     "text": [
      "/scratch/tmp/martensl/ipykernel_4028376/2272645163.py:8: FutureWarning: Series.__getitem__ treating keys as positions is deprecated. In a future version, integer keys will always be treated as labels (consistent with DataFrame behavior). To access a value by position, use `ser.iloc[pos]`\n",
      "  sample_number = adata.obs.query(\"sample == @sample\")['old_neurips21_obs_names'][0].split('-')[1]\n",
      " 85%|████████▍ | 11/13 [02:28<00:21, 10.81s/it]"
     ]
    },
    {
     "name": "stdout",
     "output_type": "stream",
     "text": [
      "Skipping s3d6\n",
      "/s/project/QNA/scborzoi/neurips_bone_marrow/filtered_bam/s2d5_tag.bam\n",
      "s2d5\n",
      "6\n"
     ]
    },
    {
     "name": "stderr",
     "output_type": "stream",
     "text": [
      "/scratch/tmp/martensl/ipykernel_4028376/2272645163.py:8: FutureWarning: Series.__getitem__ treating keys as positions is deprecated. In a future version, integer keys will always be treated as labels (consistent with DataFrame behavior). To access a value by position, use `ser.iloc[pos]`\n",
      "  sample_number = adata.obs.query(\"sample == @sample\")['old_neurips21_obs_names'][0].split('-')[1]\n",
      " 92%|█████████▏| 12/13 [02:44<00:12, 12.49s/it]"
     ]
    },
    {
     "name": "stdout",
     "output_type": "stream",
     "text": [
      "Skipping s2d5\n",
      "/s/project/QNA/scborzoi/neurips_bone_marrow/filtered_bam/s1d1_tag.bam\n",
      "s1d1\n",
      "1\n"
     ]
    },
    {
     "name": "stderr",
     "output_type": "stream",
     "text": [
      "/scratch/tmp/martensl/ipykernel_4028376/2272645163.py:8: FutureWarning: Series.__getitem__ treating keys as positions is deprecated. In a future version, integer keys will always be treated as labels (consistent with DataFrame behavior). To access a value by position, use `ser.iloc[pos]`\n",
      "  sample_number = adata.obs.query(\"sample == @sample\")['old_neurips21_obs_names'][0].split('-')[1]\n",
      "100%|██████████| 13/13 [03:00<00:00, 13.87s/it]"
     ]
    },
    {
     "name": "stdout",
     "output_type": "stream",
     "text": [
      "Skipping s1d1\n"
     ]
    },
    {
     "name": "stderr",
     "output_type": "stream",
     "text": [
      "\n"
     ]
    }
   ],
   "source": [
    "for sample_file in tqdm.tqdm(sample_files):\n",
    "    print(sample_file)\n",
    "    sample = os.path.basename(sample_file).split('_tag.bam')[0]\n",
    "    print(sample)\n",
    "    out_path = os.path.join(data_path, 'snapatac', 'fragments')\n",
    "    outfile = os.path.join(out_path, f'{sample}.fragments.bed.gz')\n",
    "    whitelist = adata.obs.query(\"sample == @sample\")['barcode'].to_list()\n",
    "    sample_number = adata.obs.query(\"sample == @sample\")['old_neurips21_obs_names'][0].split('-')[1]\n",
    "    \n",
    "    print(sample_number)\n",
    "    if (len(whitelist)>0) & (~os.path.exists(os.path.join(out_path, f'{sample}.fragments.bed.minus.gz'))):\n",
    "        sp.pp.make_fragment_file(\n",
    "            sample_file, \n",
    "            output_file=outfile,\n",
    "            barcode_tag=\"CB\", \n",
    "            umi_tag=\"UB\",\n",
    "            umi_regex=None, \n",
    "            stranded=True, \n",
    "            is_paired=False, \n",
    "            shift_left=0, \n",
    "            shift_right=0\n",
    "        )\n",
    "        \n",
    "\n",
    "    for strand in ['plus', 'minus']:\n",
    "        if not os.path.exists(os.path.join(data_path, 'snapatac', 'anndata', f'snapatac_{sample}_{strand}.h5ad')):\n",
    "            test = sp.pp.import_data(\n",
    "                    f\"{out_path}/{sample}.fragments.bed.{strand}.gz\", \n",
    "                    chrom_sizes=sp.genome.hg38, \n",
    "                    min_num_fragments=0, \n",
    "                    n_jobs=-1,\n",
    "                    whitelist=whitelist\n",
    "                )\n",
    "            if not test.obs_names.isin(whitelist).all():\n",
    "                print(sample)\n",
    "                break\n",
    "            if not sample == 's2d4':\n",
    "                test.obs.index = test.obs.index.str.split('-1').str[0] + '-' + sample_number + '-' + sample\n",
    "            else:\n",
    "                test.obs.index = test.obs.index.str.split('-1').str[0] + '-' + sample\n",
    "                \n",
    "            test.X = scipy.sparse.csr_matrix((test.obsm['fragment_single'].shape[0], 0))\n",
    "            test.write(os.path.join(data_path, 'snapatac', 'anndata', f'snapatac_{sample}_{strand}.h5ad'))\n",
    "    else:\n",
    "        print(f\"Skipping {sample}\")"
   ]
  },
  {
   "cell_type": "markdown",
   "id": "260e4d0d-9eed-46b2-abf6-ee7c40b198a0",
   "metadata": {},
   "source": [
    "## Combine both samples"
   ]
  },
  {
   "cell_type": "code",
   "execution_count": 42,
   "id": "91c078b1-f82a-49f5-b094-3f2a5ce396dd",
   "metadata": {
    "tags": []
   },
   "outputs": [],
   "source": [
    "samples = [os.path.basename(sample_file).split('_tag.bam')[0] for sample_file in sample_files]"
   ]
  },
  {
   "cell_type": "code",
   "execution_count": 53,
   "id": "6bc7beed-b73d-4e28-8030-99bb49da8be3",
   "metadata": {
    "tags": []
   },
   "outputs": [
    {
     "name": "stdout",
     "output_type": "stream",
     "text": [
      "plus\n"
     ]
    },
    {
     "name": "stderr",
     "output_type": "stream",
     "text": [
      "/opt/modules/i12g/anaconda/envs/scprinter_env/lib/python3.10/site-packages/anndata/_core/aligned_df.py:67: ImplicitModificationWarning: Transforming to str index.\n",
      "  warnings.warn(\"Transforming to str index.\", ImplicitModificationWarning)\n",
      "/opt/modules/i12g/anaconda/envs/scprinter_env/lib/python3.10/site-packages/anndata/__init__.py:55: FutureWarning: `anndata.read` is deprecated, use `anndata.read_h5ad` instead. `ad.read` will be removed in mid 2024.\n",
      "  warnings.warn(\n",
      "/opt/modules/i12g/anaconda/envs/scprinter_env/lib/python3.10/site-packages/anndata/_core/aligned_df.py:67: ImplicitModificationWarning: Transforming to str index.\n",
      "  warnings.warn(\"Transforming to str index.\", ImplicitModificationWarning)\n",
      "/opt/modules/i12g/anaconda/envs/scprinter_env/lib/python3.10/site-packages/anndata/_core/anndata.py:1209: ImplicitModificationWarning: Trying to modify attribute `.obs` of view, initializing view as actual.\n",
      "  df[key] = c\n",
      "/opt/modules/i12g/anaconda/envs/scprinter_env/lib/python3.10/site-packages/anndata/_core/aligned_df.py:67: ImplicitModificationWarning: Transforming to str index.\n",
      "  warnings.warn(\"Transforming to str index.\", ImplicitModificationWarning)\n",
      "/opt/modules/i12g/anaconda/envs/scprinter_env/lib/python3.10/site-packages/anndata/_core/aligned_df.py:67: ImplicitModificationWarning: Transforming to str index.\n",
      "  warnings.warn(\"Transforming to str index.\", ImplicitModificationWarning)\n",
      "... storing 'sample' as categorical\n",
      "/opt/modules/i12g/anaconda/envs/scprinter_env/lib/python3.10/site-packages/anndata/_core/anndata.py:1209: ImplicitModificationWarning: Trying to modify attribute `.obs` of view, initializing view as actual.\n",
      "  df[key] = c\n",
      "/opt/modules/i12g/anaconda/envs/scprinter_env/lib/python3.10/site-packages/anndata/_core/aligned_df.py:67: ImplicitModificationWarning: Transforming to str index.\n",
      "  warnings.warn(\"Transforming to str index.\", ImplicitModificationWarning)\n",
      "/opt/modules/i12g/anaconda/envs/scprinter_env/lib/python3.10/site-packages/anndata/_core/aligned_df.py:67: ImplicitModificationWarning: Transforming to str index.\n",
      "  warnings.warn(\"Transforming to str index.\", ImplicitModificationWarning)\n",
      "... storing 'barcode' as categorical\n"
     ]
    },
    {
     "name": "stdout",
     "output_type": "stream",
     "text": [
      "minus\n"
     ]
    },
    {
     "name": "stderr",
     "output_type": "stream",
     "text": [
      "/opt/modules/i12g/anaconda/envs/scprinter_env/lib/python3.10/site-packages/anndata/_core/aligned_df.py:67: ImplicitModificationWarning: Transforming to str index.\n",
      "  warnings.warn(\"Transforming to str index.\", ImplicitModificationWarning)\n",
      "/opt/modules/i12g/anaconda/envs/scprinter_env/lib/python3.10/site-packages/anndata/__init__.py:55: FutureWarning: `anndata.read` is deprecated, use `anndata.read_h5ad` instead. `ad.read` will be removed in mid 2024.\n",
      "  warnings.warn(\n",
      "/opt/modules/i12g/anaconda/envs/scprinter_env/lib/python3.10/site-packages/anndata/_core/aligned_df.py:67: ImplicitModificationWarning: Transforming to str index.\n",
      "  warnings.warn(\"Transforming to str index.\", ImplicitModificationWarning)\n",
      "/opt/modules/i12g/anaconda/envs/scprinter_env/lib/python3.10/site-packages/anndata/_core/anndata.py:1209: ImplicitModificationWarning: Trying to modify attribute `.obs` of view, initializing view as actual.\n",
      "  df[key] = c\n",
      "/opt/modules/i12g/anaconda/envs/scprinter_env/lib/python3.10/site-packages/anndata/_core/aligned_df.py:67: ImplicitModificationWarning: Transforming to str index.\n",
      "  warnings.warn(\"Transforming to str index.\", ImplicitModificationWarning)\n",
      "/opt/modules/i12g/anaconda/envs/scprinter_env/lib/python3.10/site-packages/anndata/_core/aligned_df.py:67: ImplicitModificationWarning: Transforming to str index.\n",
      "  warnings.warn(\"Transforming to str index.\", ImplicitModificationWarning)\n",
      "... storing 'sample' as categorical\n",
      "/opt/modules/i12g/anaconda/envs/scprinter_env/lib/python3.10/site-packages/anndata/_core/anndata.py:1209: ImplicitModificationWarning: Trying to modify attribute `.obs` of view, initializing view as actual.\n",
      "  df[key] = c\n",
      "/opt/modules/i12g/anaconda/envs/scprinter_env/lib/python3.10/site-packages/anndata/_core/aligned_df.py:67: ImplicitModificationWarning: Transforming to str index.\n",
      "  warnings.warn(\"Transforming to str index.\", ImplicitModificationWarning)\n",
      "/opt/modules/i12g/anaconda/envs/scprinter_env/lib/python3.10/site-packages/anndata/_core/aligned_df.py:67: ImplicitModificationWarning: Transforming to str index.\n",
      "  warnings.warn(\"Transforming to str index.\", ImplicitModificationWarning)\n",
      "... storing 'barcode' as categorical\n"
     ]
    }
   ],
   "source": [
    "for strand in ['plus', 'minus']:\n",
    "    print(strand)\n",
    "    adatas = [\n",
    "        os.path.join(data_path, 'snapatac', 'anndata', f'snapatac_{sample}_{strand}.h5ad') \n",
    "     for sample in samples\n",
    "    ]\n",
    "\n",
    "    anndata.experimental.concat_on_disk(\n",
    "        in_files=adatas, \n",
    "        out_file=os.path.join(data_path, 'snapatac','anndata', f'snapatac_merged_{strand}.h5ad'),\n",
    "        uns_merge='unique'\n",
    "    )\n",
    "\n",
    "    # uns merge is not working, add that\n",
    "\n",
    "    adata_cov = sc.read_h5ad(os.path.join(data_path, 'snapatac', 'anndata', f'snapatac_merged_{strand}.h5ad'))\n",
    "\n",
    "    test = sc.read(adatas[0])\n",
    "\n",
    "    adata_cov.uns = test.uns.copy()\n",
    "\n",
    "    # join obs\n",
    "    adata_cov.obs = adata_cov.obs.join(adata.obs.set_index('old_neurips21_obs_names'))\n",
    "    \n",
    "    #reorder\n",
    "    adata_cov = adata_cov[adata.obs['old_neurips21_obs_names']]\n",
    "    adata_cov.write(os.path.join(data_path, 'snapatac', 'anndata', f'snapatac_merged_{strand}.h5ad'))"
   ]
  },
  {
   "cell_type": "markdown",
   "id": "bb090a4a-bdeb-4dc0-9672-d02ffb44830d",
   "metadata": {},
   "source": [
    "## Read in ATAC fragment files"
   ]
  },
  {
   "cell_type": "code",
   "execution_count": 73,
   "id": "a33a21b3-defb-4b54-a740-1bc1420a3caa",
   "metadata": {
    "tags": []
   },
   "outputs": [],
   "source": [
    "sample_files = glob.glob(os.path.join(data_path , '*', '*atac_fragments.tsv.gz'))"
   ]
  },
  {
   "cell_type": "code",
   "execution_count": 75,
   "id": "1561e0e9-17ee-48b2-af23-f412d2082a01",
   "metadata": {
    "scrolled": true,
    "tags": []
   },
   "outputs": [
    {
     "name": "stderr",
     "output_type": "stream",
     "text": [
      "  0%|          | 0/13 [00:00<?, ?it/s]/scratch/tmp/martensl/ipykernel_4028376/1774371288.py:6: FutureWarning: Series.__getitem__ treating keys as positions is deprecated. In a future version, integer keys will always be treated as labels (consistent with DataFrame behavior). To access a value by position, use `ser.iloc[pos]`\n",
      "  sample_number = adata.obs.query(\"sample == @sample\")['old_neurips21_obs_names'][0].split('-')[1]\n"
     ]
    },
    {
     "name": "stdout",
     "output_type": "stream",
     "text": [
      "/s/project/QNA/scborzoi/neurips_bone_marrow/s3d7/atac_fragments.tsv.gz\n",
      "s3d7\n",
      "Skipping s3d7\n",
      "/s/project/QNA/scborzoi/neurips_bone_marrow/s1d2/atac_fragments.tsv.gz\n",
      "s1d2\n"
     ]
    },
    {
     "name": "stderr",
     "output_type": "stream",
     "text": [
      " 15%|█▌        | 2/13 [02:27<13:32, 73.87s/it]/scratch/tmp/martensl/ipykernel_4028376/1774371288.py:6: FutureWarning: Series.__getitem__ treating keys as positions is deprecated. In a future version, integer keys will always be treated as labels (consistent with DataFrame behavior). To access a value by position, use `ser.iloc[pos]`\n",
      "  sample_number = adata.obs.query(\"sample == @sample\")['old_neurips21_obs_names'][0].split('-')[1]\n"
     ]
    },
    {
     "name": "stdout",
     "output_type": "stream",
     "text": [
      "/s/project/QNA/scborzoi/neurips_bone_marrow/s4d1/atac_fragments.tsv.gz\n",
      "s4d1\n"
     ]
    },
    {
     "name": "stderr",
     "output_type": "stream",
     "text": [
      " 23%|██▎       | 3/13 [06:32<24:09, 144.90s/it]/scratch/tmp/martensl/ipykernel_4028376/1774371288.py:6: FutureWarning: Series.__getitem__ treating keys as positions is deprecated. In a future version, integer keys will always be treated as labels (consistent with DataFrame behavior). To access a value by position, use `ser.iloc[pos]`\n",
      "  sample_number = adata.obs.query(\"sample == @sample\")['old_neurips21_obs_names'][0].split('-')[1]\n"
     ]
    },
    {
     "name": "stdout",
     "output_type": "stream",
     "text": [
      "/s/project/QNA/scborzoi/neurips_bone_marrow/s4d8/atac_fragments.tsv.gz\n",
      "s4d8\n"
     ]
    },
    {
     "name": "stderr",
     "output_type": "stream",
     "text": [
      " 31%|███       | 4/13 [09:43<24:18, 162.10s/it]/scratch/tmp/martensl/ipykernel_4028376/1774371288.py:6: FutureWarning: Series.__getitem__ treating keys as positions is deprecated. In a future version, integer keys will always be treated as labels (consistent with DataFrame behavior). To access a value by position, use `ser.iloc[pos]`\n",
      "  sample_number = adata.obs.query(\"sample == @sample\")['old_neurips21_obs_names'][0].split('-')[1]\n"
     ]
    },
    {
     "name": "stdout",
     "output_type": "stream",
     "text": [
      "/s/project/QNA/scborzoi/neurips_bone_marrow/s1d1/atac_fragments.tsv.gz\n",
      "s1d1\n"
     ]
    },
    {
     "name": "stderr",
     "output_type": "stream",
     "text": [
      " 38%|███▊      | 5/13 [13:37<24:56, 187.12s/it]/scratch/tmp/martensl/ipykernel_4028376/1774371288.py:6: FutureWarning: Series.__getitem__ treating keys as positions is deprecated. In a future version, integer keys will always be treated as labels (consistent with DataFrame behavior). To access a value by position, use `ser.iloc[pos]`\n",
      "  sample_number = adata.obs.query(\"sample == @sample\")['old_neurips21_obs_names'][0].split('-')[1]\n"
     ]
    },
    {
     "name": "stdout",
     "output_type": "stream",
     "text": [
      "/s/project/QNA/scborzoi/neurips_bone_marrow/s2d5/atac_fragments.tsv.gz\n",
      "s2d5\n"
     ]
    },
    {
     "name": "stderr",
     "output_type": "stream",
     "text": [
      " 46%|████▌     | 6/13 [16:19<20:51, 178.78s/it]/scratch/tmp/martensl/ipykernel_4028376/1774371288.py:6: FutureWarning: Series.__getitem__ treating keys as positions is deprecated. In a future version, integer keys will always be treated as labels (consistent with DataFrame behavior). To access a value by position, use `ser.iloc[pos]`\n",
      "  sample_number = adata.obs.query(\"sample == @sample\")['old_neurips21_obs_names'][0].split('-')[1]\n"
     ]
    },
    {
     "name": "stdout",
     "output_type": "stream",
     "text": [
      "/s/project/QNA/scborzoi/neurips_bone_marrow/s3d6/atac_fragments.tsv.gz\n",
      "s3d6\n"
     ]
    },
    {
     "name": "stderr",
     "output_type": "stream",
     "text": [
      " 54%|█████▍    | 7/13 [17:48<15:00, 150.07s/it]/scratch/tmp/martensl/ipykernel_4028376/1774371288.py:6: FutureWarning: Series.__getitem__ treating keys as positions is deprecated. In a future version, integer keys will always be treated as labels (consistent with DataFrame behavior). To access a value by position, use `ser.iloc[pos]`\n",
      "  sample_number = adata.obs.query(\"sample == @sample\")['old_neurips21_obs_names'][0].split('-')[1]\n"
     ]
    },
    {
     "name": "stdout",
     "output_type": "stream",
     "text": [
      "/s/project/QNA/scborzoi/neurips_bone_marrow/s4d9/atac_fragments.tsv.gz\n",
      "s4d9\n"
     ]
    },
    {
     "name": "stderr",
     "output_type": "stream",
     "text": [
      " 62%|██████▏   | 8/13 [19:23<11:03, 132.61s/it]/scratch/tmp/martensl/ipykernel_4028376/1774371288.py:6: FutureWarning: Series.__getitem__ treating keys as positions is deprecated. In a future version, integer keys will always be treated as labels (consistent with DataFrame behavior). To access a value by position, use `ser.iloc[pos]`\n",
      "  sample_number = adata.obs.query(\"sample == @sample\")['old_neurips21_obs_names'][0].split('-')[1]\n"
     ]
    },
    {
     "name": "stdout",
     "output_type": "stream",
     "text": [
      "/s/project/QNA/scborzoi/neurips_bone_marrow/s3d10/atac_fragments.tsv.gz\n",
      "s3d10\n"
     ]
    },
    {
     "name": "stderr",
     "output_type": "stream",
     "text": [
      " 69%|██████▉   | 9/13 [28:44<17:41, 265.45s/it]/scratch/tmp/martensl/ipykernel_4028376/1774371288.py:6: FutureWarning: Series.__getitem__ treating keys as positions is deprecated. In a future version, integer keys will always be treated as labels (consistent with DataFrame behavior). To access a value by position, use `ser.iloc[pos]`\n",
      "  sample_number = adata.obs.query(\"sample == @sample\")['old_neurips21_obs_names'][0].split('-')[1]\n"
     ]
    },
    {
     "name": "stdout",
     "output_type": "stream",
     "text": [
      "/s/project/QNA/scborzoi/neurips_bone_marrow/s2d1/atac_fragments.tsv.gz\n",
      "s2d1\n"
     ]
    },
    {
     "name": "stderr",
     "output_type": "stream",
     "text": [
      " 77%|███████▋  | 10/13 [31:35<11:49, 236.52s/it]/scratch/tmp/martensl/ipykernel_4028376/1774371288.py:6: FutureWarning: Series.__getitem__ treating keys as positions is deprecated. In a future version, integer keys will always be treated as labels (consistent with DataFrame behavior). To access a value by position, use `ser.iloc[pos]`\n",
      "  sample_number = adata.obs.query(\"sample == @sample\")['old_neurips21_obs_names'][0].split('-')[1]\n"
     ]
    },
    {
     "name": "stdout",
     "output_type": "stream",
     "text": [
      "/s/project/QNA/scborzoi/neurips_bone_marrow/s2d4/atac_fragments.tsv.gz\n",
      "s2d4\n"
     ]
    },
    {
     "name": "stderr",
     "output_type": "stream",
     "text": [
      " 85%|████████▍ | 11/13 [34:39<07:21, 220.56s/it]/scratch/tmp/martensl/ipykernel_4028376/1774371288.py:6: FutureWarning: Series.__getitem__ treating keys as positions is deprecated. In a future version, integer keys will always be treated as labels (consistent with DataFrame behavior). To access a value by position, use `ser.iloc[pos]`\n",
      "  sample_number = adata.obs.query(\"sample == @sample\")['old_neurips21_obs_names'][0].split('-')[1]\n"
     ]
    },
    {
     "name": "stdout",
     "output_type": "stream",
     "text": [
      "/s/project/QNA/scborzoi/neurips_bone_marrow/s3d3/atac_fragments.tsv.gz\n",
      "s3d3\n"
     ]
    },
    {
     "name": "stderr",
     "output_type": "stream",
     "text": [
      " 92%|█████████▏| 12/13 [42:52<05:03, 303.23s/it]/scratch/tmp/martensl/ipykernel_4028376/1774371288.py:6: FutureWarning: Series.__getitem__ treating keys as positions is deprecated. In a future version, integer keys will always be treated as labels (consistent with DataFrame behavior). To access a value by position, use `ser.iloc[pos]`\n",
      "  sample_number = adata.obs.query(\"sample == @sample\")['old_neurips21_obs_names'][0].split('-')[1]\n"
     ]
    },
    {
     "name": "stdout",
     "output_type": "stream",
     "text": [
      "/s/project/QNA/scborzoi/neurips_bone_marrow/s1d3/atac_fragments.tsv.gz\n",
      "s1d3\n"
     ]
    },
    {
     "name": "stderr",
     "output_type": "stream",
     "text": [
      "100%|██████████| 13/13 [44:48<00:00, 206.77s/it]\n"
     ]
    }
   ],
   "source": [
    "for sample_file in tqdm.tqdm(sample_files):\n",
    "    print(sample_file)\n",
    "    sample = sample_file.split('/')[-2]\n",
    "    print(sample)\n",
    "    whitelist = adata.obs.query(\"sample == @sample\")['barcode'].to_list()\n",
    "    sample_number = adata.obs.query(\"sample == @sample\")['old_neurips21_obs_names'][0].split('-')[1]\n",
    "\n",
    "\n",
    "    if not os.path.exists(os.path.join(data_path, 'snapatac', 'anndata', f'snapatac_{sample}_atac.h5ad')):\n",
    "        test = sp.pp.import_data(\n",
    "                sample_file, \n",
    "                chrom_sizes=sp.genome.hg38, \n",
    "                min_num_fragments=0, \n",
    "                n_jobs=-1,\n",
    "                whitelist=whitelist,\n",
    "                sorted_by_barcode=False\n",
    "            )\n",
    "        if not test.obs_names.isin(whitelist).all():\n",
    "            print(sample)\n",
    "            break\n",
    "        if not sample == 's2d4':\n",
    "            test.obs.index = test.obs.index.str.split('-1').str[0] + '-' + sample_number + '-' + sample\n",
    "        else:\n",
    "            test.obs.index = test.obs.index.str.split('-1').str[0] + '-' + sample\n",
    "\n",
    "        test.X = scipy.sparse.csr_matrix((test.obsm['fragment_paired'].shape[0], 0))\n",
    "        test.write(os.path.join(data_path, 'snapatac', 'anndata', f'snapatac_{sample}_atac.h5ad'))\n",
    "    else:\n",
    "        print(f\"Skipping {sample}\")"
   ]
  },
  {
   "cell_type": "code",
   "execution_count": 77,
   "id": "ff561270-411e-4695-a357-d6abf89e2bc1",
   "metadata": {
    "tags": []
   },
   "outputs": [
    {
     "name": "stderr",
     "output_type": "stream",
     "text": [
      "/opt/modules/i12g/anaconda/envs/scprinter_env/lib/python3.10/site-packages/anndata/_core/aligned_df.py:67: ImplicitModificationWarning: Transforming to str index.\n",
      "  warnings.warn(\"Transforming to str index.\", ImplicitModificationWarning)\n",
      "/opt/modules/i12g/anaconda/envs/scprinter_env/lib/python3.10/site-packages/anndata/__init__.py:55: FutureWarning: `anndata.read` is deprecated, use `anndata.read_h5ad` instead. `ad.read` will be removed in mid 2024.\n",
      "  warnings.warn(\n",
      "/opt/modules/i12g/anaconda/envs/scprinter_env/lib/python3.10/site-packages/anndata/_core/aligned_df.py:67: ImplicitModificationWarning: Transforming to str index.\n",
      "  warnings.warn(\"Transforming to str index.\", ImplicitModificationWarning)\n",
      "/opt/modules/i12g/anaconda/envs/scprinter_env/lib/python3.10/site-packages/anndata/_core/anndata.py:1209: ImplicitModificationWarning: Trying to modify attribute `.obs` of view, initializing view as actual.\n",
      "  df[key] = c\n",
      "/opt/modules/i12g/anaconda/envs/scprinter_env/lib/python3.10/site-packages/anndata/_core/aligned_df.py:67: ImplicitModificationWarning: Transforming to str index.\n",
      "  warnings.warn(\"Transforming to str index.\", ImplicitModificationWarning)\n",
      "/opt/modules/i12g/anaconda/envs/scprinter_env/lib/python3.10/site-packages/anndata/_core/aligned_df.py:67: ImplicitModificationWarning: Transforming to str index.\n",
      "  warnings.warn(\"Transforming to str index.\", ImplicitModificationWarning)\n",
      "... storing 'sample' as categorical\n",
      "/opt/modules/i12g/anaconda/envs/scprinter_env/lib/python3.10/site-packages/anndata/_core/anndata.py:1209: ImplicitModificationWarning: Trying to modify attribute `.obs` of view, initializing view as actual.\n",
      "  df[key] = c\n",
      "/opt/modules/i12g/anaconda/envs/scprinter_env/lib/python3.10/site-packages/anndata/_core/aligned_df.py:67: ImplicitModificationWarning: Transforming to str index.\n",
      "  warnings.warn(\"Transforming to str index.\", ImplicitModificationWarning)\n",
      "/opt/modules/i12g/anaconda/envs/scprinter_env/lib/python3.10/site-packages/anndata/_core/aligned_df.py:67: ImplicitModificationWarning: Transforming to str index.\n",
      "  warnings.warn(\"Transforming to str index.\", ImplicitModificationWarning)\n",
      "... storing 'barcode' as categorical\n"
     ]
    }
   ],
   "source": [
    "    \n",
    "adatas = [\n",
    "    os.path.join(data_path, 'snapatac', 'anndata', f'snapatac_{sample}_atac.h5ad') \n",
    " for sample in samples\n",
    "]\n",
    "\n",
    "anndata.experimental.concat_on_disk(\n",
    "    in_files=adatas, \n",
    "    out_file=os.path.join(data_path, 'snapatac','anndata', f'snapatac_merged_atac.h5ad'),\n",
    "    uns_merge='unique'\n",
    ")\n",
    "\n",
    "# uns merge is not working, add that\n",
    "\n",
    "adata_cov = sc.read_h5ad(os.path.join(data_path, 'snapatac', 'anndata', f'snapatac_merged_atac.h5ad'))\n",
    "\n",
    "test = sc.read(adatas[0])\n",
    "\n",
    "adata_cov.uns = test.uns.copy()\n",
    "\n",
    "# join obs\n",
    "adata_cov.obs = adata_cov.obs.join(adata.obs.set_index('old_neurips21_obs_names'))\n",
    "\n",
    "#reorder\n",
    "adata_cov = adata_cov[adata.obs['old_neurips21_obs_names']]\n",
    "adata_cov.write(os.path.join(data_path, 'snapatac', 'anndata', f'snapatac_merged_atac.h5ad'))"
   ]
  },
  {
   "cell_type": "markdown",
   "id": "2d5a1542-f3d0-4536-b267-18e9f903091c",
   "metadata": {},
   "source": [
    "## Save insertions"
   ]
  },
  {
   "cell_type": "code",
   "execution_count": null,
   "id": "c4553c25-f7ea-4bbe-b29b-c60907eb8fdc",
   "metadata": {
    "tags": []
   },
   "outputs": [
    {
     "name": "stderr",
     "output_type": "stream",
     "text": [
      "/opt/modules/i12g/anaconda/envs/scprinter_env/lib/python3.10/site-packages/anndata/__init__.py:55: FutureWarning: `anndata.read` is deprecated, use `anndata.read_h5ad` instead. `ad.read` will be removed in mid 2024.\n",
      "  warnings.warn(\n"
     ]
    }
   ],
   "source": [
    "adata_cov = sc.read(os.path.join(data_path, 'snapatac', 'anndata', f'snapatac_merged_atac_fragments.h5ad'))"
   ]
  },
  {
   "cell_type": "code",
   "execution_count": 82,
   "id": "61ae1aee-050a-4fa4-a9d4-34e57f501afb",
   "metadata": {
    "tags": []
   },
   "outputs": [
    {
     "data": {
      "text/plain": [
       "AnnData object with n_obs × n_vars = 69247 × 0\n",
       "    obs: 'n_fragment', 'frac_dup', 'frac_mito', 'GEX_pct_counts_mt', 'GEX_n_counts', 'GEX_n_genes', 'GEX_size_factors', 'GEX_phase', 'GEX_pseudotime_order', 'ATAC_nCount_peaks', 'ATAC_atac_fragments', 'ATAC_reads_in_peaks_frac', 'ATAC_pseudotime_order', 'DonorID', 'VendorLot', 'DonorAge', 'DonorBMI', 'DonorBloodType', 'DonorRace', 'Ethnicity', 'DonorGender', 'QCMeds', 'DonorSmoker', 'modality', 'site', 'donor', 'batch', 'l1_cell_type', 'l2_cell_type', 'neurips21_cell_type', 'frag_file_bcs', 'sample', 'barcode'\n",
       "    uns: 'reference_sequences'\n",
       "    obsm: 'fragment_paired'"
      ]
     },
     "execution_count": 82,
     "metadata": {},
     "output_type": "execute_result"
    }
   ],
   "source": [
    "adata_cov "
   ]
  },
  {
   "cell_type": "code",
   "execution_count": 83,
   "id": "2bb7a0cf-76fe-433f-8fe7-1ea5c9b11d65",
   "metadata": {
    "tags": []
   },
   "outputs": [],
   "source": [
    "# From scprinter!\n",
    "from scipy.sparse import csr_matrix\n",
    "import numpy as np\n",
    "def frags_to_insertions(data, split=False):\n",
    "    x = data.obsm[\"fragment_paired\"]\n",
    "    insertion = csr_matrix(\n",
    "        (\n",
    "            np.ones(len(x.indices) * 2, dtype=\"uint16\"),\n",
    "            np.stack([x.indices, x.indices + x.data], axis=-1).reshape((-1)),\n",
    "            x.indptr * 2,\n",
    "        ),\n",
    "        shape=x.shape,\n",
    "    )\n",
    "    insertion.sort_indices()\n",
    "    insertion.sum_duplicates()\n",
    "    if split:\n",
    "        indx = list(\n",
    "            np.cumsum(data.uns[\"reference_sequences\"][\"reference_seq_length\"]).astype(\"int\")\n",
    "        )\n",
    "        start = [0] + indx\n",
    "        end = indx\n",
    "        for chrom, start, end in zip(\n",
    "            data.uns[\"reference_sequences\"][\"reference_seq_name\"], start, end\n",
    "        ):\n",
    "            data.obsm[\"insertion_%s\" % chrom] = insertion[:, start:end].tocsc()\n",
    "\n",
    "    else:\n",
    "        data.obsm[\"insertion\"] = insertion\n",
    "    # data.obsm['insertion'] = insertion\n",
    "    return data"
   ]
  },
  {
   "cell_type": "code",
   "execution_count": null,
   "id": "0569b1ea-544b-44f9-89ab-33a038b88d5f",
   "metadata": {},
   "outputs": [],
   "source": []
  },
  {
   "cell_type": "code",
   "execution_count": 84,
   "id": "66b9d991-cb17-48f7-abde-50993e4e9488",
   "metadata": {
    "tags": []
   },
   "outputs": [],
   "source": [
    "adata_cov = frags_to_insertions(adata_cov)"
   ]
  },
  {
   "cell_type": "code",
   "execution_count": 85,
   "id": "ca4306e7-86a6-4041-8a34-6e6468af3db2",
   "metadata": {
    "tags": []
   },
   "outputs": [],
   "source": [
    "adata_cov.X = scipy.sparse.csr_matrix((adata_cov.obsm['insertion'].shape[0], 0))"
   ]
  },
  {
   "cell_type": "code",
   "execution_count": 86,
   "id": "505188d1-9780-471d-91f2-bc8fdaac9909",
   "metadata": {
    "tags": []
   },
   "outputs": [
    {
     "data": {
      "text/plain": [
       "<69247x3088269832 sparse matrix of type '<class 'numpy.uint32'>'\n",
       "\twith 887087404 stored elements in Compressed Sparse Row format>"
      ]
     },
     "execution_count": 86,
     "metadata": {},
     "output_type": "execute_result"
    }
   ],
   "source": [
    "adata_cov.obsm.pop('fragment_paired')"
   ]
  },
  {
   "cell_type": "code",
   "execution_count": 87,
   "id": "d5484033-5291-44fd-b266-f7ea3f6f8926",
   "metadata": {
    "tags": []
   },
   "outputs": [],
   "source": [
    "adata_cov.write(os.path.join(data_path, 'snapatac', 'anndata', 'snapatac_merged_atac.h5ad'))"
   ]
  },
  {
   "cell_type": "markdown",
   "id": "f67702a5-198a-4e2c-aead-9945c9309119",
   "metadata": {},
   "source": [
    "## Filter out doublets and other myeloids"
   ]
  },
  {
   "cell_type": "code",
   "execution_count": 24,
   "id": "495922c2-ba0f-4031-b8c6-44516c49df5e",
   "metadata": {},
   "outputs": [],
   "source": [
    "import scanpy as sc\n",
    "import os\n",
    "import numpy as np\n",
    "import snapatac2 as sp"
   ]
  },
  {
   "cell_type": "code",
   "execution_count": 7,
   "id": "f800853f-5691-4bfa-82cd-4abc9c9c29a6",
   "metadata": {},
   "outputs": [],
   "source": [
    "data_path = '/s/project/QNA/scborzoi/neurips_bone_marrow'"
   ]
  },
  {
   "cell_type": "code",
   "execution_count": 8,
   "id": "5d97ef71-11b3-4e38-968d-e907e390ec8b",
   "metadata": {},
   "outputs": [
    {
     "name": "stderr",
     "output_type": "stream",
     "text": [
      "/opt/modules/i12g/anaconda/envs/scprinter_env/lib/python3.10/site-packages/anndata/__init__.py:55: FutureWarning: `anndata.read` is deprecated, use `anndata.read_h5ad` instead. `ad.read` will be removed in mid 2024.\n",
      "  warnings.warn(\n"
     ]
    }
   ],
   "source": [
    "adata = sc.read(\n",
    "    os.path.join(data_path, 'bmmc_multiome_multivi_neurips21_curated_new_palantir_fixed.h5ad'), \n",
    "    backed='r')"
   ]
  },
  {
   "cell_type": "code",
   "execution_count": 13,
   "id": "2b5b5091-b4ee-47e4-bcd1-adc316d6847d",
   "metadata": {},
   "outputs": [
    {
     "name": "stdout",
     "output_type": "stream",
     "text": [
      "plus\n"
     ]
    },
    {
     "name": "stderr",
     "output_type": "stream",
     "text": [
      "/opt/modules/i12g/anaconda/envs/scprinter_env/lib/python3.10/site-packages/anndata/__init__.py:55: FutureWarning: `anndata.read` is deprecated, use `anndata.read_h5ad` instead. `ad.read` will be removed in mid 2024.\n",
      "  warnings.warn(\n",
      "/opt/modules/i12g/anaconda/envs/scprinter_env/lib/python3.10/site-packages/anndata/_core/aligned_df.py:67: ImplicitModificationWarning: Transforming to str index.\n",
      "  warnings.warn(\"Transforming to str index.\", ImplicitModificationWarning)\n"
     ]
    },
    {
     "name": "stdout",
     "output_type": "stream",
     "text": [
      "(63683, 0)\n",
      "minus\n"
     ]
    },
    {
     "name": "stderr",
     "output_type": "stream",
     "text": [
      "/opt/modules/i12g/anaconda/envs/scprinter_env/lib/python3.10/site-packages/anndata/__init__.py:55: FutureWarning: `anndata.read` is deprecated, use `anndata.read_h5ad` instead. `ad.read` will be removed in mid 2024.\n",
      "  warnings.warn(\n",
      "/opt/modules/i12g/anaconda/envs/scprinter_env/lib/python3.10/site-packages/anndata/_core/aligned_df.py:67: ImplicitModificationWarning: Transforming to str index.\n",
      "  warnings.warn(\"Transforming to str index.\", ImplicitModificationWarning)\n"
     ]
    },
    {
     "name": "stdout",
     "output_type": "stream",
     "text": [
      "(63683, 0)\n",
      "atac\n"
     ]
    },
    {
     "name": "stderr",
     "output_type": "stream",
     "text": [
      "/opt/modules/i12g/anaconda/envs/scprinter_env/lib/python3.10/site-packages/anndata/__init__.py:55: FutureWarning: `anndata.read` is deprecated, use `anndata.read_h5ad` instead. `ad.read` will be removed in mid 2024.\n",
      "  warnings.warn(\n",
      "/opt/modules/i12g/anaconda/envs/scprinter_env/lib/python3.10/site-packages/anndata/_core/aligned_df.py:67: ImplicitModificationWarning: Transforming to str index.\n",
      "  warnings.warn(\"Transforming to str index.\", ImplicitModificationWarning)\n"
     ]
    },
    {
     "name": "stdout",
     "output_type": "stream",
     "text": [
      "(63683, 0)\n"
     ]
    }
   ],
   "source": [
    "for name in ['plus', 'minus', 'atac']:\n",
    "    print(name)\n",
    "    snap = sc.read(os.path.join(data_path, 'snapatac', 'anndata', f'snapatac_merged_{name}.h5ad'))\n",
    "    snap = snap[adata.obs_names]\n",
    "    print(snap.shape)\n",
    "    snap.write(os.path.join(data_path, 'snapatac', 'anndata', f'snapatac_merged_fixed_{name}.h5ad'))"
   ]
  },
  {
   "cell_type": "code",
   "execution_count": 9,
   "id": "c5428a22-6b00-413e-b50c-df6b339dcdc3",
   "metadata": {},
   "outputs": [
    {
     "name": "stderr",
     "output_type": "stream",
     "text": [
      "/opt/modules/i12g/anaconda/envs/scprinter_env/lib/python3.10/site-packages/anndata/__init__.py:55: FutureWarning: `anndata.read` is deprecated, use `anndata.read_h5ad` instead. `ad.read` will be removed in mid 2024.\n",
      "  warnings.warn(\n",
      "/opt/modules/i12g/anaconda/envs/scprinter_env/lib/python3.10/site-packages/anndata/_core/aligned_df.py:67: ImplicitModificationWarning: Transforming to str index.\n",
      "  warnings.warn(\"Transforming to str index.\", ImplicitModificationWarning)\n"
     ]
    }
   ],
   "source": [
    "adata_minus = sc.read(os.path.join(data_path, 'snapatac', 'anndata', 'snapatac_merged_minus.h5ad'))"
   ]
  },
  {
   "cell_type": "markdown",
   "id": "95142aea-4e1a-4a6b-9a14-31c8a29a723f",
   "metadata": {},
   "source": [
    "### Write out pseudobulk coverage atac"
   ]
  },
  {
   "cell_type": "code",
   "execution_count": 4,
   "id": "e9d5414f-f035-42a6-84a2-684074cb9889",
   "metadata": {},
   "outputs": [
    {
     "name": "stderr",
     "output_type": "stream",
     "text": [
      "/opt/modules/i12g/anaconda/envs/scprinter_env/lib/python3.10/site-packages/anndata/__init__.py:55: FutureWarning: `anndata.read` is deprecated, use `anndata.read_h5ad` instead. `ad.read` will be removed in mid 2024.\n",
      "  warnings.warn(\n",
      "/opt/modules/i12g/anaconda/envs/scprinter_env/lib/python3.10/site-packages/anndata/_core/aligned_df.py:67: ImplicitModificationWarning: Transforming to str index.\n",
      "  warnings.warn(\"Transforming to str index.\", ImplicitModificationWarning)\n"
     ]
    }
   ],
   "source": [
    "adata_cov = sc.read(os.path.join(data_path, 'snapatac', 'anndata', 'snapatac_merged_fixed_atac.h5ad'))"
   ]
  },
  {
   "cell_type": "code",
   "execution_count": 6,
   "id": "f80fe9a8-befb-4f73-8533-caf26597d2b5",
   "metadata": {
    "tags": []
   },
   "outputs": [],
   "source": [
    "adata_cov.obsm['fragment_single'] = adata_cov.obsm['insertion']"
   ]
  },
  {
   "cell_type": "code",
   "execution_count": 7,
   "id": "d1108442-02c2-4486-9f3a-f5ea037b4bfe",
   "metadata": {
    "tags": []
   },
   "outputs": [],
   "source": [
    "adata_cov.obsm['fragment_single'].data = np.ones(adata_cov.obsm['fragment_single'].data.shape, dtype=np.int32)"
   ]
  },
  {
   "cell_type": "code",
   "execution_count": null,
   "id": "ef2a1ca1-9734-4599-949d-30cbd1415a9a",
   "metadata": {
    "tags": []
   },
   "outputs": [
    {
     "name": "stderr",
     "output_type": "stream",
     "text": [
      "2024-07-12 18:19:17 - INFO - Exporting fragments...\n"
     ]
    }
   ],
   "source": [
    "sp.ex.export_coverage(\n",
    "            adata_cov, \n",
    "            groupby='l2_cell_type', \n",
    "            bin_size=1, \n",
    "            out_dir=os.path.join(data_path, 'snapatac',f\"pseudobulks_fixed\"), \n",
    "            normalization=None,\n",
    "            n_jobs=-1,\n",
    "            max_frag_length=None,\n",
    "            suffix=f'.bw',\n",
    "            prefix=f\"atac.\"\n",
    "        )"
   ]
  },
  {
   "cell_type": "markdown",
   "id": "760a90c5-bdcb-426b-b7b4-b50fa845baad",
   "metadata": {},
   "source": [
    "### Write pseudobulks RNA"
   ]
  },
  {
   "cell_type": "code",
   "execution_count": null,
   "id": "88431f02-a5b8-430b-96ca-03a92cee5857",
   "metadata": {
    "tags": []
   },
   "outputs": [],
   "source": [
    "for strand in ['plus', 'minus']:\n",
    "    adata_cov = sc.read(os.path.join(data_path, 'snapatac', 'anndata', f'snapatac_merged_fixed_{strand}.h5ad'))\n",
    "    sp.ex.export_coverage(\n",
    "        adata_cov, \n",
    "        groupby='l2_cell_type', \n",
    "        bin_size=1, \n",
    "        out_dir=os.path.join(data_path, 'snapatac',\"pseudobulks_fixed\"), \n",
    "        normalization=None,\n",
    "        n_jobs=-1,\n",
    "        max_frag_length=None,\n",
    "        suffix='.bw',\n",
    "        prefix=f\"{strand}.\"\n",
    "    )"
   ]
  }
 ],
 "metadata": {
  "kernelspec": {
   "display_name": "Python [conda env:anaconda-scooby_reproducibility]",
   "language": "python",
   "name": "conda-env-anaconda-scooby_reproducibility-py"
  },
  "language_info": {
   "codemirror_mode": {
    "name": "ipython",
    "version": 3
   },
   "file_extension": ".py",
   "mimetype": "text/x-python",
   "name": "python",
   "nbconvert_exporter": "python",
   "pygments_lexer": "ipython3",
   "version": "3.9.19"
  }
 },
 "nbformat": 4,
 "nbformat_minor": 5
}
