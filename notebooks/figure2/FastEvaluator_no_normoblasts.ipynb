{
 "cells": [
  {
   "cell_type": "markdown",
   "id": "e037f270-d42e-41fd-94ca-8c4f9d144396",
   "metadata": {},
   "source": [
    "# General Imports"
   ]
  },
  {
   "cell_type": "code",
   "execution_count": 2,
   "id": "1a17cdad-6e32-4033-8a6e-9ae18c9027f5",
   "metadata": {
    "tags": []
   },
   "outputs": [],
   "source": [
    "%load_ext autoreload\n",
    "%autoreload 2"
   ]
  },
  {
   "cell_type": "code",
   "execution_count": 3,
   "id": "5e00ed61-071f-4938-bcec-c17764083bea",
   "metadata": {
    "editable": true,
    "slideshow": {
     "slide_type": ""
    },
    "tags": []
   },
   "outputs": [],
   "source": [
    "import os\n",
    "\n",
    "import numpy as np\n",
    "import pandas as pd\n",
    "import scipy\n",
    "import torch\n",
    "import tqdm\n",
    "from accelerate import Accelerator\n",
    "import polars as pl\n",
    "import scanpy as sc\n",
    "\n",
    "from torch.utils.data import DataLoader\n",
    "\n",
    "from enformer_pytorch.data import GenomeIntervalDataset\n",
    "\n",
    "from scooby.modeling import Scooby\n",
    "from scooby.data import onTheFlyDataset, onTheFlyPseudobulkDataset\n",
    "from scooby.utils.utils import fix_rev_comp_multiome, undo_squashed_scale, get_pseudobulk_count_pred,get_gene_slice_and_strand, get_cell_count_pred\n",
    "from scooby.utils.transcriptome import Transcriptome"
   ]
  },
  {
   "cell_type": "code",
   "execution_count": 4,
   "id": "b06b888c-9302-4337-a8df-23d3fc614f2d",
   "metadata": {},
   "outputs": [],
   "source": [
    "data_path = '/data/ceph/hdd/project/node_08/QNA/scborzoi/submission_data'"
   ]
  },
  {
   "cell_type": "markdown",
   "id": "1c425106-369e-481e-9812-df054e5f13bd",
   "metadata": {},
   "source": [
    "# scDog"
   ]
  },
  {
   "cell_type": "markdown",
   "id": "66321c1c",
   "metadata": {},
   "source": [
    "### Functions for Pearson correlation"
   ]
  },
  {
   "cell_type": "code",
   "execution_count": 5,
   "id": "3792ec64-388a-4677-80d3-2b6624ad5da2",
   "metadata": {
    "tags": []
   },
   "outputs": [],
   "source": [
    "def stack_and_pearson(x,y):\n",
    "    return torch.corrcoef(torch.stack([x,y]))[0,1]\n",
    "batched_pearson = torch.vmap(stack_and_pearson, chunk_size=1)\n",
    "\n",
    "def predict(model, seqs, seqs_rev_comp, conv_weights, conv_biases, bins_to_predict = None):\n",
    "    bs = seqs.shape[0]\n",
    "    assert bs == 1\n",
    "    with torch.no_grad():\n",
    "        with torch.autocast(\"cuda\"):\n",
    "            outputs = model.forward_sequence_w_convs(seqs, conv_weights, conv_biases, bins_to_predict = bins_to_predict)\n",
    "            if bins_to_predict is not None:\n",
    "                outputs_rev_comp = model.forward_sequence_w_convs(seqs_rev_comp, conv_weights, conv_biases, bins_to_predict = (6143 - bins_to_predict))\n",
    "            else:\n",
    "                outputs_rev_comp = model.forward_sequence_w_convs(seqs_rev_comp, conv_weights, conv_biases, bins_to_predict = None)\n",
    "    flipped_version = torch.flip(outputs_rev_comp,(1,-3))\n",
    "    outputs_rev_comp = fix_rev_comp_multiome(flipped_version) #fix_rev_comp2(flipped_version)\n",
    "    #outputs_rev_comp = fix_rev_comp2(flipped_version) #fix_rev_comp2(flipped_version)\n",
    "    return (outputs + outputs_rev_comp)/2"
   ]
  },
  {
   "cell_type": "markdown",
   "id": "08c1bce3-9b80-47cb-bffc-3ece38d69823",
   "metadata": {},
   "source": [
    "### Load the model"
   ]
  },
  {
   "cell_type": "code",
   "execution_count": 6,
   "id": "428b82f8-054b-4178-acc9-59f7458e1514",
   "metadata": {
    "tags": []
   },
   "outputs": [
    {
     "name": "stderr",
     "output_type": "stream",
     "text": [
      "Detected kernel version 4.18.0, which is below the recommended minimum of 5.5.0; this can cause the process to hang. It is recommended to upgrade the kernel to the minimum version or higher.\n"
     ]
    }
   ],
   "source": [
    "accelerator = Accelerator(step_scheduler_with_optimizer = False)"
   ]
  },
  {
   "cell_type": "markdown",
   "id": "fea657a7-e044-4052-a36d-136e9e05c09e",
   "metadata": {},
   "source": [
    "#### Load pretrained scooby from the hub"
   ]
  },
  {
   "cell_type": "code",
   "execution_count": 7,
   "id": "d115b2e7-83ae-4f63-a035-7dddff1404b8",
   "metadata": {},
   "outputs": [],
   "source": [
    "csb = Scooby.from_pretrained(\n",
    "    '/s/project/QNA/borzoi_saved_models/neurips-scooby-no-normoblast',\n",
    "    cell_emb_dim=14,\n",
    "    embedding_dim=1920,\n",
    "    n_tracks=3,\n",
    "    return_center_bins_only=True,\n",
    "    disable_cache=False,\n",
    "    use_transform_borzoi_emb=True,\n",
    ")"
   ]
  },
  {
   "cell_type": "code",
   "execution_count": 8,
   "id": "13f205a5-e0bf-437b-a5be-38f7cf46fe68",
   "metadata": {
    "tags": []
   },
   "outputs": [],
   "source": [
    "clip_soft = 5"
   ]
  },
  {
   "cell_type": "code",
   "execution_count": 9,
   "id": "5849e9da-3026-4b9a-9a78-993174cc4f26",
   "metadata": {},
   "outputs": [],
   "source": [
    "csb = accelerator.prepare(csb)"
   ]
  },
  {
   "cell_type": "code",
   "execution_count": 10,
   "id": "a6483822-606e-4e1d-ad7f-ae15a40b0e77",
   "metadata": {
    "tags": []
   },
   "outputs": [],
   "source": [
    "context_length  = 524288"
   ]
  },
  {
   "cell_type": "markdown",
   "id": "3361e8e9",
   "metadata": {},
   "source": [
    "### Specify genome"
   ]
  },
  {
   "cell_type": "code",
   "execution_count": 11,
   "id": "96a95e9b",
   "metadata": {
    "tags": []
   },
   "outputs": [],
   "source": [
    "gtf_file = os.path.join(data_path, \"gencode.v32.annotation.sorted.gtf.gz\")\n",
    "fasta_file = os.path.join(data_path, \"scooby_training_data\", \"genome_human.fa\")\n",
    "bed_file = os.path.join(data_path, \"scooby_training_data\", \"sequences.bed\")"
   ]
  },
  {
   "cell_type": "markdown",
   "id": "34fc346f",
   "metadata": {},
   "source": [
    "### Load neighbors and embedding"
   ]
  },
  {
   "cell_type": "code",
   "execution_count": 12,
   "id": "880de160",
   "metadata": {
    "tags": []
   },
   "outputs": [],
   "source": [
    "base_path = os.path.join(data_path, 'scooby_training_data', 'pseudobulks')"
   ]
  },
  {
   "cell_type": "code",
   "execution_count": 13,
   "id": "1737b2b4-129a-4436-8977-73e2b8cc2cb4",
   "metadata": {},
   "outputs": [
    {
     "data": {
      "text/plain": [
       "'/data/ceph/hdd/project/node_08/QNA/scborzoi/submission_data/scooby_training_data/pseudobulks'"
      ]
     },
     "execution_count": 13,
     "metadata": {},
     "output_type": "execute_result"
    }
   ],
   "source": [
    "base_path"
   ]
  },
  {
   "cell_type": "code",
   "execution_count": 15,
   "id": "935eab00",
   "metadata": {
    "editable": true,
    "slideshow": {
     "slide_type": ""
    },
    "tags": []
   },
   "outputs": [],
   "source": [
    "neighbors = scipy.sparse.load_npz(os.path.join(data_path, 'scooby_training_data', 'no_neighbors.npz'))\n",
    "embedding = pd.read_parquet(os.path.join(data_path, 'scooby_training_data',  'embedding_no_val_genes_no_normoblast.pq'))"
   ]
  },
  {
   "cell_type": "code",
   "execution_count": 16,
   "id": "d6fe2df5-8186-4acd-8925-5e05c9d553d7",
   "metadata": {
    "tags": []
   },
   "outputs": [],
   "source": [
    "cell_type_index = pd.read_parquet(os.path.join(data_path,  'scooby_training_data', 'celltype_fixed.pq'))\n",
    "cell_type_index['size'] = cell_type_index['cellindex'].apply(lambda x: len(x))"
   ]
  },
  {
   "cell_type": "code",
   "execution_count": 17,
   "id": "39313064-f982-4542-b3a1-bd3293e8285c",
   "metadata": {
    "tags": []
   },
   "outputs": [],
   "source": [
    "cell_type_index['celltype'] = cell_type_index['celltype'].str.replace(' ', '_').replace(r\"G/M_prog\", \"G+M_prog\").replace(\"MK/E_prog\", \"MK+E_prog\") #+ '_filtered'\n",
    "cell_type_index = cell_type_index.sort_values('celltype')"
   ]
  },
  {
   "cell_type": "code",
   "execution_count": 18,
   "id": "065ab7fc-dd1c-449a-8d12-310d0285f142",
   "metadata": {},
   "outputs": [],
   "source": [
    "cell_type_index = cell_type_index.reset_index()"
   ]
  },
  {
   "cell_type": "code",
   "execution_count": 19,
   "id": "79d63565-a736-47bf-9a2f-e1906b3e14e2",
   "metadata": {},
   "outputs": [
    {
     "data": {
      "text/html": [
       "<div>\n",
       "<style scoped>\n",
       "    .dataframe tbody tr th:only-of-type {\n",
       "        vertical-align: middle;\n",
       "    }\n",
       "\n",
       "    .dataframe tbody tr th {\n",
       "        vertical-align: top;\n",
       "    }\n",
       "\n",
       "    .dataframe thead th {\n",
       "        text-align: right;\n",
       "    }\n",
       "</style>\n",
       "<table border=\"1\" class=\"dataframe\">\n",
       "  <thead>\n",
       "    <tr style=\"text-align: right;\">\n",
       "      <th></th>\n",
       "      <th>index</th>\n",
       "      <th>celltype</th>\n",
       "      <th>cellindex</th>\n",
       "      <th>size</th>\n",
       "    </tr>\n",
       "  </thead>\n",
       "  <tbody>\n",
       "    <tr>\n",
       "      <th>0</th>\n",
       "      <td>4</td>\n",
       "      <td>B1_B</td>\n",
       "      <td>[5, 9, 20, 32, 112, 128, 151, 265, 294, 360, 3...</td>\n",
       "      <td>1747</td>\n",
       "    </tr>\n",
       "    <tr>\n",
       "      <th>1</th>\n",
       "      <td>1</td>\n",
       "      <td>CD14+_Mono</td>\n",
       "      <td>[1, 11, 13, 19, 30, 38, 49, 50, 51, 58, 62, 64...</td>\n",
       "      <td>10338</td>\n",
       "    </tr>\n",
       "    <tr>\n",
       "      <th>2</th>\n",
       "      <td>3</td>\n",
       "      <td>CD16+_Mono</td>\n",
       "      <td>[4, 17, 94, 315, 329, 370, 698, 709, 928, 936,...</td>\n",
       "      <td>1762</td>\n",
       "    </tr>\n",
       "    <tr>\n",
       "      <th>3</th>\n",
       "      <td>7</td>\n",
       "      <td>CD4+_T_activated</td>\n",
       "      <td>[8, 24, 28, 40, 45, 48, 55, 63, 68, 75, 76, 82...</td>\n",
       "      <td>5157</td>\n",
       "    </tr>\n",
       "    <tr>\n",
       "      <th>4</th>\n",
       "      <td>6</td>\n",
       "      <td>CD4+_T_naive</td>\n",
       "      <td>[7, 44, 47, 54, 56, 59, 88, 116, 123, 132, 140...</td>\n",
       "      <td>4170</td>\n",
       "    </tr>\n",
       "    <tr>\n",
       "      <th>5</th>\n",
       "      <td>2</td>\n",
       "      <td>CD8+_T_activated</td>\n",
       "      <td>[2, 3, 33, 35, 36, 41, 46, 67, 77, 84, 95, 103...</td>\n",
       "      <td>10846</td>\n",
       "    </tr>\n",
       "    <tr>\n",
       "      <th>6</th>\n",
       "      <td>20</td>\n",
       "      <td>CD8+_T_naive</td>\n",
       "      <td>[11622, 11660, 11682, 11753, 11795, 11806, 119...</td>\n",
       "      <td>984</td>\n",
       "    </tr>\n",
       "    <tr>\n",
       "      <th>7</th>\n",
       "      <td>5</td>\n",
       "      <td>Early_Lymphoid</td>\n",
       "      <td>[6, 298, 434, 677, 751, 757, 851, 987, 1090, 1...</td>\n",
       "      <td>1410</td>\n",
       "    </tr>\n",
       "    <tr>\n",
       "      <th>8</th>\n",
       "      <td>8</td>\n",
       "      <td>Erythroblast</td>\n",
       "      <td>[10, 12, 14, 26, 31, 34, 43, 53, 69, 71, 79, 8...</td>\n",
       "      <td>4544</td>\n",
       "    </tr>\n",
       "    <tr>\n",
       "      <th>9</th>\n",
       "      <td>13</td>\n",
       "      <td>G+M_prog</td>\n",
       "      <td>[91, 193, 199, 228, 288, 307, 389, 602, 621, 6...</td>\n",
       "      <td>1025</td>\n",
       "    </tr>\n",
       "    <tr>\n",
       "      <th>10</th>\n",
       "      <td>15</td>\n",
       "      <td>HSC</td>\n",
       "      <td>[105, 171, 257, 396, 507, 523, 590, 858, 1006,...</td>\n",
       "      <td>939</td>\n",
       "    </tr>\n",
       "    <tr>\n",
       "      <th>11</th>\n",
       "      <td>12</td>\n",
       "      <td>ILC</td>\n",
       "      <td>[27, 72, 111, 115, 133, 299, 327, 408, 485, 53...</td>\n",
       "      <td>776</td>\n",
       "    </tr>\n",
       "    <tr>\n",
       "      <th>12</th>\n",
       "      <td>14</td>\n",
       "      <td>MK+E_prog</td>\n",
       "      <td>[100, 237, 242, 588, 819, 842, 907, 926, 943, ...</td>\n",
       "      <td>755</td>\n",
       "    </tr>\n",
       "    <tr>\n",
       "      <th>13</th>\n",
       "      <td>9</td>\n",
       "      <td>NK</td>\n",
       "      <td>[15, 22, 25, 29, 37, 65, 66, 74, 78, 102, 130,...</td>\n",
       "      <td>6560</td>\n",
       "    </tr>\n",
       "    <tr>\n",
       "      <th>14</th>\n",
       "      <td>0</td>\n",
       "      <td>Naive_CD20+_B</td>\n",
       "      <td>[0, 21, 60, 73, 101, 129, 147, 155, 186, 194, ...</td>\n",
       "      <td>4758</td>\n",
       "    </tr>\n",
       "    <tr>\n",
       "      <th>15</th>\n",
       "      <td>11</td>\n",
       "      <td>Normoblast</td>\n",
       "      <td>[18, 23, 39, 42, 52, 57, 61, 81, 92, 96, 121, ...</td>\n",
       "      <td>1711</td>\n",
       "    </tr>\n",
       "    <tr>\n",
       "      <th>16</th>\n",
       "      <td>17</td>\n",
       "      <td>Plasma</td>\n",
       "      <td>[249, 255, 351, 364, 532, 904, 1014, 1043, 147...</td>\n",
       "      <td>245</td>\n",
       "    </tr>\n",
       "    <tr>\n",
       "      <th>17</th>\n",
       "      <td>18</td>\n",
       "      <td>Proerythroblast</td>\n",
       "      <td>[262, 429, 469, 551, 659, 718, 781, 855, 1070,...</td>\n",
       "      <td>1817</td>\n",
       "    </tr>\n",
       "    <tr>\n",
       "      <th>18</th>\n",
       "      <td>10</td>\n",
       "      <td>Transitional_B</td>\n",
       "      <td>[16, 87, 160, 188, 238, 251, 323, 356, 397, 48...</td>\n",
       "      <td>2570</td>\n",
       "    </tr>\n",
       "    <tr>\n",
       "      <th>19</th>\n",
       "      <td>19</td>\n",
       "      <td>cDC2</td>\n",
       "      <td>[479, 737, 787, 864, 1107, 1112, 1481, 1593, 1...</td>\n",
       "      <td>623</td>\n",
       "    </tr>\n",
       "    <tr>\n",
       "      <th>20</th>\n",
       "      <td>16</td>\n",
       "      <td>pDC</td>\n",
       "      <td>[113, 221, 264, 510, 662, 678, 759, 989, 995, ...</td>\n",
       "      <td>946</td>\n",
       "    </tr>\n",
       "  </tbody>\n",
       "</table>\n",
       "</div>"
      ],
      "text/plain": [
       "    index          celltype  \\\n",
       "0       4              B1_B   \n",
       "1       1        CD14+_Mono   \n",
       "2       3        CD16+_Mono   \n",
       "3       7  CD4+_T_activated   \n",
       "4       6      CD4+_T_naive   \n",
       "5       2  CD8+_T_activated   \n",
       "6      20      CD8+_T_naive   \n",
       "7       5    Early_Lymphoid   \n",
       "8       8      Erythroblast   \n",
       "9      13          G+M_prog   \n",
       "10     15               HSC   \n",
       "11     12               ILC   \n",
       "12     14         MK+E_prog   \n",
       "13      9                NK   \n",
       "14      0     Naive_CD20+_B   \n",
       "15     11        Normoblast   \n",
       "16     17            Plasma   \n",
       "17     18   Proerythroblast   \n",
       "18     10    Transitional_B   \n",
       "19     19              cDC2   \n",
       "20     16               pDC   \n",
       "\n",
       "                                            cellindex   size  \n",
       "0   [5, 9, 20, 32, 112, 128, 151, 265, 294, 360, 3...   1747  \n",
       "1   [1, 11, 13, 19, 30, 38, 49, 50, 51, 58, 62, 64...  10338  \n",
       "2   [4, 17, 94, 315, 329, 370, 698, 709, 928, 936,...   1762  \n",
       "3   [8, 24, 28, 40, 45, 48, 55, 63, 68, 75, 76, 82...   5157  \n",
       "4   [7, 44, 47, 54, 56, 59, 88, 116, 123, 132, 140...   4170  \n",
       "5   [2, 3, 33, 35, 36, 41, 46, 67, 77, 84, 95, 103...  10846  \n",
       "6   [11622, 11660, 11682, 11753, 11795, 11806, 119...    984  \n",
       "7   [6, 298, 434, 677, 751, 757, 851, 987, 1090, 1...   1410  \n",
       "8   [10, 12, 14, 26, 31, 34, 43, 53, 69, 71, 79, 8...   4544  \n",
       "9   [91, 193, 199, 228, 288, 307, 389, 602, 621, 6...   1025  \n",
       "10  [105, 171, 257, 396, 507, 523, 590, 858, 1006,...    939  \n",
       "11  [27, 72, 111, 115, 133, 299, 327, 408, 485, 53...    776  \n",
       "12  [100, 237, 242, 588, 819, 842, 907, 926, 943, ...    755  \n",
       "13  [15, 22, 25, 29, 37, 65, 66, 74, 78, 102, 130,...   6560  \n",
       "14  [0, 21, 60, 73, 101, 129, 147, 155, 186, 194, ...   4758  \n",
       "15  [18, 23, 39, 42, 52, 57, 61, 81, 92, 96, 121, ...   1711  \n",
       "16  [249, 255, 351, 364, 532, 904, 1014, 1043, 147...    245  \n",
       "17  [262, 429, 469, 551, 659, 718, 781, 855, 1070,...   1817  \n",
       "18  [16, 87, 160, 188, 238, 251, 323, 356, 397, 48...   2570  \n",
       "19  [479, 737, 787, 864, 1107, 1112, 1481, 1593, 1...    623  \n",
       "20  [113, 221, 264, 510, 662, 678, 759, 989, 995, ...    946  "
      ]
     },
     "execution_count": 19,
     "metadata": {},
     "output_type": "execute_result"
    }
   ],
   "source": [
    "cell_type_index"
   ]
  },
  {
   "cell_type": "markdown",
   "id": "8fe4caae-404f-49eb-b42b-b618c467239c",
   "metadata": {
    "editable": true,
    "slideshow": {
     "slide_type": ""
    },
    "tags": []
   },
   "source": [
    "## Eval on Test"
   ]
  },
  {
   "cell_type": "markdown",
   "id": "d3288ac9",
   "metadata": {},
   "source": [
    "### Sequence dataloader "
   ]
  },
  {
   "cell_type": "markdown",
   "id": "807a1161",
   "metadata": {},
   "source": [
    "This only loads the sequences in the right order"
   ]
  },
  {
   "cell_type": "code",
   "execution_count": 20,
   "id": "1f4aae4b-5839-4e3d-ae25-f42afa2829ee",
   "metadata": {
    "tags": []
   },
   "outputs": [],
   "source": [
    "transcriptome = Transcriptome(gtf_file)"
   ]
  },
  {
   "cell_type": "code",
   "execution_count": 22,
   "id": "e999df94-2164-4271-a45e-5a29c1495b4e",
   "metadata": {
    "editable": true,
    "slideshow": {
     "slide_type": ""
    },
    "tags": []
   },
   "outputs": [
    {
     "data": {
      "text/plain": [
       "417"
      ]
     },
     "execution_count": 22,
     "metadata": {},
     "output_type": "execute_result"
    }
   ],
   "source": [
    "filter_val = lambda df: df.filter(True)#\n",
    "val_ds = GenomeIntervalDataset(\n",
    "    bed_file = os.path.join(data_path,'scooby_training_data', 'test_gene_hv_sequences.csv'),\n",
    "    fasta_file = fasta_file,\n",
    "    filter_df_fn = lambda df: df.filter((pl.col('column_2') >=0)), \n",
    "    return_seq_indices = False,\n",
    "    shift_augs = (0,0),\n",
    "    rc_aug = False,\n",
    "    return_augs = True,\n",
    "    context_length = context_length,\n",
    "    chr_bed_to_fasta_map = {}\n",
    ")\n",
    "len(val_ds)"
   ]
  },
  {
   "cell_type": "code",
   "execution_count": 23,
   "id": "71736343-42dc-4b13-b0da-162ad5249823",
   "metadata": {
    "tags": []
   },
   "outputs": [
    {
     "data": {
      "text/plain": [
       "5"
      ]
     },
     "execution_count": 23,
     "metadata": {},
     "output_type": "execute_result"
    }
   ],
   "source": [
    "val_dataset = onTheFlyDataset(\n",
    "    None,\n",
    "    None,\n",
    "    neighbors,\n",
    "    embedding,\n",
    "    val_ds,\n",
    "    get_targets= False,\n",
    "    random_cells = False,\n",
    "    cells_to_run = None, \n",
    "    clip_soft = clip_soft,\n",
    "    )\n",
    "val_loader = DataLoader(val_dataset, batch_size=1, shuffle = False, num_workers = 1)\n",
    "csb, val_loader = accelerator.prepare(csb, val_loader)\n",
    "clip_soft"
   ]
  },
  {
   "cell_type": "markdown",
   "id": "e6dd3798",
   "metadata": {},
   "source": [
    "### Target dataloader on bigwig pseudobulk files"
   ]
  },
  {
   "cell_type": "code",
   "execution_count": 24,
   "id": "3272f7d0-90ed-47bf-8ed7-fbc784ac03c0",
   "metadata": {
    "tags": []
   },
   "outputs": [],
   "source": [
    "val_dataset_targets = onTheFlyPseudobulkDataset(\n",
    "    cell_types = cell_type_index['celltype'].values,\n",
    "    ds = val_ds, \n",
    "    base_path = base_path,\n",
    ")"
   ]
  },
  {
   "cell_type": "markdown",
   "id": "15ddc19e",
   "metadata": {},
   "source": [
    "### Get cell conv_weights for all cells"
   ]
  },
  {
   "cell_type": "code",
   "execution_count": 25,
   "id": "3aff6db9-447f-42a9-b34a-6d37f9974b56",
   "metadata": {
    "editable": true,
    "slideshow": {
     "slide_type": ""
    },
    "tags": []
   },
   "outputs": [],
   "source": [
    "csb.eval()\n",
    "cell_indices  = []\n",
    "size_factors_per_ct = []\n",
    "for _, row in tqdm.tqdm(cell_type_index.iterrows(),disable = True):\n",
    "    cell_indices.append(\n",
    "        torch.from_numpy(\n",
    "            np.vstack(\n",
    "                embedding.iloc[row['cellindex']]['embedding'].values # gets embeddings of all cells of the cell type\n",
    "                )\n",
    "            ).unsqueeze(0)\n",
    "        ) # prep cell_embeddings\n",
    "\n",
    "# get conv weights and biases for all cells sorted by cell type in a list\n",
    "cell_emb_conv_weights_and_biases = []\n",
    "for cell_emb_idx in tqdm.tqdm(cell_indices, disable = True):\n",
    "    cell_emb_idx = cell_emb_idx.cuda()\n",
    "    conv_weights, conv_biases = csb.forward_cell_embs_only(cell_emb_idx)\n",
    "    cell_emb_conv_weights_and_biases.append((conv_weights, conv_biases))\n"
   ]
  },
  {
   "cell_type": "markdown",
   "id": "3892c28a",
   "metadata": {},
   "source": [
    "### Get counts over exons"
   ]
  },
  {
   "cell_type": "code",
   "execution_count": 26,
   "id": "ae5a22bb-bad8-4229-8f9d-11f6c5a4b6bd",
   "metadata": {},
   "outputs": [
    {
     "name": "stderr",
     "output_type": "stream",
     "text": [
      "100%|██████████| 417/417 [02:48<00:00,  2.47it/s]\n"
     ]
    }
   ],
   "source": [
    "#num_neighbors = 100\n",
    "num_neighbors = 1\n",
    "\n",
    "all_outputs, all_targets = [], []\n",
    "val_dataset_target_loader = iter(DataLoader(val_dataset_targets, batch_size=1, shuffle = False, num_workers = 4))\n",
    "\n",
    "# iterate over all val gene sequences\n",
    "for i,x in tqdm.tqdm(enumerate(val_loader), disable = False, total=len(val_dataset)):\n",
    "    gene_slice, strand = get_gene_slice_and_strand(transcriptome, val_dataset_targets.genome_ds.df[i, 'column_4'], val_dataset_targets.genome_ds.df[i, 'column_2'], span = False)\n",
    "    targets = (next(val_dataset_target_loader)[2]).float().cuda()\n",
    "    if len(gene_slice) == 0:\n",
    "        continue\n",
    "    \n",
    "    bs = x[0].shape[0]\n",
    "    seqs = x[0].cuda().permute(0,2,1)\n",
    "    stacked_outputs = []\n",
    "\n",
    "    stacked_outputs = get_pseudobulk_count_pred(\n",
    "        csb = csb, \n",
    "        seqs = seqs, \n",
    "        cell_emb_conv_weights_and_biases = cell_emb_conv_weights_and_biases, \n",
    "        gene_slice = gene_slice,\n",
    "        strand = strand, \n",
    "        model_type = \"multiome\",\n",
    "        predict = predict,  \n",
    "        clip_soft = clip_soft, \n",
    "        num_neighbors = 1\n",
    "    )\n",
    "    \n",
    "    temp_stack = []\n",
    "    all_outputs.append(stacked_outputs)\n",
    "    if strand == '+':\n",
    "        all_targets.append(undo_squashed_scale(targets[0, gene_slice, ::2], clip_soft=384).sum(axis=0).detach().clone().cpu().squeeze())\n",
    "    elif strand == '-':\n",
    "        all_targets.append(undo_squashed_scale(targets[0, gene_slice, 1::2], clip_soft=384).sum(axis=0).detach().clone().cpu().squeeze())\n",
    "    \n",
    "    \n",
    "all_outputs, all_targets = torch.vstack(all_outputs).clone().numpy(force=True),torch.vstack(all_targets).clone().numpy(force=True)"
   ]
  },
  {
   "cell_type": "code",
   "execution_count": 36,
   "id": "49a2f65d-ab71-480c-ae2e-db5c4de98f66",
   "metadata": {},
   "outputs": [],
   "source": [
    "torch.save(all_outputs, os.path.join(data_path, \"count_eval\", \"count_predicted_test_no_normoblast.pq\"))"
   ]
  },
  {
   "cell_type": "code",
   "execution_count": 38,
   "id": "7bc1aa0b-fbe8-4e8c-a55d-f3275a70702b",
   "metadata": {},
   "outputs": [
    {
     "data": {
      "text/plain": [
       "'/data/ceph/hdd/project/node_08/QNA/scborzoi/submission_data/count_eval/count_predicted_test_no_normoblast.pq'"
      ]
     },
     "execution_count": 38,
     "metadata": {},
     "output_type": "execute_result"
    }
   ],
   "source": [
    "os.path.join(data_path, \"count_eval\", \"count_predicted_test_no_normoblast.pq\")"
   ]
  },
  {
   "cell_type": "code",
   "execution_count": null,
   "id": "b7bc0336-a281-4648-99f4-815992fd3c7b",
   "metadata": {},
   "outputs": [],
   "source": []
  },
  {
   "cell_type": "code",
   "execution_count": 37,
   "id": "90b17046-27a2-4e56-9b9a-116269f76f99",
   "metadata": {},
   "outputs": [],
   "source": [
    "torch.save(all_targets, os.path.join(data_path, \"count_eval\", \"count_target_test_no_normoblast.pq\"))"
   ]
  }
 ],
 "metadata": {
  "kernelspec": {
   "display_name": "Python [conda env:anaconda-scooby_reproducibility]",
   "language": "python",
   "name": "conda-env-anaconda-scooby_reproducibility-py"
  },
  "language_info": {
   "codemirror_mode": {
    "name": "ipython",
    "version": 3
   },
   "file_extension": ".py",
   "mimetype": "text/x-python",
   "name": "python",
   "nbconvert_exporter": "python",
   "pygments_lexer": "ipython3",
   "version": "3.9.19"
  }
 },
 "nbformat": 4,
 "nbformat_minor": 5
}
