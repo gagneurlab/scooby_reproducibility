{
 "cells": [
  {
   "cell_type": "markdown",
   "id": "e037f270-d42e-41fd-94ca-8c4f9d144396",
   "metadata": {},
   "source": [
    "# General Imports"
   ]
  },
  {
   "cell_type": "code",
   "execution_count": 1,
   "id": "1a17cdad-6e32-4033-8a6e-9ae18c9027f5",
   "metadata": {
    "tags": []
   },
   "outputs": [],
   "source": [
    "%load_ext autoreload\n",
    "%autoreload 2"
   ]
  },
  {
   "cell_type": "code",
   "execution_count": 2,
   "id": "5e00ed61-071f-4938-bcec-c17764083bea",
   "metadata": {
    "editable": true,
    "slideshow": {
     "slide_type": ""
    },
    "tags": []
   },
   "outputs": [],
   "source": [
    "import os\n",
    "\n",
    "import numpy as np\n",
    "import pandas as pd\n",
    "import scipy\n",
    "import torch\n",
    "import tqdm\n",
    "from accelerate import Accelerator\n",
    "from peft import LoraConfig, get_peft_model\n",
    "\n",
    "from torch.utils.data import DataLoader\n",
    "\n",
    "from polya_project.data import GenomeIntervalDataset\n",
    "\n",
    "from utils.utils import fix_rev_comp_multiome, undo_squashed_scale, get_pseudobulk_count_pred,get_gene_slice_and_strand\n",
    "from modeling.scborzoi import ScBorzoi\n",
    "from data.scdata import onTheFlyDataset, onTheFlyPseudobulkDataset"
   ]
  },
  {
   "cell_type": "code",
   "execution_count": null,
   "id": "b06b888c-9302-4337-a8df-23d3fc614f2d",
   "metadata": {},
   "outputs": [],
   "source": [
    "data_path = 'tmp'"
   ]
  },
  {
   "cell_type": "markdown",
   "id": "1c425106-369e-481e-9812-df054e5f13bd",
   "metadata": {},
   "source": [
    "# scDog"
   ]
  },
  {
   "cell_type": "markdown",
   "id": "66321c1c",
   "metadata": {},
   "source": [
    "### Functions for Pearson correlation"
   ]
  },
  {
   "cell_type": "code",
   "execution_count": 3,
   "id": "3792ec64-388a-4677-80d3-2b6624ad5da2",
   "metadata": {
    "tags": []
   },
   "outputs": [],
   "source": [
    "def stack_and_pearson(x,y):\n",
    "    return torch.corrcoef(torch.stack([x,y]))[0,1]\n",
    "batched_pearson = torch.vmap(stack_and_pearson, chunk_size=1)\n",
    "\n",
    "def predict(model, seqs, seqs_rev_comp, conv_weights, conv_biases, bins_to_predict = None):\n",
    "    bs = seqs.shape[0]\n",
    "    assert bs == 1\n",
    "    with torch.no_grad():\n",
    "        with torch.autocast(\"cuda\"):\n",
    "            outputs = model.forward_sequence_w_convs(seqs, conv_weights, conv_biases, bins_to_predict = bins_to_predict)\n",
    "            if bins_to_predict is not None:\n",
    "                outputs_rev_comp = model.forward_sequence_w_convs(seqs_rev_comp, conv_weights, conv_biases, bins_to_predict = (6143 - bins_to_predict))\n",
    "            else:\n",
    "                outputs_rev_comp = model.forward_sequence_w_convs(seqs_rev_comp, conv_weights, conv_biases, bins_to_predict = None)\n",
    "    flipped_version = torch.flip(outputs_rev_comp,(1,-3))\n",
    "    outputs_rev_comp = fix_rev_comp_multiome(flipped_version) #fix_rev_comp2(flipped_version)\n",
    "    #outputs_rev_comp = fix_rev_comp2(flipped_version) #fix_rev_comp2(flipped_version)\n",
    "    return (outputs + outputs_rev_comp)/2"
   ]
  },
  {
   "cell_type": "markdown",
   "id": "0dc94ffa",
   "metadata": {},
   "source": [
    "### Load the model"
   ]
  },
  {
   "cell_type": "code",
   "execution_count": 17,
   "id": "dca50696-f016-4f8f-9e5c-50b5e092e7eb",
   "metadata": {
    "tags": []
   },
   "outputs": [
    {
     "name": "stderr",
     "output_type": "stream",
     "text": [
      "2024-08-26 15:08:37 - WARNING - Detected kernel version 4.18.0, which is below the recommended minimum of 5.5.0; this can cause the process to hang. It is recommended to upgrade the kernel to the minimum version or higher.\n"
     ]
    }
   ],
   "source": [
    "accelerator = Accelerator(step_scheduler_with_optimizer = False)"
   ]
  },
  {
   "cell_type": "code",
   "execution_count": 18,
   "id": "f1235f58-9e9e-42e1-acfa-8ca9c356389b",
   "metadata": {
    "tags": []
   },
   "outputs": [
    {
     "data": {
      "text/plain": [
       "<All keys matched successfully>"
      ]
     },
     "execution_count": 18,
     "metadata": {},
     "output_type": "execute_result"
    }
   ],
   "source": [
    "import pybigtools\n",
    "csb = ScBorzoi(\n",
    "    cell_emb_dim = 14, \n",
    "    n_tracks=3,\n",
    "    embedding_dim = 1920, \n",
    "    return_center_bins_only = True, \n",
    "    disable_cache=False,\n",
    "    use_transform_borzoi_emb=True,#True,\n",
    ")\n",
    "\n",
    "config = LoraConfig(\n",
    "    #r = 64,\n",
    "    #use_rslora = True,\n",
    "    target_modules=r\"(?!separable\\d+).*conv_layer|.*to_q|.*to_v|transformer\\.\\d+\\.1\\.fn\\.1|transformer\\.\\d+\\.1\\.fn\\.4\",\n",
    ")\n",
    "csb = get_peft_model(csb, config)\n",
    "\n",
    "csb.load_state_dict(torch.load(os.path.join(data_path, 'borzoi_saved_models/csb_epoch_20_scDog-neurips-PMseq-4nodrop-softclip5-64cell-normalizeATAC-fixedemb-noneighbors-rightembeddingrightsplit-longer/pytorch_model.bin'))) \n"
   ]
  },
  {
   "cell_type": "code",
   "execution_count": 19,
   "id": "47580d83-dc00-45c1-8e9f-b70720e9e857",
   "metadata": {
    "tags": []
   },
   "outputs": [],
   "source": [
    "clip_soft = 5"
   ]
  },
  {
   "cell_type": "code",
   "execution_count": 20,
   "id": "82cbf3c8-6c1d-411c-a32d-2fa27d64e901",
   "metadata": {
    "tags": []
   },
   "outputs": [],
   "source": [
    "#csb = csb.merge_and_unload()\n",
    "csb = accelerator.prepare(csb)"
   ]
  },
  {
   "cell_type": "code",
   "execution_count": 21,
   "id": "650b4799",
   "metadata": {
    "tags": []
   },
   "outputs": [],
   "source": [
    "context_length = 524288"
   ]
  },
  {
   "cell_type": "markdown",
   "id": "3361e8e9",
   "metadata": {},
   "source": [
    "### Specify genome"
   ]
  },
  {
   "cell_type": "code",
   "execution_count": 22,
   "id": "96a95e9b",
   "metadata": {
    "tags": []
   },
   "outputs": [],
   "source": [
    "gtf_file = os.path.join(data_path, \"gencode.v32.annotation.sorted.gtf.gz\")\n",
    "fasta_file = os.path.join(data_path, 'genome_human.fa')\n",
    "bed_file = os.path.join(data_path, 'sequences.bed')"
   ]
  },
  {
   "cell_type": "markdown",
   "id": "34fc346f",
   "metadata": {},
   "source": [
    "### Load neighbors and embedding"
   ]
  },
  {
   "cell_type": "code",
   "execution_count": 23,
   "id": "880de160",
   "metadata": {
    "tags": []
   },
   "outputs": [],
   "source": [
    "base_path = os.path.join(data_path, 'snapatac', 'pseudobulks_fixed/')"
   ]
  },
  {
   "cell_type": "code",
   "execution_count": 24,
   "id": "935eab00",
   "metadata": {
    "editable": true,
    "slideshow": {
     "slide_type": ""
    },
    "tags": []
   },
   "outputs": [],
   "source": [
    "sample = 'merged'\n",
    "neighbors = scipy.sparse.load_npz(os.path.join(data_path, 'borzoi_training_data_fixed', 'no_neighbors.npz'))\n",
    "embedding = pd.read_parquet(os.path.join(data_path, 'borzoi_training_data_fixed',  'embedding_no_val_genes_new.pq'))"
   ]
  },
  {
   "cell_type": "code",
   "execution_count": 25,
   "id": "d6fe2df5-8186-4acd-8925-5e05c9d553d7",
   "metadata": {
    "tags": []
   },
   "outputs": [],
   "source": [
    "cell_type_index = pd.read_parquet(os.path.join(data_path,  'borzoi_training_data_fixed/celltype_fixed.pq'))\n",
    "cell_type_index['size'] = cell_type_index['cellindex'].apply(lambda x: len(x))"
   ]
  },
  {
   "cell_type": "code",
   "execution_count": 26,
   "id": "39313064-f982-4542-b3a1-bd3293e8285c",
   "metadata": {
    "tags": []
   },
   "outputs": [],
   "source": [
    "cell_type_index['celltype'] = cell_type_index['celltype'].str.replace(' ', '_').replace(r\"G/M_prog\", \"G+M_prog\").replace(\"MK/E_prog\", \"MK+E_prog\") #+ '_filtered'\n",
    "cell_type_index = cell_type_index.sort_values('celltype')"
   ]
  },
  {
   "cell_type": "markdown",
   "id": "8fe4caae-404f-49eb-b42b-b618c467239c",
   "metadata": {
    "editable": true,
    "slideshow": {
     "slide_type": ""
    },
    "tags": []
   },
   "source": [
    "## Eval on Val"
   ]
  },
  {
   "cell_type": "markdown",
   "id": "d3288ac9",
   "metadata": {},
   "source": [
    "### Sequence dataloader "
   ]
  },
  {
   "cell_type": "markdown",
   "id": "807a1161",
   "metadata": {},
   "source": [
    "This only loads the sequences in the right order"
   ]
  },
  {
   "cell_type": "code",
   "execution_count": 27,
   "id": "1f4aae4b-5839-4e3d-ae25-f42afa2829ee",
   "metadata": {
    "tags": []
   },
   "outputs": [],
   "source": [
    "import pickle\n",
    "with open(os.path.join(data_path, 'gencode.v32.annotation.gtf.transcriptome'), 'rb') as handle:\n",
    "    transcriptome = pickle.load(handle)"
   ]
  },
  {
   "cell_type": "code",
   "execution_count": 28,
   "id": "e999df94-2164-4271-a45e-5a29c1495b4e",
   "metadata": {
    "editable": true,
    "slideshow": {
     "slide_type": ""
    },
    "tags": []
   },
   "outputs": [
    {
     "data": {
      "text/plain": [
       "2550"
      ]
     },
     "execution_count": 28,
     "metadata": {},
     "output_type": "execute_result"
    }
   ],
   "source": [
    "import polars as pl\n",
    "filter_val = lambda df: df.filter(True)#\n",
    "val_ds = GenomeIntervalDataset(\n",
    "    bed_file = os.path.join(data_path,'borzoi_training_data_fixed', 'test_gene_sequences.csv'),\n",
    "    fasta_file = fasta_file,\n",
    "    filter_df_fn = lambda df: df.filter((pl.col('column_2') >=0)), \n",
    "    return_seq_indices = False,\n",
    "    shift_augs = (0,0),\n",
    "    rc_aug = False,\n",
    "    return_augs = True,\n",
    "    context_length = context_length,\n",
    "    chr_bed_to_fasta_map = {}\n",
    ")\n",
    "len(val_ds)"
   ]
  },
  {
   "cell_type": "code",
   "execution_count": 29,
   "id": "71736343-42dc-4b13-b0da-162ad5249823",
   "metadata": {
    "tags": []
   },
   "outputs": [
    {
     "data": {
      "text/plain": [
       "5"
      ]
     },
     "execution_count": 29,
     "metadata": {},
     "output_type": "execute_result"
    }
   ],
   "source": [
    "val_dataset = onTheFlyDataset(\n",
    "    None,\n",
    "    None,\n",
    "    neighbors,\n",
    "    embedding,\n",
    "    val_ds,\n",
    "    get_targets= False,\n",
    "    random_cells = False,\n",
    "    cells_to_run = None, \n",
    "    clip_soft = clip_soft,\n",
    "    )\n",
    "val_loader = DataLoader(val_dataset, batch_size=1, shuffle = False, num_workers = 1)\n",
    "csb, val_loader = accelerator.prepare(csb, val_loader)\n",
    "clip_soft"
   ]
  },
  {
   "cell_type": "markdown",
   "id": "e6dd3798",
   "metadata": {},
   "source": [
    "### Target dataloader on bigwig pseudobulk files"
   ]
  },
  {
   "cell_type": "code",
   "execution_count": 30,
   "id": "3272f7d0-90ed-47bf-8ed7-fbc784ac03c0",
   "metadata": {
    "tags": []
   },
   "outputs": [],
   "source": [
    "val_dataset_targets = onTheFlyPseudobulkDataset(\n",
    "    cell_types = cell_type_index['celltype'].values,\n",
    "    ds = val_ds, \n",
    "    base_path = base_path,\n",
    ")"
   ]
  },
  {
   "cell_type": "markdown",
   "id": "15ddc19e",
   "metadata": {},
   "source": [
    "### Get cell conv_weights for all cells"
   ]
  },
  {
   "cell_type": "code",
   "execution_count": 31,
   "id": "3aff6db9-447f-42a9-b34a-6d37f9974b56",
   "metadata": {
    "editable": true,
    "slideshow": {
     "slide_type": ""
    },
    "tags": []
   },
   "outputs": [],
   "source": [
    "csb.eval()\n",
    "cell_indices  = []\n",
    "size_factors_per_ct = []\n",
    "for _, row in tqdm.tqdm(cell_type_index.iterrows(),disable = True):\n",
    "    cell_indices.append(\n",
    "        torch.from_numpy(\n",
    "            np.vstack(\n",
    "                embedding.iloc[row['cellindex']]['embedding'].values # gets embeddings of all cells of the cell type\n",
    "                )\n",
    "            ).unsqueeze(0)\n",
    "        ) # prep cell_embeddings\n",
    "\n",
    "# get conv weights and biases for all cells sorted by cell type in a list\n",
    "cell_emb_conv_weights_and_biases = []\n",
    "for cell_emb_idx in tqdm.tqdm(cell_indices, disable = True):\n",
    "    cell_emb_idx = cell_emb_idx.cuda()\n",
    "    conv_weights, conv_biases = csb.forward_cell_embs_only(cell_emb_idx)\n",
    "    cell_emb_conv_weights_and_biases.append((conv_weights, conv_biases))\n"
   ]
  },
  {
   "cell_type": "markdown",
   "id": "3892c28a",
   "metadata": {},
   "source": [
    "### Get counts over exons"
   ]
  },
  {
   "cell_type": "code",
   "execution_count": 18,
   "id": "ae5a22bb-bad8-4229-8f9d-11f6c5a4b6bd",
   "metadata": {},
   "outputs": [
    {
     "name": "stderr",
     "output_type": "stream",
     "text": [
      "100%|██████████| 2550/2550 [19:44<00:00,  2.15it/s]\n"
     ]
    }
   ],
   "source": [
    "#num_neighbors = 100\n",
    "num_neighbors = 1\n",
    "\n",
    "all_outputs, all_targets = [], []\n",
    "val_dataset_target_loader = iter(DataLoader(val_dataset_targets, batch_size=1, shuffle = False, num_workers = 4))\n",
    "\n",
    "# iterate over all val gene sequences\n",
    "for i,x in tqdm.tqdm(enumerate(val_loader), disable = False, total=len(val_dataset)):\n",
    "    gene_slice, strand = get_gene_slice_and_strand(transcriptome, val_dataset_targets.genome_ds.df[i, 'column_4'], val_dataset_targets.genome_ds.df[i, 'column_2'], span = False)\n",
    "    targets = (next(val_dataset_target_loader)[2]).float().cuda()\n",
    "    if len(gene_slice) == 0:\n",
    "        continue\n",
    "    \n",
    "    bs = x[0].shape[0]\n",
    "    seqs = x[0].cuda().permute(0,2,1)\n",
    "    stacked_outputs = []\n",
    "\n",
    "    stacked_outputs = get_pseudobulk_count_pred(\n",
    "        csb = csb, \n",
    "        seqs = seqs, \n",
    "        cell_emb_conv_weights_and_biases = cell_emb_conv_weights_and_biases, \n",
    "        gene_slice = gene_slice,\n",
    "        strand = strand, \n",
    "        model_type = \"multiome\",\n",
    "        predict = predict,  \n",
    "        clip_soft = clip_soft, \n",
    "        num_neighbors = 1\n",
    "    )\n",
    "    \n",
    "    temp_stack = []\n",
    "    all_outputs.append(stacked_outputs)\n",
    "    if strand == '+':\n",
    "        all_targets.append(undo_squashed_scale(targets[0, gene_slice, ::2], clip_soft=384).sum(axis=0).detach().clone().cpu().squeeze())\n",
    "    elif strand == '-':\n",
    "        all_targets.append(undo_squashed_scale(targets[0, gene_slice, 1::2], clip_soft=384).sum(axis=0).detach().clone().cpu().squeeze())\n",
    "    \n",
    "    \n",
    "all_outputs, all_targets = torch.vstack(all_outputs).clone().numpy(force=True),torch.vstack(all_targets).clone().numpy(force=True)"
   ]
  },
  {
   "cell_type": "code",
   "execution_count": 32,
   "id": "cbe18e2d-d3df-4eb2-83f3-2208f200dd67",
   "metadata": {},
   "outputs": [
    {
     "name": "stderr",
     "output_type": "stream",
     "text": [
      "100%|██████████| 2550/2550 [00:42<00:00, 59.76it/s]\n"
     ]
    }
   ],
   "source": [
    "num_neighbors = 1\n",
    "\n",
    "gene_names = []\n",
    "# iterate over all val gene sequences\n",
    "for i,x in tqdm.tqdm(enumerate(val_loader), disable = False, total=len(val_dataset)):\n",
    "    #if i == 20:\n",
    "    #    break\n",
    "    gene_slice, strand = get_gene_slice_and_strand(transcriptome, val_dataset_targets.genome_ds.df[i, 'column_4'], val_dataset_targets.genome_ds.df[i, 'column_2'], span = False)\n",
    "    if len(gene_slice) == 0:\n",
    "        continue\n",
    "    gene_names.append(val_dataset_targets.genome_ds.df[i, 'column_4'])"
   ]
  },
  {
   "cell_type": "code",
   "execution_count": null,
   "id": "49a2f65d-ab71-480c-ae2e-db5c4de98f66",
   "metadata": {},
   "outputs": [],
   "source": [
    "torch.save(all_outputs, os.path.join(data_path, \"eval_fixed/count_predicted_test_no_neighbor.pq\"))\n",
    "torch.save(all_targets, os.path.join(data_path, \"eval_fixed/count_target_test_no_neighbor.pq\"))"
   ]
  },
  {
   "cell_type": "code",
   "execution_count": null,
   "id": "c86cf335-38f4-40a4-a6c9-86eb0546fd07",
   "metadata": {},
   "outputs": [],
   "source": [
    "torch.save(all_targets, os.path.join(data_path, \"eval_fixed/count_target_test_no_neighbor.pq\"))"
   ]
  },
  {
   "cell_type": "code",
   "execution_count": 36,
   "id": "cb713748-25cc-456a-b4b6-340a2f3cdfd8",
   "metadata": {},
   "outputs": [],
   "source": [
    "pd.DataFrame(gene_names).to_parquet(os.path.join(data_path,\"eval_fixed/gene_names.pq\"))"
   ]
  }
 ],
 "metadata": {
  "kernelspec": {
   "display_name": "Python [conda env:anaconda-borzoi-pytorch]",
   "language": "python",
   "name": "conda-env-anaconda-borzoi-pytorch-py"
  },
  "language_info": {
   "codemirror_mode": {
    "name": "ipython",
    "version": 3
   },
   "file_extension": ".py",
   "mimetype": "text/x-python",
   "name": "python",
   "nbconvert_exporter": "python",
   "pygments_lexer": "ipython3",
   "version": "3.9.18"
  }
 },
 "nbformat": 4,
 "nbformat_minor": 5
}
