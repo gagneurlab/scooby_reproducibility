{
 "cells": [
  {
   "cell_type": "code",
   "execution_count": 1,
   "id": "43fa39e0-77a8-42a4-b941-d0b977730156",
   "metadata": {},
   "outputs": [],
   "source": [
    "import scanpy as sc\n",
    "import os\n",
    "import numpy as np\n",
    "import scipy\n",
    "import seaborn as sns\n",
    "import matplotlib.pyplot as plt\n",
    "import pandas as pd"
   ]
  },
  {
   "cell_type": "code",
   "execution_count": 2,
   "id": "94d3ba54-bf72-440e-85a4-a27236fe5a2c",
   "metadata": {},
   "outputs": [],
   "source": [
    "data_path = '/s/project/QNA/scborzoi/submission_data/'\n",
    "adata = sc.read(\n",
    "    os.path.join(data_path, 'bmmc_multiome_multivi_neurips21_curated_new_palantir_fixed.h5ad'))"
   ]
  },
  {
   "cell_type": "code",
   "execution_count": 3,
   "id": "2cf3f00b-1fe1-4156-a7af-8ffc44c048cb",
   "metadata": {},
   "outputs": [],
   "source": [
    "adata_schwessinger = sc.read(os.path.join(data_path, 'schwessinger', 'adata_processed_schwessinger_preds_40epochs.h5ad'))"
   ]
  },
  {
   "cell_type": "code",
   "execution_count": 4,
   "id": "a2d0a083-c74c-4dda-abda-79de0af400c4",
   "metadata": {},
   "outputs": [],
   "source": [
    "test_schwessinger = adata_schwessinger[adata_schwessinger.obs['enf_set'] == 'test']"
   ]
  },
  {
   "cell_type": "code",
   "execution_count": 5,
   "id": "82d4aca2-8247-4383-a8f3-1ad899843624",
   "metadata": {},
   "outputs": [],
   "source": [
    "genes = pd.read_table(os.path.join(data_path, 'schwessinger', 'test_overlap_schwessinger_gene_sequences.csv'), header=None)"
   ]
  },
  {
   "cell_type": "code",
   "execution_count": 6,
   "id": "7c6581aa-c734-46fc-b1e1-e6e87514c9fb",
   "metadata": {},
   "outputs": [],
   "source": [
    "all_outputs = []\n",
    "all_targets = []\n",
    "for ct in adata.obs.l2_cell_type.unique():\n",
    "    all_outputs.append(test_schwessinger[test_schwessinger.obs.gene_name.isin(genes[3]),test_schwessinger.var.l2_cell_type == ct].layers['predicted'].sum(axis = 1))\n",
    "    all_targets.append(test_schwessinger[test_schwessinger.obs.gene_name.isin(genes[3]),test_schwessinger.var.l2_cell_type == ct].X.A.sum(axis = 1))"
   ]
  },
  {
   "cell_type": "code",
   "execution_count": 7,
   "id": "65d7a946-c664-4d1a-bfac-9133de4dd497",
   "metadata": {},
   "outputs": [],
   "source": [
    "all_outputs = np.vstack(all_outputs).T\n",
    "all_targets = np.vstack(all_targets).T"
   ]
  },
  {
   "cell_type": "code",
   "execution_count": 8,
   "id": "6211fa1b-b70e-4403-9590-1952a135be6e",
   "metadata": {},
   "outputs": [],
   "source": [
    "spearmanr = [\n",
    "    scipy.stats.spearmanr(np.log2(all_outputs[:, i] + 1), \n",
    "                          np.log2(all_targets[:, i] + 1))[0] for i in range(all_outputs.shape[1])\n",
    "]\n",
    "pearsonr =  [\n",
    "    scipy.stats.pearsonr (np.log2(all_outputs[:, i] + 1), \n",
    "                          np.log2(all_targets[:, i] + 1))[0] for i in range(all_outputs.shape[1])]"
   ]
  },
  {
   "cell_type": "code",
   "execution_count": 9,
   "id": "08ffe62f-e375-452f-8617-e4e8927f5b57",
   "metadata": {},
   "outputs": [],
   "source": [
    "# log2(x+1)\n",
    "counts_predicted_log = np.log2(pd.DataFrame(all_outputs) + 1) \n",
    "# substract mean per gene across all cell types\n",
    "counts_predicted_log = counts_predicted_log - counts_predicted_log.mean(axis=0)\n",
    "\n",
    "#substract mean per cell type across all genes\n",
    "counts_predicted_log = counts_predicted_log.subtract(counts_predicted_log.mean(axis=1), axis=0)"
   ]
  },
  {
   "cell_type": "code",
   "execution_count": 10,
   "id": "26d6be5a-ba78-42a7-94a9-381d86a34744",
   "metadata": {},
   "outputs": [],
   "source": [
    "counts_target_log =np.log2(pd.DataFrame(all_targets) + 1)# pd.read_parquet(\"/data/ceph/hdd/project/node_08/QNA/scborzoi/neurips_bone_marrow/eval/count_target_log.parquet\")# np.log2(pd.DataFrame(all_targets) + 1)\n",
    "#counts_target_log = counts_target_log.drop(16, axis = 1) #remove other myloids?\n",
    "counts_target_log = counts_target_log - counts_target_log.mean(axis=0)\n",
    "\n",
    "counts_target_log = counts_target_log.subtract(counts_target_log.mean(axis=1), axis=0)"
   ]
  },
  {
   "cell_type": "code",
   "execution_count": 11,
   "id": "85db0448-da27-4c15-bc83-546a97f90712",
   "metadata": {},
   "outputs": [],
   "source": [
    "schwessinger = {'across_genes_spearman': spearmanr, 'across_genes_pearson': pearsonr, 'across_cells': scipy.stats.pearsonr(counts_predicted_log.values.ravel(), counts_target_log.values.ravel())[0]}"
   ]
  },
  {
   "cell_type": "markdown",
   "id": "b12d7925-7429-43d0-9a9a-0ef296d833dd",
   "metadata": {},
   "source": [
    "# General Imports"
   ]
  },
  {
   "cell_type": "code",
   "execution_count": 28,
   "id": "5e00ed61-071f-4938-bcec-c17764083bea",
   "metadata": {
    "editable": true,
    "slideshow": {
     "slide_type": ""
    },
    "tags": []
   },
   "outputs": [],
   "source": [
    "import os\n",
    "\n",
    "import numpy as np\n",
    "import pandas as pd\n",
    "import scipy\n",
    "import torch\n",
    "import tqdm\n",
    "from accelerate import Accelerator\n",
    "import polars as pl\n",
    "\n",
    "from torch.utils.data import DataLoader\n",
    "\n",
    "from enformer_pytorch.data import GenomeIntervalDataset\n",
    "\n",
    "from scooby.modeling import Scooby\n",
    "from scooby.data import onTheFlyDataset, onTheFlyPseudobulkDataset\n",
    "from scooby.utils.utils import fix_rev_comp_multiome, undo_squashed_scale, get_pseudobulk_count_pred, get_gene_slice_and_strand\n",
    "from scooby.utils.transcriptome import Transcriptome"
   ]
  },
  {
   "cell_type": "markdown",
   "id": "fd7ace2f-b58a-4fea-9c8f-793bb383e121",
   "metadata": {},
   "source": [
    "# scDog"
   ]
  },
  {
   "cell_type": "markdown",
   "id": "158ac67e-1ac8-4448-9cbc-59c8f1c73c63",
   "metadata": {},
   "source": [
    "### Functions for Pearson correlation"
   ]
  },
  {
   "cell_type": "code",
   "execution_count": 13,
   "id": "3792ec64-388a-4677-80d3-2b6624ad5da2",
   "metadata": {
    "tags": []
   },
   "outputs": [],
   "source": [
    "def stack_and_pearson(x,y):\n",
    "    return torch.corrcoef(torch.stack([x,y]))[0,1]\n",
    "batched_pearson = torch.vmap(stack_and_pearson, chunk_size=1)\n",
    "\n",
    "def predict(model, seqs, seqs_rev_comp, conv_weights, conv_biases, bins_to_predict = None):\n",
    "    bs = seqs.shape[0]\n",
    "    assert bs == 1\n",
    "    with torch.no_grad():\n",
    "        with torch.autocast(\"cuda\"):\n",
    "            outputs = model.forward_sequence_w_convs(seqs, conv_weights, conv_biases, bins_to_predict = bins_to_predict)\n",
    "            if bins_to_predict is not None:\n",
    "                outputs_rev_comp = model.forward_sequence_w_convs(seqs_rev_comp, conv_weights, conv_biases, bins_to_predict = (6143 - bins_to_predict))\n",
    "            else:\n",
    "                outputs_rev_comp = model.forward_sequence_w_convs(seqs_rev_comp, conv_weights, conv_biases, bins_to_predict = None)\n",
    "    flipped_version = torch.flip(outputs_rev_comp,(1,-3))\n",
    "    outputs_rev_comp = fix_rev_comp_multiome(flipped_version) #fix_rev_comp2(flipped_version)\n",
    "\n",
    "    return (outputs + outputs_rev_comp)/2"
   ]
  },
  {
   "cell_type": "markdown",
   "id": "ab69d6e4-8959-4624-b56d-ccbaeffcc8d3",
   "metadata": {},
   "source": [
    "### Load the model"
   ]
  },
  {
   "cell_type": "code",
   "execution_count": 14,
   "id": "dca50696-f016-4f8f-9e5c-50b5e092e7eb",
   "metadata": {
    "tags": []
   },
   "outputs": [
    {
     "name": "stderr",
     "output_type": "stream",
     "text": [
      "Detected kernel version 4.18.0, which is below the recommended minimum of 5.5.0; this can cause the process to hang. It is recommended to upgrade the kernel to the minimum version or higher.\n"
     ]
    }
   ],
   "source": [
    "accelerator = Accelerator(step_scheduler_with_optimizer = False)"
   ]
  },
  {
   "cell_type": "markdown",
   "id": "d3052080-333b-4bfe-b34a-939b47f582a2",
   "metadata": {},
   "source": [
    "#### Load pretrained scooby from the hub"
   ]
  },
  {
   "cell_type": "code",
   "execution_count": 16,
   "id": "926d0519-725d-4188-8d87-4b1442a099b1",
   "metadata": {},
   "outputs": [],
   "source": [
    "csb = Scooby.from_pretrained(\n",
    "    'johahi/neurips-scooby',\n",
    "    cell_emb_dim=14,\n",
    "    embedding_dim=1920,\n",
    "    n_tracks=3,\n",
    "    return_center_bins_only=True,\n",
    "    disable_cache=False,\n",
    "    use_transform_borzoi_emb=True,\n",
    ")"
   ]
  },
  {
   "cell_type": "code",
   "execution_count": 17,
   "id": "47580d83-dc00-45c1-8e9f-b70720e9e857",
   "metadata": {
    "tags": []
   },
   "outputs": [],
   "source": [
    "clip_soft = 5"
   ]
  },
  {
   "cell_type": "code",
   "execution_count": 18,
   "id": "10b5acb4-b7ae-4394-b69a-0b43ddc3bd33",
   "metadata": {},
   "outputs": [],
   "source": [
    "csb = accelerator.prepare(csb)"
   ]
  },
  {
   "cell_type": "code",
   "execution_count": 19,
   "id": "650b4799",
   "metadata": {
    "tags": []
   },
   "outputs": [],
   "source": [
    "context_length  = 524288"
   ]
  },
  {
   "cell_type": "markdown",
   "id": "fb69bbc4-2d44-4095-9784-7443f6c8ce2f",
   "metadata": {},
   "source": [
    "### Specify genome"
   ]
  },
  {
   "cell_type": "code",
   "execution_count": 20,
   "id": "96a95e9b",
   "metadata": {
    "tags": []
   },
   "outputs": [],
   "source": [
    "gtf_file = os.path.join(data_path, \"gencode.v32.annotation.sorted.gtf.gz\")\n",
    "fasta_file = os.path.join(data_path, \"scooby_training_data\", \"genome_human.fa\")\n",
    "bed_file = os.path.join(data_path, \"scooby_training_data\", \"sequences.bed\")"
   ]
  },
  {
   "cell_type": "markdown",
   "id": "dadd853f-ca47-47b9-991e-f7d3511f4bb3",
   "metadata": {},
   "source": [
    "### Load neighbors and embedding"
   ]
  },
  {
   "cell_type": "code",
   "execution_count": 21,
   "id": "880de160",
   "metadata": {
    "tags": []
   },
   "outputs": [],
   "source": [
    "base_path = os.path.join(data_path, 'scooby_training_data', 'pseudobulks')"
   ]
  },
  {
   "cell_type": "code",
   "execution_count": 22,
   "id": "935eab00",
   "metadata": {
    "editable": true,
    "slideshow": {
     "slide_type": ""
    },
    "tags": []
   },
   "outputs": [],
   "source": [
    "neighbors = scipy.sparse.load_npz(os.path.join(data_path, 'scooby_training_data', 'no_neighbors.npz'))\n",
    "embedding = pd.read_parquet(os.path.join(data_path, 'scooby_training_data',  'embedding_no_val_genes_new.pq'))"
   ]
  },
  {
   "cell_type": "code",
   "execution_count": 23,
   "id": "d6fe2df5-8186-4acd-8925-5e05c9d553d7",
   "metadata": {
    "tags": []
   },
   "outputs": [],
   "source": [
    "cell_type_index = pd.read_parquet(os.path.join(data_path,  'scooby_training_data', 'celltype_fixed.pq'))\n",
    "cell_type_index['size'] = cell_type_index['cellindex'].apply(lambda x: len(x))"
   ]
  },
  {
   "cell_type": "code",
   "execution_count": 24,
   "id": "39313064-f982-4542-b3a1-bd3293e8285c",
   "metadata": {
    "tags": []
   },
   "outputs": [],
   "source": [
    "cell_type_index['celltype'] = cell_type_index['celltype'].str.replace(' ', '_').replace(r\"G/M_prog\", \"G+M_prog\").replace(\"MK/E_prog\", \"MK+E_prog\") #+ '_filtered'\n",
    "cell_type_index = cell_type_index.sort_values('celltype')"
   ]
  },
  {
   "cell_type": "markdown",
   "id": "8f5fbd42-4255-4400-88b0-1876c5dd3b5d",
   "metadata": {
    "editable": true,
    "slideshow": {
     "slide_type": ""
    },
    "tags": []
   },
   "source": [
    "## Eval on Val"
   ]
  },
  {
   "cell_type": "markdown",
   "id": "2f8e88c6-153d-4c25-8c8b-a9875c604bab",
   "metadata": {},
   "source": [
    "### Sequence dataloader "
   ]
  },
  {
   "cell_type": "markdown",
   "id": "3dd4960f-d18a-40e7-948c-e46194662f98",
   "metadata": {},
   "source": [
    "This only loads the sequences in the right order"
   ]
  },
  {
   "cell_type": "code",
   "execution_count": 29,
   "id": "1f4aae4b-5839-4e3d-ae25-f42afa2829ee",
   "metadata": {
    "tags": []
   },
   "outputs": [],
   "source": [
    "transcriptome = Transcriptome(gtf_file)"
   ]
  },
  {
   "cell_type": "code",
   "execution_count": 30,
   "id": "e999df94-2164-4271-a45e-5a29c1495b4e",
   "metadata": {
    "editable": true,
    "slideshow": {
     "slide_type": ""
    },
    "tags": []
   },
   "outputs": [
    {
     "data": {
      "text/plain": [
       "153"
      ]
     },
     "execution_count": 30,
     "metadata": {},
     "output_type": "execute_result"
    }
   ],
   "source": [
    "filter_val = lambda df: df.filter(True)#\n",
    "val_ds = GenomeIntervalDataset(\n",
    "    bed_file = os.path.join(data_path,'schwessinger', 'test_overlap_schwessinger_gene_sequences.csv'),\n",
    "    fasta_file = fasta_file,\n",
    "    filter_df_fn = lambda df: df.filter((pl.col('column_2') >=0)), #TODO REMOVE ME maybe\n",
    "    return_seq_indices = False,\n",
    "    shift_augs = (0,0),\n",
    "    rc_aug = False,\n",
    "    return_augs = True,\n",
    "    context_length = context_length,\n",
    "    chr_bed_to_fasta_map = {}\n",
    ")\n",
    "len(val_ds)"
   ]
  },
  {
   "cell_type": "code",
   "execution_count": 31,
   "id": "71736343-42dc-4b13-b0da-162ad5249823",
   "metadata": {
    "tags": []
   },
   "outputs": [
    {
     "data": {
      "text/plain": [
       "5"
      ]
     },
     "execution_count": 31,
     "metadata": {},
     "output_type": "execute_result"
    }
   ],
   "source": [
    "val_dataset = onTheFlyDataset(\n",
    "    None,\n",
    "    None,\n",
    "    neighbors,\n",
    "    embedding,\n",
    "    val_ds,\n",
    "    get_targets= False,\n",
    "    random_cells = False,\n",
    "    cells_to_run = None, \n",
    "    clip_soft = clip_soft,\n",
    "    )\n",
    "val_loader = DataLoader(val_dataset, batch_size=1, shuffle = False, num_workers = 1)\n",
    "csb, val_loader = accelerator.prepare(csb, val_loader)\n",
    "clip_soft"
   ]
  },
  {
   "cell_type": "markdown",
   "id": "481a11b5-7961-4809-8486-a381fe7815ec",
   "metadata": {},
   "source": [
    "### Target dataloader on bigwig pseudobulk files"
   ]
  },
  {
   "cell_type": "code",
   "execution_count": 32,
   "id": "3272f7d0-90ed-47bf-8ed7-fbc784ac03c0",
   "metadata": {
    "tags": []
   },
   "outputs": [],
   "source": [
    "val_dataset_targets = onTheFlyPseudobulkDataset(\n",
    "    cell_types = cell_type_index['celltype'].values,\n",
    "    ds = val_ds, \n",
    "    base_path = base_path,\n",
    "    #seqlevelstyle=\"ENSEMBL\"\n",
    ")"
   ]
  },
  {
   "cell_type": "markdown",
   "id": "62323cf8-2d09-4371-9a56-6efd67eaad8f",
   "metadata": {},
   "source": [
    "### Get cell conv_weights for all cells"
   ]
  },
  {
   "cell_type": "code",
   "execution_count": 33,
   "id": "3aff6db9-447f-42a9-b34a-6d37f9974b56",
   "metadata": {
    "editable": true,
    "slideshow": {
     "slide_type": ""
    },
    "tags": []
   },
   "outputs": [],
   "source": [
    "# cell_type_index contains index of cells that belong to one cell type\n",
    "# cell_indices contains the embeddings of all cells belonging to a cell type\n",
    "\n",
    "csb.eval()\n",
    "cell_indices  = []\n",
    "size_factors_per_ct = []\n",
    "for _, row in tqdm.tqdm(cell_type_index.iterrows(),disable = True):\n",
    "    cell_indices.append(\n",
    "        torch.from_numpy(\n",
    "            np.vstack(\n",
    "                embedding.iloc[row['cellindex']]['embedding'].values # gets embeddings of all cells of the cell type\n",
    "                )\n",
    "            ).unsqueeze(0)\n",
    "        ) # prep cell_embeddings\n",
    "\n",
    "# get conv weights and biases for all cells sorted by cell type in a list\n",
    "cell_emb_conv_weights_and_biases = []\n",
    "for cell_emb_idx in tqdm.tqdm(cell_indices, disable = True):\n",
    "    cell_emb_idx = cell_emb_idx.cuda()\n",
    "    conv_weights, conv_biases = csb.forward_cell_embs_only(cell_emb_idx)\n",
    "    cell_emb_conv_weights_and_biases.append((conv_weights, conv_biases))\n"
   ]
  },
  {
   "cell_type": "markdown",
   "id": "d8d8b5f5-1152-45d8-afe6-8bb901a05cef",
   "metadata": {},
   "source": [
    "### Get counts over exons"
   ]
  },
  {
   "cell_type": "code",
   "execution_count": 34,
   "id": "ae5a22bb-bad8-4229-8f9d-11f6c5a4b6bd",
   "metadata": {},
   "outputs": [
    {
     "name": "stderr",
     "output_type": "stream",
     "text": [
      "100%|██████████| 153/153 [01:05<00:00,  2.33it/s]\n"
     ]
    }
   ],
   "source": [
    "#num_neighbors = 100\n",
    "num_neighbors = 1\n",
    "\n",
    "all_outputs, all_targets = [], []\n",
    "val_dataset_target_loader = iter(DataLoader(val_dataset_targets, batch_size=1, shuffle = False, num_workers = 4))\n",
    "\n",
    "# iterate over all val gene sequences\n",
    "for i,x in tqdm.tqdm(enumerate(val_loader), disable = False, total=len(val_dataset)):\n",
    "    gene_slice, strand = get_gene_slice_and_strand(transcriptome, val_dataset_targets.genome_ds.df[i, 'column_4'], val_dataset_targets.genome_ds.df[i, 'column_2'], span = False)\n",
    "    targets = (next(val_dataset_target_loader)[2]).float().cuda()\n",
    "    if len(gene_slice) == 0:\n",
    "        continue\n",
    "    \n",
    "    bs = x[0].shape[0]\n",
    "    seqs = x[0].cuda().permute(0,2,1)\n",
    "    stacked_outputs = []\n",
    "\n",
    "    stacked_outputs = get_pseudobulk_count_pred(\n",
    "        csb = csb, \n",
    "        seqs = seqs, \n",
    "        cell_emb_conv_weights_and_biases = cell_emb_conv_weights_and_biases, \n",
    "        gene_slice = gene_slice,\n",
    "        strand = strand, \n",
    "        model_type = \"multiome\",\n",
    "        predict = predict,  \n",
    "        clip_soft = clip_soft, \n",
    "        num_neighbors = 1\n",
    "    )\n",
    "    \n",
    "    temp_stack = []\n",
    "    all_outputs.append(stacked_outputs)\n",
    "    if strand == '+':\n",
    "        all_targets.append(undo_squashed_scale(targets[0, gene_slice, ::2], clip_soft=384).sum(axis=0).detach().clone().cpu().squeeze())\n",
    "    elif strand == '-':\n",
    "        all_targets.append(undo_squashed_scale(targets[0, gene_slice, 1::2], clip_soft=384).sum(axis=0).detach().clone().cpu().squeeze())\n",
    "    \n",
    "    \n",
    "all_outputs, all_targets = torch.vstack(all_outputs).clone().numpy(force=True),torch.vstack(all_targets).clone().numpy(force=True)"
   ]
  },
  {
   "cell_type": "code",
   "execution_count": 35,
   "id": "cbe18e2d-d3df-4eb2-83f3-2208f200dd67",
   "metadata": {},
   "outputs": [
    {
     "name": "stderr",
     "output_type": "stream",
     "text": [
      "100%|██████████| 153/153 [00:03<00:00, 47.24it/s]\n"
     ]
    }
   ],
   "source": [
    "#num_neighbors = 100\n",
    "num_neighbors = 1\n",
    "\n",
    "gene_names = []\n",
    "# iterate over all val gene sequences\n",
    "for i,x in tqdm.tqdm(enumerate(val_loader), disable = False, total=len(val_dataset)):\n",
    "    gene_slice, strand = get_gene_slice_and_strand(transcriptome, val_dataset_targets.genome_ds.df[i, 'column_4'], val_dataset_targets.genome_ds.df[i, 'column_2'], span = False)\n",
    "    if len(gene_slice) == 0:\n",
    "        continue\n",
    "    gene_names.append(val_dataset_targets.genome_ds.df[i, 'column_4'])"
   ]
  },
  {
   "cell_type": "markdown",
   "id": "0ee6b28d-8e74-4d58-a205-8de1c5fc108a",
   "metadata": {
    "tags": []
   },
   "source": [
    "### Evaluation across gene"
   ]
  },
  {
   "cell_type": "code",
   "execution_count": 36,
   "id": "8db23001-b056-4832-99bb-176c38ee6e99",
   "metadata": {
    "tags": []
   },
   "outputs": [],
   "source": [
    "spearmanr = [\n",
    "    scipy.stats.spearmanr(np.log2(all_outputs[:, i] + 1), \n",
    "                          np.log2(all_targets[:, i] + 1))[0] for i in range(all_outputs.shape[1])\n",
    "]\n",
    "pearsonr =  [\n",
    "    scipy.stats.pearsonr (np.log2(all_outputs[:, i] + 1), \n",
    "                          np.log2(all_targets[:, i] + 1))[0] for i in range(all_outputs.shape[1])]"
   ]
  },
  {
   "cell_type": "markdown",
   "id": "dca825b6-fb19-4a6b-b0a2-690959e43f61",
   "metadata": {
    "tags": []
   },
   "source": [
    "### Evaluation across cells"
   ]
  },
  {
   "cell_type": "code",
   "execution_count": 37,
   "id": "546cfdbd-9cd8-4395-842a-cf51511fabca",
   "metadata": {
    "tags": []
   },
   "outputs": [],
   "source": [
    "# log2(x+1)\n",
    "counts_predicted_log = np.log2(pd.DataFrame(all_outputs) + 1)  \n",
    "# substract mean per gene across all cell types\n",
    "counts_predicted_log = counts_predicted_log - counts_predicted_log.mean(axis=0)\n",
    "\n",
    "#substract mean per cell type across all genes\n",
    "counts_predicted_log = counts_predicted_log.subtract(counts_predicted_log.mean(axis=1), axis=0)"
   ]
  },
  {
   "cell_type": "code",
   "execution_count": 38,
   "id": "dcc164d8-8ffd-4ae2-8a05-80da35668afb",
   "metadata": {
    "tags": []
   },
   "outputs": [],
   "source": [
    "counts_target_log =np.log2(pd.DataFrame(all_targets) + 1)\n",
    "counts_target_log = counts_target_log - counts_target_log.mean(axis=0)\n",
    "\n",
    "counts_target_log = counts_target_log.subtract(counts_target_log.mean(axis=1), axis=0)"
   ]
  },
  {
   "cell_type": "code",
   "execution_count": 39,
   "id": "fbd2402f-43b0-43fc-a865-8c4d873f2507",
   "metadata": {},
   "outputs": [],
   "source": [
    "counts_predicted_log.index = gene_names\n",
    "counts_predicted_log.columns = cell_type_index['celltype']"
   ]
  },
  {
   "cell_type": "code",
   "execution_count": 40,
   "id": "465a1792-3c8d-42b2-a994-829d001d0aa8",
   "metadata": {},
   "outputs": [],
   "source": [
    "counts_target_log.index = gene_names\n",
    "counts_target_log.columns = cell_type_index['celltype']"
   ]
  },
  {
   "cell_type": "code",
   "execution_count": 42,
   "id": "87a2618c-9ad0-4d21-b87e-1d7ca3ce389e",
   "metadata": {},
   "outputs": [],
   "source": [
    "scooby = {'across_genes_spearman': spearmanr, 'across_genes_pearson': pearsonr, 'across_cells': scipy.stats.pearsonr(counts_predicted_log.values.ravel(), counts_target_log.values.ravel())[0]}"
   ]
  },
  {
   "cell_type": "code",
   "execution_count": 43,
   "id": "4e9ab4cd-9d4c-408e-9065-557f15798b4d",
   "metadata": {},
   "outputs": [],
   "source": [
    "scooby = pd.DataFrame(scooby)"
   ]
  },
  {
   "cell_type": "code",
   "execution_count": 44,
   "id": "94a43327-0318-42b1-8781-e402e3af1ec5",
   "metadata": {},
   "outputs": [],
   "source": [
    "schwessinger = pd.DataFrame(schwessinger)"
   ]
  },
  {
   "cell_type": "code",
   "execution_count": 45,
   "id": "18589572-5b96-4776-a56d-a159169724c3",
   "metadata": {},
   "outputs": [
    {
     "data": {
      "image/png": "[encoded data removed]",
      "text/plain": [
       "<Figure size 500x500 with 1 Axes>"
      ]
     },
     "metadata": {},
     "output_type": "display_data"
    }
   ],
   "source": [
    "fig, ax = plt.subplots(figsize=(5,5))\n",
    "ax = sns.scatterplot(x=schwessinger['across_genes_pearson'], y=scooby['across_genes_pearson'], color='#0742A6')\n",
    "ax.axline((0.69,0.69), (.92, .92))\n",
    "ax.set_ylabel('scooby: Pearson R across genes')\n",
    "ax.set_xlabel('seq2cells: Pearson R across genes')\n",
    "ax.text(0.05,0.9, r\"Mean = \"+ f\"{scooby['across_genes_pearson'].mean():.3f}\\nn = {len(scooby['across_genes_pearson'])}\",  transform = ax.transAxes)\n",
    "ax.text(0.91,0.05, r\"Mean = \"+ f\"{schwessinger['across_genes_pearson'].mean():.3f}\",  transform = ax.transAxes, ha='right')\n",
    "sns.despine()\n",
    "#fig.set_dpi(300)\n",
    "# fig.savefig('../figures/figures/Figure2/across_genes_schwessinger.png', bbox_inches = 'tight')"
   ]
  },
  {
   "cell_type": "code",
   "execution_count": 46,
   "id": "15462c31-da77-4202-82ce-ec27bb70f8c2",
   "metadata": {},
   "outputs": [
    {
     "data": {
      "text/plain": [
       "Text(0, 0.5, 'Pearson R across cells')"
      ]
     },
     "execution_count": 46,
     "metadata": {},
     "output_type": "execute_result"
    },
    {
     "data": {
      "image/png": "[encoded data removed]",
      "text/plain": [
       "<Figure size 500x500 with 1 Axes>"
      ]
     },
     "metadata": {},
     "output_type": "display_data"
    }
   ],
   "source": [
    "fig, ax = plt.subplots(figsize=(5,5))\n",
    "sns.barplot(x=['scooby', 'seq2cells'], y=[scooby['across_cells'].mean(), schwessinger['across_cells'].mean()], color='#0742A6', ax=ax) \n",
    "sns.despine()\n",
    "ax.set_ylabel('Pearson R across cells')\n",
    "#fig.set_dpi(300)\n",
    "# fig.savefig('../figures/figures/Figure2/across_cells_schwessinger.png', bbox_inches = 'tight')"
   ]
  },
  {
   "cell_type": "code",
   "execution_count": null,
   "id": "0de6b2be-221a-4c03-ab21-da79670b5d48",
   "metadata": {},
   "outputs": [],
   "source": []
  }
 ],
 "metadata": {
  "kernelspec": {
   "display_name": "Python [conda env:anaconda-scooby_reproducibility]",
   "language": "python",
   "name": "conda-env-anaconda-scooby_reproducibility-py"
  },
  "language_info": {
   "codemirror_mode": {
    "name": "ipython",
    "version": 3
   },
   "file_extension": ".py",
   "mimetype": "text/x-python",
   "name": "python",
   "nbconvert_exporter": "python",
   "pygments_lexer": "ipython3",
   "version": "3.9.19"
  }
 },
 "nbformat": 4,
 "nbformat_minor": 5
}
